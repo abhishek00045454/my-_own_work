{
  "nbformat": 4,
  "nbformat_minor": 0,
  "metadata": {
    "colab": {
      "provenance": [],
      "authorship_tag": "ABX9TyPx77y+NvhligXFTrpU0C7d",
      "include_colab_link": true
    },
    "kernelspec": {
      "name": "python3",
      "display_name": "Python 3"
    },
    "language_info": {
      "name": "python"
    }
  },
  "cells": [
    {
      "cell_type": "markdown",
      "metadata": {
        "id": "view-in-github",
        "colab_type": "text"
      },
      "source": [
        "<a href=\"https://colab.research.google.com/github/abhishek00045454/my-_own_work/blob/main/PRACTICAL__03.ipynb\" target=\"_parent\"><img src=\"https://colab.research.google.com/assets/colab-badge.svg\" alt=\"Open In Colab\"/></a>"
      ]
    },
    {
      "cell_type": "markdown",
      "source": [
        "##Try except concept\n",
        " "
      ],
      "metadata": {
        "id": "S65ADFmRpm78"
      }
    },
    {
      "cell_type": "code",
      "source": [
        "try:\n",
        "  print(0/100)\n",
        "except:\n",
        "  print(100/2)"
      ],
      "metadata": {
        "colab": {
          "base_uri": "https://localhost:8080/"
        },
        "id": "TyL5apatl9y5",
        "outputId": "525ff202-9b97-4c59-a4a9-cdf2e37bf310"
      },
      "execution_count": null,
      "outputs": [
        {
          "output_type": "stream",
          "name": "stdout",
          "text": [
            "0.0\n"
          ]
        }
      ]
    },
    {
      "cell_type": "code",
      "source": [
        "print(\"hello world\")\n",
        "print(\"abhishek saini\")\n",
        "for i in range(0,20):\n",
        "  if i%2==0:\n",
        "    continue\n",
        "  print(i)\n",
        "try:\n",
        "  print(0/0)\n",
        "except:\n",
        "  print(100/1)\n",
        "print(\"hi, my name is abhishek saini\")"
      ],
      "metadata": {
        "colab": {
          "base_uri": "https://localhost:8080/"
        },
        "id": "hNWcoT1QwfDm",
        "outputId": "daedcd64-9146-43cc-e3d8-3ec7d5edddbd"
      },
      "execution_count": null,
      "outputs": [
        {
          "output_type": "stream",
          "name": "stdout",
          "text": [
            "hello world\n",
            "abhishek saini\n",
            "1\n",
            "3\n",
            "5\n",
            "7\n",
            "9\n",
            "11\n",
            "13\n",
            "15\n",
            "17\n",
            "19\n",
            "100.0\n",
            "hi, my name is abhishek saini\n"
          ]
        }
      ]
    },
    {
      "cell_type": "code",
      "source": [
        "print(\" simple calculator \")\n",
        "a = int(input(\"enter the first number-1 :\"))\n",
        "b = int(input(\"enter the second number-2 :\"))\n",
        "sign = input(\" choice your sign :\")\n",
        "\n",
        "if sign==\"+\":\n",
        "  print(a+b)\n",
        "elif sign==\"*\":\n",
        "  print(a*b)\n",
        "elif sign==\"-\":\n",
        "  print(a-b)\n",
        "elif sign==\"/\":\n",
        "  print(a/b)\n",
        "else:\n",
        "  print(\"invalid answer\")\n",
        "\n",
        "print(\"hello world\"*10, end=\" \")\n",
        "print(\"hi, how are your today ongoing days\")\n",
        "\n",
        "try:\n",
        "  print(100/0)\n",
        "  print(0/0)\n",
        "except :\n",
        "  print(\"hi\")\n",
        "  \n",
        "  print(2/4)\n",
        "  print(100/7)"
      ],
      "metadata": {
        "colab": {
          "base_uri": "https://localhost:8080/"
        },
        "id": "bihn6eDwyxIX",
        "outputId": "8ef46042-a5b7-4385-ba01-c8914e26fbb1"
      },
      "execution_count": null,
      "outputs": [
        {
          "output_type": "stream",
          "name": "stdout",
          "text": [
            " simple calculator \n",
            "enter the first number-1 :45\n",
            "enter the second number-2 :56\n",
            " choice your sign :+\n",
            "101\n",
            "hello worldhello worldhello worldhello worldhello worldhello worldhello worldhello worldhello worldhello world hi, how are your today ongoing days\n",
            "hi\n",
            "0.5\n",
            "14.285714285714286\n"
          ]
        }
      ]
    },
    {
      "cell_type": "code",
      "source": [
        "try:\n",
        "  print(100/0)\n",
        "except ZeroDivisionError as msg:\n",
        "  print(\"this is the type is the \",type(msg))\n",
        "  print(\"this is the type is the \",msg.__class__)\n",
        "  print(\"this is the type is the \",msg.__class__.__name__)\n",
        "  print(\"this is the type is the \",msg) # deafult description automatically called by the compiler \n",
        "  print(7/1)"
      ],
      "metadata": {
        "colab": {
          "base_uri": "https://localhost:8080/"
        },
        "id": "O6FMKriR00xs",
        "outputId": "f2e92b04-05fa-405e-ccc6-f9c9713b4740"
      },
      "execution_count": null,
      "outputs": [
        {
          "output_type": "stream",
          "name": "stdout",
          "text": [
            "this is the type is the  <class 'ZeroDivisionError'>\n",
            "this is the type is the  <class 'ZeroDivisionError'>\n",
            "this is the type is the  ZeroDivisionError\n",
            "this is the type is the  division by zero\n",
            "7.0\n"
          ]
        }
      ]
    },
    {
      "cell_type": "code",
      "source": [
        "try:\n",
        "  x=int(input(\"enter the first number : \"))\n",
        "  y=int(input(\"enter the second numbers \"))\n",
        "  print(\"the result is the \",(x/y))\n",
        "except  BaseException as x:\n",
        "  print(\"the type of exception of \",type(x))\n",
        "  print(\"the type of exception of \",x.__class__)\n",
        "  print(\"the type of exception of \",x.__class__.__name__)\n",
        "  print(\"the description of type is\",x)"
      ],
      "metadata": {
        "colab": {
          "base_uri": "https://localhost:8080/"
        },
        "id": "9CAOroVJ7XGU",
        "outputId": "0fad11a8-ca35-4156-bd05-203b17fdfbd2"
      },
      "execution_count": null,
      "outputs": [
        {
          "output_type": "stream",
          "name": "stdout",
          "text": [
            "enter the first number : 20\n",
            "enter the second numbers two\n",
            "the type of exception of  <class 'ValueError'>\n",
            "the type of exception of  <class 'ValueError'>\n",
            "the type of exception of  ValueError\n",
            "the description of type is invalid literal for int() with base 10: 'two'\n"
          ]
        }
      ]
    },
    {
      "cell_type": "code",
      "source": [
        "try:\n",
        "  x=int(input())\n",
        "  y=int(input())\n",
        "  print(\"the result is \",x/y)\n",
        "except ZeroDivisionError:\n",
        "   print(\"cannot be divide\")\n",
        "except ValueError:\n",
        "  print(\"plz provide int value \")"
      ],
      "metadata": {
        "colab": {
          "base_uri": "https://localhost:8080/"
        },
        "id": "QRRcFGLv-i3i",
        "outputId": "184e108f-8d69-4ab2-d1d5-11dff718e458"
      },
      "execution_count": null,
      "outputs": [
        {
          "output_type": "stream",
          "name": "stdout",
          "text": [
            "10\n",
            "0\n",
            "cannot be ddivide\n"
          ]
        }
      ]
    },
    {
      "cell_type": "code",
      "source": [
        "try:\n",
        "  print(10/0)\n",
        "except ZeroDivisionError:\n",
        "  print(\"zerodivisorerror\")\n",
        "except ArithmeticError:\n",
        "  print(\"Arithmetic error\")"
      ],
      "metadata": {
        "colab": {
          "base_uri": "https://localhost:8080/"
        },
        "id": "zFu7kqp7BJYG",
        "outputId": "367e9738-fab8-4967-84e8-22db55e283cd"
      },
      "execution_count": null,
      "outputs": [
        {
          "output_type": "stream",
          "name": "stdout",
          "text": [
            "zerodivisorerror\n"
          ]
        }
      ]
    },
    {
      "cell_type": "code",
      "source": [
        "try:\n",
        "  print(10/0)\n",
        "except ArithmeticError:\n",
        "  print(\"Arithmetic error\")\n",
        "except ZeroDivisionError:\n",
        "  print(\"zerodivisorerror\")"
      ],
      "metadata": {
        "colab": {
          "base_uri": "https://localhost:8080/"
        },
        "id": "90AJQCNpCK9n",
        "outputId": "8a0a8285-744d-409b-c5ca-d2ef3692d6c4"
      },
      "execution_count": null,
      "outputs": [
        {
          "output_type": "stream",
          "name": "stdout",
          "text": [
            "Arithmetic error\n"
          ]
        }
      ]
    },
    {
      "cell_type": "code",
      "source": [
        "try:\n",
        "  print(10/0)\n",
        "except BaseException:\n",
        "  print(\"base error\")\n",
        "except ArithmeticError:\n",
        "  print(\"Arithmetic error\")\n",
        "except ZeroDivisionError:\n",
        "  print(\"zerodivisorerror\")"
      ],
      "metadata": {
        "colab": {
          "base_uri": "https://localhost:8080/"
        },
        "id": "PPxWev0fCrFr",
        "outputId": "ed7aad51-111b-4614-e7d1-3b21e8f8e068"
      },
      "execution_count": null,
      "outputs": [
        {
          "output_type": "stream",
          "name": "stdout",
          "text": [
            "base error\n"
          ]
        }
      ]
    },
    {
      "cell_type": "code",
      "source": [
        "try:\n",
        "  x =int(input(\"enter the number \"))\n",
        "  y= int(input(\"enter the second number\"))\n",
        "  print(x/y)\n",
        "except (ZeroDivisionError,ValueError ) as x:\n",
        "  print(type(x))\n"
      ],
      "metadata": {
        "colab": {
          "base_uri": "https://localhost:8080/"
        },
        "id": "gbcf8TWGDB2S",
        "outputId": "c4f23a48-2e4f-455a-ce15-9fddf8fe6ac6"
      },
      "execution_count": null,
      "outputs": [
        {
          "output_type": "stream",
          "name": "stdout",
          "text": [
            "enter the number 10\n",
            "enter the second number0\n",
            "<class 'ZeroDivisionError'>\n"
          ]
        }
      ]
    },
    {
      "cell_type": "code",
      "source": [
        "try:\n",
        "  x=int(input())\n",
        "  y=int(input())\n",
        "  print(x/y)\n",
        "except ZeroDivisionError:\n",
        "  print(\"zero div.\")\n",
        "except:\n",
        "  print(\"default exception \")"
      ],
      "metadata": {
        "colab": {
          "base_uri": "https://localhost:8080/"
        },
        "id": "IPXKIivqncG0",
        "outputId": "b17d7b55-0e10-4d16-e121-9901a508de64"
      },
      "execution_count": null,
      "outputs": [
        {
          "output_type": "stream",
          "name": "stdout",
          "text": [
            "default exception \n"
          ]
        }
      ]
    },
    {
      "cell_type": "code",
      "source": [
        "try:\n",
        "  x=int(input())\n",
        "  y=int(input())\n",
        "  print(x/y)\n",
        "except:\n",
        "  print(\"default exception \") #SyntaxError: default 'except:' must be last\n",
        "except ZeroDivisionError:\n",
        "  print(\"zero div.\")"
      ],
      "metadata": {
        "colab": {
          "base_uri": "https://localhost:8080/",
          "height": 130
        },
        "id": "DQgZpfU8p0Ja",
        "outputId": "5d6f19f8-e536-4488-b4df-5c44cd11e69c"
      },
      "execution_count": null,
      "outputs": [
        {
          "output_type": "error",
          "ename": "SyntaxError",
          "evalue": "ignored",
          "traceback": [
            "\u001b[0;36m  File \u001b[0;32m\"<ipython-input-1-b334641700e8>\"\u001b[0;36m, line \u001b[0;32m7\u001b[0m\n\u001b[0;31m    except ZeroDivisionError:\u001b[0m\n\u001b[0m                     ^\u001b[0m\n\u001b[0;31mSyntaxError\u001b[0m\u001b[0;31m:\u001b[0m default 'except:' must be last\n"
          ]
        }
      ]
    },
    {
      "cell_type": "code",
      "source": [
        "try:\n",
        "  print(3+2)\n",
        "except:\n",
        "  print(\"hello\")\n",
        "finally:\n",
        "  print(\"op\")"
      ],
      "metadata": {
        "colab": {
          "base_uri": "https://localhost:8080/"
        },
        "id": "E9FLb34BqoIC",
        "outputId": "eea23067-adc6-4840-f21a-68e811058c1a"
      },
      "execution_count": null,
      "outputs": [
        {
          "output_type": "stream",
          "name": "stdout",
          "text": [
            "5\n",
            "op\n"
          ]
        }
      ]
    },
    {
      "cell_type": "code",
      "source": [
        "try:\n",
        "  print(\"hi\")\n",
        "  print(10/0)\n",
        "except ZeroDivisionError as a:\n",
        "  print(\"except\",a)\n",
        "  print(\"except\",type(a))\n",
        "  print(\"except\",a.__class__)\n",
        "finally:\n",
        "  print(\"finally\")"
      ],
      "metadata": {
        "colab": {
          "base_uri": "https://localhost:8080/"
        },
        "id": "tkp1cSVKxHdI",
        "outputId": "2feddf33-229c-4bf1-bf54-8585a99f3795"
      },
      "execution_count": null,
      "outputs": [
        {
          "output_type": "stream",
          "name": "stdout",
          "text": [
            "hi\n",
            "except division by zero\n",
            "except <class 'ZeroDivisionError'>\n",
            "except <class 'ZeroDivisionError'>\n",
            "finally\n"
          ]
        }
      ]
    },
    {
      "cell_type": "code",
      "source": [
        "try:\n",
        "  print(\"try\")\n",
        "  print(10/0)\n",
        "except ValueError as a:\n",
        "  print(\"except\")\n",
        "finally:\n",
        "  print(\"finally\")"
      ],
      "metadata": {
        "colab": {
          "base_uri": "https://localhost:8080/",
          "height": 269
        },
        "id": "l7pmW929xzI-",
        "outputId": "62a11fae-1f2f-4350-edfa-a4e5546eae0b"
      },
      "execution_count": null,
      "outputs": [
        {
          "output_type": "stream",
          "name": "stdout",
          "text": [
            "try\n",
            "finally\n"
          ]
        },
        {
          "output_type": "error",
          "ename": "ZeroDivisionError",
          "evalue": "ignored",
          "traceback": [
            "\u001b[0;31m---------------------------------------------------------------------------\u001b[0m",
            "\u001b[0;31mZeroDivisionError\u001b[0m                         Traceback (most recent call last)",
            "\u001b[0;32m<ipython-input-8-cc755609cd0a>\u001b[0m in \u001b[0;36m<module>\u001b[0;34m\u001b[0m\n\u001b[1;32m      1\u001b[0m \u001b[0;32mtry\u001b[0m\u001b[0;34m:\u001b[0m\u001b[0;34m\u001b[0m\u001b[0;34m\u001b[0m\u001b[0m\n\u001b[1;32m      2\u001b[0m   \u001b[0mprint\u001b[0m\u001b[0;34m(\u001b[0m\u001b[0;34m\"try\"\u001b[0m\u001b[0;34m)\u001b[0m\u001b[0;34m\u001b[0m\u001b[0;34m\u001b[0m\u001b[0m\n\u001b[0;32m----> 3\u001b[0;31m   \u001b[0mprint\u001b[0m\u001b[0;34m(\u001b[0m\u001b[0;36m10\u001b[0m\u001b[0;34m/\u001b[0m\u001b[0;36m0\u001b[0m\u001b[0;34m)\u001b[0m\u001b[0;34m\u001b[0m\u001b[0;34m\u001b[0m\u001b[0m\n\u001b[0m\u001b[1;32m      4\u001b[0m \u001b[0;32mexcept\u001b[0m \u001b[0mValueError\u001b[0m \u001b[0;32mas\u001b[0m \u001b[0ma\u001b[0m\u001b[0;34m:\u001b[0m\u001b[0;34m\u001b[0m\u001b[0;34m\u001b[0m\u001b[0m\n\u001b[1;32m      5\u001b[0m   \u001b[0mprint\u001b[0m\u001b[0;34m(\u001b[0m\u001b[0;34m\"except\"\u001b[0m\u001b[0;34m)\u001b[0m\u001b[0;34m\u001b[0m\u001b[0;34m\u001b[0m\u001b[0m\n",
            "\u001b[0;31mZeroDivisionError\u001b[0m: division by zero"
          ]
        }
      ]
    },
    {
      "cell_type": "code",
      "source": [
        "import os\n",
        "try:\n",
        "  print('try')\n",
        "  os._exit(0)\n",
        "except:\n",
        "  print('except')\n",
        "finally:\n",
        "  print(\"finally\")"
      ],
      "metadata": {
        "id": "ySrulNwmzNoa"
      },
      "execution_count": null,
      "outputs": []
    },
    {
      "cell_type": "code",
      "source": [
        "try:\n",
        "  print(10/0)\n",
        "except ZeroDivisionError as a:\n",
        "  print(\"excpt\" ,a.__class__)\n",
        "  print(\"excpt\" ,a)\n",
        "finally:\n",
        "  print(\"finally\")"
      ],
      "metadata": {
        "id": "Rqps4Tpd3kFO",
        "colab": {
          "base_uri": "https://localhost:8080/"
        },
        "outputId": "fc1be53b-4c18-435a-d9fa-aaf05fa1a8ab"
      },
      "execution_count": null,
      "outputs": [
        {
          "output_type": "stream",
          "name": "stdout",
          "text": [
            "excpt <class 'ZeroDivisionError'>\n",
            "excpt division by zero\n",
            "finally\n"
          ]
        }
      ]
    },
    {
      "cell_type": "code",
      "source": [
        "try:\n",
        "  n=int(input(\"enter the first value  :\"))\n",
        "  b =int(input(\"enter the second value :\"))\n",
        "  print(n/b)\n",
        "except ZeroDivisionError as a:\n",
        "  print(a.__class__)\n",
        "finally:\n",
        "  print(\"finally\")\n",
        "\n",
        "print(10/0)\n",
        "  \n"
      ],
      "metadata": {
        "colab": {
          "base_uri": "https://localhost:8080/",
          "height": 287
        },
        "id": "bPkUGs-Ik2OJ",
        "outputId": "3a472479-0a69-4115-d985-8b53bfbe01af"
      },
      "execution_count": null,
      "outputs": [
        {
          "output_type": "stream",
          "name": "stdout",
          "text": [
            "enter the first value  :10\n",
            "enter the second value :0\n",
            "<class 'ZeroDivisionError'>\n"
          ]
        },
        {
          "output_type": "error",
          "ename": "ZeroDivisionError",
          "evalue": "ignored",
          "traceback": [
            "\u001b[0;31m---------------------------------------------------------------------------\u001b[0m",
            "\u001b[0;31mZeroDivisionError\u001b[0m                         Traceback (most recent call last)",
            "\u001b[0;32m<ipython-input-14-20488f902103>\u001b[0m in \u001b[0;36m<module>\u001b[0;34m\u001b[0m\n\u001b[1;32m      6\u001b[0m   \u001b[0mprint\u001b[0m\u001b[0;34m(\u001b[0m\u001b[0ma\u001b[0m\u001b[0;34m.\u001b[0m\u001b[0m__class__\u001b[0m\u001b[0;34m)\u001b[0m\u001b[0;34m\u001b[0m\u001b[0;34m\u001b[0m\u001b[0m\n\u001b[1;32m      7\u001b[0m \u001b[0;32mfinally\u001b[0m\u001b[0;34m:\u001b[0m\u001b[0;34m\u001b[0m\u001b[0;34m\u001b[0m\u001b[0m\n\u001b[0;32m----> 8\u001b[0;31m   \u001b[0mprint\u001b[0m\u001b[0;34m(\u001b[0m\u001b[0;34m\"finally\"\u001b[0m\u001b[0;34m,\u001b[0m\u001b[0;36m10\u001b[0m\u001b[0;34m/\u001b[0m\u001b[0;36m0\u001b[0m\u001b[0;34m)\u001b[0m\u001b[0;34m\u001b[0m\u001b[0;34m\u001b[0m\u001b[0m\n\u001b[0m\u001b[1;32m      9\u001b[0m \u001b[0;34m\u001b[0m\u001b[0m\n\u001b[1;32m     10\u001b[0m \u001b[0mprint\u001b[0m\u001b[0;34m(\u001b[0m\u001b[0;36m10\u001b[0m\u001b[0;34m/\u001b[0m\u001b[0;36m0\u001b[0m\u001b[0;34m)\u001b[0m\u001b[0;34m\u001b[0m\u001b[0;34m\u001b[0m\u001b[0m\n",
            "\u001b[0;31mZeroDivisionError\u001b[0m: division by zero"
          ]
        }
      ]
    },
    {
      "cell_type": "code",
      "source": [
        "import os \n",
        "try:\n",
        "  print(\"try\")\n",
        "  os._exit(0)\n",
        "except:\n",
        "  print(\"excpt\")\n",
        "finally:\n",
        "  print(\"finally\")\n",
        "  \"\"\"\n",
        "  zero is the status code \n",
        "  or non -zero is the abnormal code \n",
        "  \"\"\"\n",
        "  "
      ],
      "metadata": {
        "id": "XN64piB9oRYj"
      },
      "execution_count": null,
      "outputs": []
    },
    {
      "cell_type": "code",
      "source": [
        "try:\n",
        " print(\"staement -1\")\n",
        " print(\"staement -2\")\n",
        " print(\"staement -3\")\n",
        "except:\n",
        "  print(10/0)\n",
        "finally:\n",
        "  print(\"finally\")\n",
        "print(\"hello\")\n",
        "\n"
      ],
      "metadata": {
        "colab": {
          "base_uri": "https://localhost:8080/"
        },
        "id": "DHclMp0EqcKs",
        "outputId": "5e337189-7bb6-4e74-86b1-4abbd9f9c589"
      },
      "execution_count": null,
      "outputs": [
        {
          "output_type": "stream",
          "name": "stdout",
          "text": [
            "staement -1\n",
            "staement -2\n",
            "staement -3\n",
            "finally\n",
            "hello\n"
          ]
        }
      ]
    },
    {
      "cell_type": "code",
      "source": [
        "try:\n",
        "  try:\n",
        "    a=int(input(\"enter the value 1: \"))\n",
        "    b=int(input(\"enter the second value \"))\n",
        "    print(\"the results is :\",a/b)\n",
        "  except ValueError as ab:\n",
        "    print(\"excpt\",ab)\n",
        "    print(\"excpt\",ab.__class__)\n",
        "except:\n",
        "  try:\n",
        "    print(\"try\")\n",
        "  except:\n",
        "    print(\"except\")\n",
        "finally:\n",
        "  print(\"finally\")\n"
      ],
      "metadata": {
        "colab": {
          "base_uri": "https://localhost:8080/"
        },
        "id": "nkzGla0gvNf3",
        "outputId": "4e73048b-99b5-4b4b-dc1e-946a76e19a22"
      },
      "execution_count": null,
      "outputs": [
        {
          "output_type": "stream",
          "name": "stdout",
          "text": [
            "enter the value 1: 10\n",
            "enter the second value 0\n",
            "try\n",
            "finally\n"
          ]
        }
      ]
    },
    {
      "cell_type": "code",
      "source": [
        "try:\n",
        "  print(\"inner try block\")\n",
        "  print(10/0)\n",
        "  try:\n",
        "    print(\"hello\")\n",
        "  except:\n",
        "    print(\"hello2\")\n",
        "  finally:\n",
        "    print(\"finally\")\n",
        "except:\n",
        "  print(\"except\")\n",
        "finally:\n",
        "  print(\"finally\")"
      ],
      "metadata": {
        "colab": {
          "base_uri": "https://localhost:8080/"
        },
        "id": "l9v5qOeb4dAK",
        "outputId": "2b18bf8d-0198-4527-91a1-5aa6e0009622"
      },
      "execution_count": null,
      "outputs": [
        {
          "output_type": "stream",
          "name": "stdout",
          "text": [
            "inner try block\n",
            "except\n",
            "finally\n"
          ]
        }
      ]
    }
  ]
}