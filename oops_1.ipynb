{
  "nbformat": 4,
  "nbformat_minor": 0,
  "metadata": {
    "colab": {
      "provenance": [],
      "authorship_tag": "ABX9TyNz8Z2G9cCHgYaG5YC8gGfU",
      "include_colab_link": true
    },
    "kernelspec": {
      "name": "python3",
      "display_name": "Python 3"
    },
    "language_info": {
      "name": "python"
    }
  },
  "cells": [
    {
      "cell_type": "markdown",
      "metadata": {
        "id": "view-in-github",
        "colab_type": "text"
      },
      "source": [
        "<a href=\"https://colab.research.google.com/github/abhishek00045454/my-_own_work/blob/main/oops_1.ipynb\" target=\"_parent\"><img src=\"https://colab.research.google.com/assets/colab-badge.svg\" alt=\"Open In Colab\"/></a>"
      ]
    },
    {
      "cell_type": "code",
      "source": [
        "class test:\n",
        "  a=10\n",
        "  \n",
        "print(test.__dict__)\n",
        "\n",
        "#__dict__-> this is the attribute of the test\n",
        "  "
      ],
      "metadata": {
        "colab": {
          "base_uri": "https://localhost:8080/"
        },
        "id": "2QlFgY55DZrM",
        "outputId": "9c6733b4-15c7-440f-db94-d8fd5fefc64c"
      },
      "execution_count": null,
      "outputs": [
        {
          "output_type": "stream",
          "name": "stdout",
          "text": [
            "{'__module__': '__main__', 'a': 10, '__dict__': <attribute '__dict__' of 'test' objects>, '__weakref__': <attribute '__weakref__' of 'test' objects>, '__doc__': None}\n"
          ]
        }
      ]
    },
    {
      "cell_type": "code",
      "source": [
        "class test:\n",
        "  a=10\n",
        "  def __init__(self):\n",
        "    test.b=20\n",
        "  def m1(self):\n",
        "    test.c=30\n",
        "  @classmethod\n",
        "  def m2(cls):\n",
        "    cls.d=40\n",
        "    test.e=50\n",
        "  @staticmethod\n",
        "  def m3():\n",
        "    test.f=60\n",
        "  @classmethod\n",
        "  def m4(cls):\n",
        "    test.g=70\n",
        "\n",
        "\n",
        "  \n",
        "t=test()\n",
        "t.m1()\n",
        "test.m2()\n",
        "test.m3()\n",
        "test.m4()\n",
        "\n",
        "print(test.__dict__)"
      ],
      "metadata": {
        "colab": {
          "base_uri": "https://localhost:8080/"
        },
        "id": "vWoSk151Fa-r",
        "outputId": "29828d56-e034-4e0e-f7e3-2d4ccc305d00"
      },
      "execution_count": null,
      "outputs": [
        {
          "output_type": "stream",
          "name": "stdout",
          "text": [
            "{'__module__': '__main__', 'a': 10, '__init__': <function test.__init__ at 0x7f6ced77bf70>, 'm1': <function test.m1 at 0x7f6ced7a4040>, 'm2': <classmethod object at 0x7f6ced7809a0>, 'm3': <staticmethod object at 0x7f6ced7806d0>, 'm4': <classmethod object at 0x7f6ced780f70>, '__dict__': <attribute '__dict__' of 'test' objects>, '__weakref__': <attribute '__weakref__' of 'test' objects>, '__doc__': None, 'b': 20, 'c': 30, 'd': 40, 'e': 50, 'f': 60, 'g': 70}\n"
          ]
        }
      ]
    },
    {
      "cell_type": "code",
      "source": [
        "class test:\n",
        "  a=10\n",
        "  def __init__(self):\n",
        "    self.b=20 \n",
        "t1=test()\n",
        "t2=test()\n",
        "test.a=888\n",
        "t1.b=999\n",
        "print(\"t1 :\",t1.a,t1.b)\n",
        "print(\"t2 :\",t2.a,t2.b)"
      ],
      "metadata": {
        "colab": {
          "base_uri": "https://localhost:8080/"
        },
        "id": "7CJ9yeRnkyiH",
        "outputId": "2488756a-8b60-4a85-cae8-aeaf500c3302"
      },
      "execution_count": null,
      "outputs": [
        {
          "output_type": "stream",
          "name": "stdout",
          "text": [
            "t1 : 888 999\n",
            "t2 : 888 20\n"
          ]
        }
      ]
    },
    {
      "cell_type": "code",
      "source": [
        "class test:\n",
        "  a=10\n",
        "  def __init__(self):\n",
        "    self.b=20\n",
        "  def m1(self):\n",
        "    self.a=888\n",
        "    self.b=999\n",
        "t1=test()\n",
        "t2=test()\n",
        "t1.m1()\n",
        "print(\"t1:\",t1.a,t1.b)\n",
        "print(\"t2:\",t2.a,t2.b)\n"
      ],
      "metadata": {
        "colab": {
          "base_uri": "https://localhost:8080/"
        },
        "id": "LkLqvpcqkx2O",
        "outputId": "1b04f6e3-c86a-41cd-eaf3-f089523afc5d"
      },
      "execution_count": null,
      "outputs": [
        {
          "output_type": "stream",
          "name": "stdout",
          "text": [
            "t1: 888 999\n",
            "t2: 10 20\n"
          ]
        }
      ]
    },
    {
      "cell_type": "code",
      "source": [
        "class test:\n",
        "  a=10\n",
        "  def __init__(self):\n",
        "    self.b=20\n",
        "  def m1(self):\n",
        "    self.a=888\n",
        "    self.b=999\n",
        "t1=test()\n",
        "t2=test()\n",
        "t1.m1()\n",
        "t2.m1()\n",
        "print(\"t1:\",t1.a,t1.b)\n",
        "print(\"t2:\",t2.a,t2.b)\n",
        "\n"
      ],
      "metadata": {
        "colab": {
          "base_uri": "https://localhost:8080/"
        },
        "id": "7mmKwNFksUIm",
        "outputId": "bce25f8e-c670-4e6a-b11c-5ed4039a8a34"
      },
      "execution_count": null,
      "outputs": [
        {
          "output_type": "stream",
          "name": "stdout",
          "text": [
            "t1: 888 999\n",
            "t2: 888 999\n"
          ]
        }
      ]
    },
    {
      "cell_type": "code",
      "source": [
        "class test:\n",
        "  a=10\n",
        "  def __init__(self):\n",
        "    self.b=20\n",
        "  @classmethod\n",
        "  def m1(cls):\n",
        "    cls.a=888\n",
        "    cls.b=999\n",
        "\n",
        "t1=test()\n",
        "t2=test()\n",
        "t1.m1()\n",
        "print(\"t1:\",t1.a,t1.b)\n",
        "print(\"t2:\",t2.a,t2.b)\n",
        "print(\"Test:\",test.a,test.b)"
      ],
      "metadata": {
        "colab": {
          "base_uri": "https://localhost:8080/"
        },
        "id": "8GTvgX4ouU2o",
        "outputId": "eb10c7c0-328c-4890-c234-4280ce746879"
      },
      "execution_count": null,
      "outputs": [
        {
          "output_type": "stream",
          "name": "stdout",
          "text": [
            "t1: 888 20\n",
            "t2: 888 20\n",
            "Test: 888 999\n"
          ]
        }
      ]
    },
    {
      "cell_type": "code",
      "source": [
        "class Student:\n",
        "  def setName(self,name):\n",
        "    self.name=name\n",
        "  def getName(self):\n",
        "    return self.name\n",
        "  def setMarks(self,marks):\n",
        "    self.marks=marks\n",
        "  def getMarks(self):\n",
        "    return self.marks\n",
        "\n",
        "n=int(input(\"Enter no.of student: \"))\n",
        "students=[]\n",
        "for i in range(n):\n",
        "  s=Student()\n",
        "  name=input(\"enter the student name :\")\n",
        "  marks=int(input(\"enter the namrks :\"))\n",
        "  s.setName(name)\n",
        "  s.setMarks(marks)\n",
        "  students.append(s)\n",
        "for s in students:\n",
        "  print(\"hello\",s.getName())\n",
        "  print(\"your marks are : \",s.getMarks())\n",
        "  print()\n",
        "\n",
        "\n",
        " "
      ],
      "metadata": {
        "colab": {
          "base_uri": "https://localhost:8080/"
        },
        "id": "7FAdvpiHy2gx",
        "outputId": "cb4db8ee-5c0d-4af0-a64e-2495c29ba27e"
      },
      "execution_count": null,
      "outputs": [
        {
          "output_type": "stream",
          "name": "stdout",
          "text": [
            "Enter no.of student: 4\n",
            "enter the student name :abhishek saini\n",
            "enter the namrks :44\n",
            "enter the student name :ayush bubna\n",
            "enter the namrks :77\n",
            "enter the student name :baldau\n",
            "enter the namrks :78\n",
            "enter the student name :kartik\n",
            "enter the namrks :55\n",
            "hello abhishek saini\n",
            "your marks are :  44\n",
            "\n",
            "hello ayush bubna\n",
            "your marks are :  77\n",
            "\n",
            "hello baldau\n",
            "your marks are :  78\n",
            "\n",
            "hello kartik\n",
            "your marks are :  55\n",
            "\n"
          ]
        }
      ]
    },
    {
      "cell_type": "code",
      "source": [
        "class Student:\n",
        "  def __init__(delf,name,roll_no,marks):\n",
        "    delf.name =name\n",
        "    delf.roll_no=roll_no\n",
        "    delf.marks=marks\n",
        "  def talk(kelf):\n",
        "    print(\"hello i am \",kelf.name)\n",
        "    print(\"my roll no is :\",kelf.roll_no)\n",
        "    print(\"my marks is :\",kelf.marks)\n",
        "s1=Student(\"Sunny\",101,90)\n",
        "s1.talk()\n",
        "\n",
        "\n"
      ],
      "metadata": {
        "colab": {
          "base_uri": "https://localhost:8080/"
        },
        "id": "8kM93DZBGMY_",
        "outputId": "c1ec470d-4fc5-4935-b21a-e9b1a23dfb28"
      },
      "execution_count": null,
      "outputs": [
        {
          "output_type": "stream",
          "name": "stdout",
          "text": [
            "hello i am  Sunny\n",
            "my roll no is : 101\n",
            "my marks is : 90\n"
          ]
        }
      ]
    },
    {
      "cell_type": "code",
      "source": [
        "class Student:\n",
        "  def __init__(left,name,roll_no,marks): #set_metod-> this is the constructor you set the method\n",
        "    left.name=name\n",
        "    left.roll_no=roll_no\n",
        "    left.marks=marks\n",
        "  def talk(felt):#get_method-> this is the method which you can get method \n",
        "    print(\"hello my name is :\",felt.name)\n",
        "    print(\"hello my roll_no is \",felt.roll_no)\n",
        "    print(\"hello my marks is :\",felt.marks)\n",
        "s1=Student(\"abhishek\",101,90)\n",
        "s1.talk()"
      ],
      "metadata": {
        "colab": {
          "base_uri": "https://localhost:8080/"
        },
        "id": "l5xWPoXVKD2s",
        "outputId": "ec96c001-d262-4305-f48c-cb5c8e175a6f"
      },
      "execution_count": null,
      "outputs": [
        {
          "output_type": "stream",
          "name": "stdout",
          "text": [
            "hello my name is : abhishek\n",
            "hello my roll_no is  101\n",
            "hello my marks is : 90\n"
          ]
        }
      ]
    },
    {
      "cell_type": "code",
      "source": [
        "class Student:\n",
        "  def __init__(name,roll_no,marks):\n",
        "    self.name=name\n",
        "    self.roll_no=roll_no\n",
        "    self.marks=marks\n",
        "  def detail(self):\n",
        "    print(\"hi my name is :\",self.name)\n",
        "    print(\"hi my roll_no is:\",self.roll_no)\n",
        "    print(\"hi my marks is :\",self.marks)\n",
        "s1=Student(\"Abhishek\",101,96)\n",
        "s1.detail()\n",
        "\"\"\"\n",
        "the type error coming becoz you remove self keyword from the class \n",
        "and the class were you remove the self and the place taken the roll\n",
        "name but the one problem is the you pass the three arguments \n",
        "and the arguments is only two\n",
        "so you get type error\n",
        "so at the end the any keyword passsing by the person to the class that arguments \n",
        "is  the responsible all passing the arguments \n",
        "\"\"\"\n"
      ],
      "metadata": {
        "colab": {
          "base_uri": "https://localhost:8080/",
          "height": 235
        },
        "id": "o_AcN5N9Nuy3",
        "outputId": "77d03823-f13a-49e9-b84c-7e9f74f531b7"
      },
      "execution_count": null,
      "outputs": [
        {
          "output_type": "error",
          "ename": "TypeError",
          "evalue": "ignored",
          "traceback": [
            "\u001b[0;31m---------------------------------------------------------------------------\u001b[0m",
            "\u001b[0;31mTypeError\u001b[0m                                 Traceback (most recent call last)",
            "\u001b[0;32m<ipython-input-49-0e2ffc1defdc>\u001b[0m in \u001b[0;36m<module>\u001b[0;34m\u001b[0m\n\u001b[1;32m      8\u001b[0m     \u001b[0mprint\u001b[0m\u001b[0;34m(\u001b[0m\u001b[0;34m\"hi my roll_no is:\"\u001b[0m\u001b[0;34m,\u001b[0m\u001b[0mself\u001b[0m\u001b[0;34m.\u001b[0m\u001b[0mroll_no\u001b[0m\u001b[0;34m)\u001b[0m\u001b[0;34m\u001b[0m\u001b[0;34m\u001b[0m\u001b[0m\n\u001b[1;32m      9\u001b[0m     \u001b[0mprint\u001b[0m\u001b[0;34m(\u001b[0m\u001b[0;34m\"hi my marks is :\"\u001b[0m\u001b[0;34m,\u001b[0m\u001b[0mself\u001b[0m\u001b[0;34m.\u001b[0m\u001b[0mmarks\u001b[0m\u001b[0;34m)\u001b[0m\u001b[0;34m\u001b[0m\u001b[0;34m\u001b[0m\u001b[0m\n\u001b[0;32m---> 10\u001b[0;31m \u001b[0ms1\u001b[0m\u001b[0;34m=\u001b[0m\u001b[0mStudent\u001b[0m\u001b[0;34m(\u001b[0m\u001b[0;34m\"Abhishek\"\u001b[0m\u001b[0;34m,\u001b[0m\u001b[0;36m101\u001b[0m\u001b[0;34m,\u001b[0m\u001b[0;36m96\u001b[0m\u001b[0;34m)\u001b[0m\u001b[0;34m\u001b[0m\u001b[0;34m\u001b[0m\u001b[0m\n\u001b[0m\u001b[1;32m     11\u001b[0m \u001b[0ms1\u001b[0m\u001b[0;34m.\u001b[0m\u001b[0mdetail\u001b[0m\u001b[0;34m(\u001b[0m\u001b[0;34m)\u001b[0m\u001b[0;34m\u001b[0m\u001b[0;34m\u001b[0m\u001b[0m\n\u001b[1;32m     12\u001b[0m \"\"\"\n",
            "\u001b[0;31mTypeError\u001b[0m: __init__() takes 3 positional arguments but 4 were given"
          ]
        }
      ]
    },
    {
      "cell_type": "code",
      "source": [
        "class Movie:\n",
        "  \"\"\"\n",
        "  this is class develped by Abhi for demo\n",
        "\n",
        "  \"\"\"\n",
        "  def __init__(self,tittle,hero,heroine):\n",
        "    self.tittle=tittle\n",
        "    self.hero=hero\n",
        "    self.heroine=heroine\n",
        "  def info(self):\n",
        "    print(\"movie name\",self.tittle)\n",
        "    print(\"hero name\",self.hero)\n",
        "    print(\"heroine name\",self.heroine)\n",
        "list_of_movie=[]\n",
        "while True:\n",
        "  tittle= input(\"Enter movie name: \")\n",
        "  hero=input(\"Enter hero name: \")\n",
        "  heroine=input(\"Enter heroine name:\")\n",
        "  s=Movie(tittle,hero,heroine)\n",
        "  list_of_movie.append(s)\n",
        "  print(\"Movie added successfully\")\n",
        "  option=input(\"Do you add one more movie [yes/no] :\")\n",
        "  if option==\"no\" or option==\"NO\":\n",
        "    break\n",
        "print(\"All movie information\")\n",
        "for each in list_of_movie:\n",
        "  each.info()\n",
        "  print()\n",
        "\n",
        "\n",
        "\n",
        "\n",
        "\n"
      ],
      "metadata": {
        "id": "sAFj8lsJQpMh",
        "colab": {
          "base_uri": "https://localhost:8080/"
        },
        "outputId": "1d77af94-7195-412a-c6c9-b99156ba7023"
      },
      "execution_count": null,
      "outputs": [
        {
          "output_type": "stream",
          "name": "stdout",
          "text": [
            "Enter movie name: bhubali\n",
            "Enter hero name: prabhas\n",
            "Enter heroine name:tamana\n",
            "Movie added successfully\n",
            "Do you add one more movie [yes/no] :yes\n",
            "Enter movie name: entertermant\n",
            "Enter hero name: askhay kumar\n",
            "Enter heroine name:tamana\n",
            "Movie added successfully\n",
            "Do you add one more movie [yes/no] :no\n",
            "All movie information\n",
            "movie name bhubali\n",
            "hero name prabhas\n",
            "heroine name tamana\n",
            "\n",
            "movie name entertermant\n",
            "hero name askhay kumar\n",
            "heroine name tamana\n",
            "\n"
          ]
        }
      ]
    },
    {
      "cell_type": "code",
      "source": [
        "class Student:\n",
        "  def __init__(self,name,roll_no,marks):\n",
        "    self.name=name\n",
        "    self.roll_no=roll_no\n",
        "    self.marks=marks\n",
        "  def info(self):\n",
        "    print(\"your name is:\",self.name)\n",
        "    print(\"your roll_no is :\",self.roll_no)\n",
        "    print(\"your marks is :\",self.marks)\n",
        "detail=[]\n",
        "while True:\n",
        "  name=input(\"Enter your name :\")\n",
        "  roll_no=int(input(\"Enter your roll_no :\"))\n",
        "  marks =int(input(\"Enter your marks :\"))\n",
        "  s=Student(name,roll_no,marks)\n",
        "  detail.append(s)\n",
        "  print(\"Enter your detail suceesfully\")\n",
        "  option=input(\"Do you enter other student deatil:[yes/no]\")\n",
        "  if option==\"no\" or option==\"NO\":\n",
        "    break\n",
        "for each in detail:\n",
        "  each.info()\n",
        "  print()\n"
      ],
      "metadata": {
        "colab": {
          "base_uri": "https://localhost:8080/"
        },
        "id": "uAW520M9unL0",
        "outputId": "260041ab-4301-4e1b-a16a-4a988a07939d"
      },
      "execution_count": null,
      "outputs": [
        {
          "output_type": "stream",
          "name": "stdout",
          "text": [
            "Enter your name :Abhishek saini\n",
            "Enter your roll_no :1\n",
            "Enter your marks :56\n",
            "Enter your detail suceesfully\n",
            "Do you enter other student deatil:[yes/no]yes\n",
            "Enter your name :ayush\n",
            "Enter your roll_no :4\n",
            "Enter your marks :56\n",
            "Enter your detail suceesfully\n",
            "Do you enter other student deatil:[yes/no]no\n",
            "your name is: Abhishek saini\n",
            "your roll_no is : 1\n",
            "your marks is : 56\n",
            "\n",
            "your name is: ayush\n",
            "your roll_no is : 4\n",
            "your marks is : 56\n",
            "\n"
          ]
        }
      ]
    },
    {
      "cell_type": "code",
      "source": [
        "class test:\n",
        "  def __init__(self):\n",
        "    print(\"address os object pointed by self\",id(self))\n",
        "t=test()\n",
        "print(\"address of object pointed by\",id(t))"
      ],
      "metadata": {
        "colab": {
          "base_uri": "https://localhost:8080/"
        },
        "id": "QkgaCq2WzSFe",
        "outputId": "af5df2ab-e5c3-46d5-c9e3-e2b8f50c63e5"
      },
      "execution_count": null,
      "outputs": [
        {
          "output_type": "stream",
          "name": "stdout",
          "text": [
            "address os object pointed by self 140512495810544\n",
            "address of object pointed by 140512495810544\n"
          ]
        }
      ]
    },
    {
      "cell_type": "code",
      "source": [
        "class test:\n",
        "  def __init__(self):\n",
        "    print(\"constructor\")\n",
        "  def m(self,x):\n",
        "    print(\"x value :\",x)\n",
        "  def m1(self,y):\n",
        "    print(\"y value :\",y)\n",
        "t=test()\n",
        "t.m(10)\n",
        "t.m1(20)\n"
      ],
      "metadata": {
        "colab": {
          "base_uri": "https://localhost:8080/"
        },
        "id": "dG2nnSNH7LRx",
        "outputId": "8154ec80-8aad-4b97-add0-c786e3f7eed8"
      },
      "execution_count": null,
      "outputs": [
        {
          "output_type": "stream",
          "name": "stdout",
          "text": [
            "constructor\n",
            "x value : 10\n",
            "y value : 20\n"
          ]
        }
      ]
    },
    {
      "cell_type": "code",
      "source": [
        "class Student:\n",
        "  def __init__(self,name,roll_no,marks):\n",
        "    self.name=name\n",
        "    self.roll_no=roll_no\n",
        "    self.marks=marks\n",
        "  def info(self):\n",
        "    print(\"hello i am\",self.name)\n",
        "    print(\"my roll_no\",self.roll_no)\n",
        "    print(\"my marks is :\",self.marks)\n",
        "s1=Student(\"Abhishek saini\",1,100)\n",
        "s1.info()\n"
      ],
      "metadata": {
        "colab": {
          "base_uri": "https://localhost:8080/"
        },
        "id": "837B9qfl8fFy",
        "outputId": "abc17173-771f-41f3-ad69-b7d5895ccbdc"
      },
      "execution_count": null,
      "outputs": [
        {
          "output_type": "stream",
          "name": "stdout",
          "text": [
            "hello i am Abhishek saini\n",
            "my roll_no 1\n",
            "my marks is : 100\n"
          ]
        }
      ]
    },
    {
      "cell_type": "code",
      "source": [
        "class Student:\n",
        "  def __init__(self,name,marks):\n",
        "    self.name=name\n",
        "    self.marks=marks\n",
        "  def display(self):\n",
        "    print(\"hi\",self.name)\n",
        "    print(\"your marks is :\",self.marks)\n",
        "  def grade(self):\n",
        "    if self.marks >=60:\n",
        "      print(\"you got first divsion \")\n",
        "    elif self.marks >=50:\n",
        "      print(\"you got second divsion\")\n",
        "    elif self.marks>=35:\n",
        "      print(\"you got a third division\")\n",
        "    else:\n",
        "      print(\"you are failed in examination\")\n",
        "n= int(input(\"enter n0 of students:\"))\n",
        "for i in range(n):\n",
        "  name=input(\"enter the student name :\")\n",
        "  marks=int(input(\"enter the marks :\"))\n",
        "  s=Student(name,marks)\n",
        "  s.display()\n",
        "  s.grade()\n",
        "  print()\n",
        "\n",
        "\n"
      ],
      "metadata": {
        "colab": {
          "base_uri": "https://localhost:8080/"
        },
        "id": "OVJm2bsF_K5l",
        "outputId": "4cac1564-71dc-4c54-df9f-e28a8840bd58"
      },
      "execution_count": null,
      "outputs": [
        {
          "output_type": "stream",
          "name": "stdout",
          "text": [
            "enter n0 of students:4\n",
            "enter the student name :abhishek\n",
            "enter the marks :100\n",
            "hi abhishek\n",
            "your marks is : 100\n",
            "you got first divsion \n",
            "\n",
            "enter the student name :ayushh\n",
            "enter the marks :40\n",
            "hi ayushh\n",
            "your marks is : 40\n",
            "you got a third division\n",
            "\n",
            "enter the student name :kartik\n",
            "enter the marks :66\n",
            "hi kartik\n",
            "your marks is : 66\n",
            "you got first divsion \n",
            "\n",
            "enter the student name :jaynt\n",
            "enter the marks :42\n",
            "hi jaynt\n",
            "your marks is : 42\n",
            "you got a third division\n",
            "\n"
          ]
        }
      ]
    },
    {
      "cell_type": "code",
      "source": [
        "class Test:\n",
        "  def __init__(self):\n",
        "    self.a=10\n",
        "    self.b=20\n",
        "    self.c=30\n",
        "    self.d=40\n",
        "    self.e=50\n",
        "    self.f=60\n",
        "  def display(self):\n",
        "    print(\"The value of a:\",self.a)\n",
        "    print(\"The value of b:\",self.b)\n",
        "    print(\"The value of c:\",self.c)\n",
        "    print(\"The value of d:\",self.d)\n",
        "    print(\"The value of e:\",self.e)\n",
        "    print(\"The value of f:\",self.f)\n",
        "\n",
        "print(Test.__dict__)\n",
        "t=Test()\n",
        "t.display()\n",
        "print(t.a)\n",
        "print(t.b)\n",
        "print(t.c)\n",
        "print(t.d)\n",
        "print(t.e)\n",
        "print(t.f)\n",
        "del t.b\n",
        "print(t.b,t.a,t.c)\n",
        "print(t.c)\n",
        "print(t.a)\n",
        "\"\"\"\n",
        "This is the attribute when you\n",
        "del-> you use outside of class \n",
        "and the del the b is del and you cannot again cannot access it again\n",
        "\n",
        "\"\"\"\n"
      ],
      "metadata": {
        "colab": {
          "base_uri": "https://localhost:8080/",
          "height": 480
        },
        "id": "5OZk0I-Sx7cO",
        "outputId": "1d229390-b869-4ac6-bf34-9582a05c23da"
      },
      "execution_count": null,
      "outputs": [
        {
          "output_type": "stream",
          "name": "stdout",
          "text": [
            "{'__module__': '__main__', '__init__': <function Test.__init__ at 0x7fcb9cb68280>, 'display': <function Test.display at 0x7fcb9cb68670>, '__dict__': <attribute '__dict__' of 'Test' objects>, '__weakref__': <attribute '__weakref__' of 'Test' objects>, '__doc__': None}\n",
            "The value of a: 10\n",
            "The value of b: 20\n",
            "The value of c: 30\n",
            "The value of d: 40\n",
            "The value of e: 50\n",
            "The value of f: 60\n",
            "10\n",
            "20\n",
            "30\n",
            "40\n",
            "50\n",
            "60\n"
          ]
        },
        {
          "output_type": "error",
          "ename": "AttributeError",
          "evalue": "ignored",
          "traceback": [
            "\u001b[0;31m---------------------------------------------------------------------------\u001b[0m",
            "\u001b[0;31mAttributeError\u001b[0m                            Traceback (most recent call last)",
            "\u001b[0;32m<ipython-input-38-33399d4d2f99>\u001b[0m in \u001b[0;36m<module>\u001b[0;34m\u001b[0m\n\u001b[1;32m     25\u001b[0m \u001b[0mprint\u001b[0m\u001b[0;34m(\u001b[0m\u001b[0mt\u001b[0m\u001b[0;34m.\u001b[0m\u001b[0mf\u001b[0m\u001b[0;34m)\u001b[0m\u001b[0;34m\u001b[0m\u001b[0;34m\u001b[0m\u001b[0m\n\u001b[1;32m     26\u001b[0m \u001b[0;32mdel\u001b[0m \u001b[0mt\u001b[0m\u001b[0;34m.\u001b[0m\u001b[0mb\u001b[0m\u001b[0;34m\u001b[0m\u001b[0;34m\u001b[0m\u001b[0m\n\u001b[0;32m---> 27\u001b[0;31m \u001b[0mprint\u001b[0m\u001b[0;34m(\u001b[0m\u001b[0mt\u001b[0m\u001b[0;34m.\u001b[0m\u001b[0mb\u001b[0m\u001b[0;34m,\u001b[0m\u001b[0mt\u001b[0m\u001b[0;34m.\u001b[0m\u001b[0ma\u001b[0m\u001b[0;34m,\u001b[0m\u001b[0mt\u001b[0m\u001b[0;34m.\u001b[0m\u001b[0mc\u001b[0m\u001b[0;34m)\u001b[0m\u001b[0;34m\u001b[0m\u001b[0;34m\u001b[0m\u001b[0m\n\u001b[0m\u001b[1;32m     28\u001b[0m \u001b[0mprint\u001b[0m\u001b[0;34m(\u001b[0m\u001b[0mt\u001b[0m\u001b[0;34m.\u001b[0m\u001b[0mc\u001b[0m\u001b[0;34m)\u001b[0m\u001b[0;34m\u001b[0m\u001b[0;34m\u001b[0m\u001b[0m\n\u001b[1;32m     29\u001b[0m \u001b[0mprint\u001b[0m\u001b[0;34m(\u001b[0m\u001b[0mt\u001b[0m\u001b[0;34m.\u001b[0m\u001b[0ma\u001b[0m\u001b[0;34m)\u001b[0m\u001b[0;34m\u001b[0m\u001b[0;34m\u001b[0m\u001b[0m\n",
            "\u001b[0;31mAttributeError\u001b[0m: 'Test' object has no attribute 'b'"
          ]
        }
      ]
    },
    {
      "cell_type": "code",
      "source": [
        "class Test:\n",
        "  def __init__(self):\n",
        "    self.a=10\n",
        "    self.b=10\n",
        "    self.c=10\n",
        "    self.d=10\n",
        "  def m1(self):\n",
        "    del self.c,self.a,self.b\n",
        "t=Test()\n",
        "t.m1()\n",
        "print(\"t1\",t.__dict__)"
      ],
      "metadata": {
        "colab": {
          "base_uri": "https://localhost:8080/"
        },
        "id": "8Of-T_2A9iMR",
        "outputId": "590acc02-222c-4414-a74a-3e0c18c64fbf"
      },
      "execution_count": null,
      "outputs": [
        {
          "output_type": "stream",
          "name": "stdout",
          "text": [
            "t1 {'d': 10}\n"
          ]
        }
      ]
    },
    {
      "cell_type": "code",
      "source": [
        "class Test:\n",
        "  def __init__(self):\n",
        "    self.a=10\n",
        "    self.b=20\n",
        "t1= Test()\n",
        "t1.a=888\n",
        "t1.a=999\n",
        "t2= Test()\n",
        "print(\"t1:\",t1.a,t1.b)\n",
        "print(\"t2:\",t2.a,t2.b)\n",
        "\n",
        "\n"
      ],
      "metadata": {
        "colab": {
          "base_uri": "https://localhost:8080/"
        },
        "id": "a2jBQ3dmN6w2",
        "outputId": "b502ba64-c640-4f0b-b793-3bb4aa293d6c"
      },
      "execution_count": null,
      "outputs": [
        {
          "output_type": "stream",
          "name": "stdout",
          "text": [
            "t1: 999 20\n",
            "t2: 10 20\n"
          ]
        }
      ]
    },
    {
      "cell_type": "code",
      "source": [
        "class Test:\n",
        "  def __init__(self):\n",
        "    print(\"costructor eecution\")\n",
        "  def __init__(self):\n",
        "    print(\"conructor_2\")\n",
        "t1= Test()\n",
        "t2= Test()\n",
        "t3= Test()\n",
        "\n",
        "  \n",
        "  "
      ],
      "metadata": {
        "colab": {
          "base_uri": "https://localhost:8080/"
        },
        "id": "bHIUKwl6fcnr",
        "outputId": "04c8b15f-b69f-4563-c037-6fd605f80789"
      },
      "execution_count": null,
      "outputs": [
        {
          "output_type": "stream",
          "name": "stdout",
          "text": [
            "conructor_2\n",
            "conructor_2\n",
            "conructor_2\n"
          ]
        }
      ]
    },
    {
      "cell_type": "code",
      "source": [
        "class Student:\n",
        "  def __init__(self,name,roll_no,marks):\n",
        "    self.name=name\n",
        "    self.roll_no=roll_no\n",
        "    self.marks=marks\n",
        "s1=Student(\"sunny\",101,98)\n",
        "print(s1.name,s1.roll_no,s1.marks)\n",
        "print(s1.__dict__)\n",
        "s2=Student(\"abhishek\",101,98)\n",
        "print(s2.name,s2.roll_no,s1.marks)\n",
        "print(s2.__dict__)\n",
        "\n"
      ],
      "metadata": {
        "id": "JliD6sQ5i8Ez",
        "colab": {
          "base_uri": "https://localhost:8080/"
        },
        "outputId": "1ca220f8-43c2-4333-9421-5367a25308bb"
      },
      "execution_count": null,
      "outputs": [
        {
          "output_type": "stream",
          "name": "stdout",
          "text": [
            "sunny 101 98\n",
            "{'name': 'sunny', 'roll_no': 101, 'marks': 98}\n",
            "abhishek 101 98\n",
            "{'name': 'abhishek', 'roll_no': 101, 'marks': 98}\n"
          ]
        }
      ]
    },
    {
      "cell_type": "code",
      "source": [
        "class ShopKeeper:\n",
        "  def __init__(self,price,product):\n",
        "    self.price=price\n",
        "    self.product=product\n",
        "  def deatil(self):\n",
        "    print(\"your pice is :\",self.price)\n",
        "    print(\"your product is : \",self.product)\n",
        "s1=ShopKeeper(1000,\"amul\")\n",
        "s1.deatil()\n",
        "print(s1.__dict__)\n",
        "s2=ShopKeeper(1500,\"kiwi\")\n",
        "s2.deatil()\n",
        "print(s2.__dict__)\n",
        "s3=ShopKeeper(2000,\"phone_cover\")\n",
        "s3.deatil()\n",
        "print(s3.__dict__)\n"
      ],
      "metadata": {
        "colab": {
          "base_uri": "https://localhost:8080/"
        },
        "id": "w5s2OUjT5myB",
        "outputId": "15d414b5-a778-4616-d3e4-0ef713ad0250"
      },
      "execution_count": null,
      "outputs": [
        {
          "output_type": "stream",
          "name": "stdout",
          "text": [
            "your pice is : 1000\n",
            "your product is :  amul\n",
            "{'price': 1000, 'product': 'amul'}\n",
            "your pice is : 1500\n",
            "your product is :  kiwi\n",
            "{'price': 1500, 'product': 'kiwi'}\n",
            "your pice is : 2000\n",
            "your product is :  phone_cover\n",
            "{'price': 2000, 'product': 'phone_cover'}\n"
          ]
        }
      ]
    },
    {
      "cell_type": "code",
      "source": [
        "class ShopKeeper:\n",
        "  def __init__(self,price,samaan):\n",
        "    self.price=price\n",
        "    self.samaan=samaan\n",
        "  def info(self):\n",
        "    print(\"your product price is :\",self.price)\n",
        "    print(\"your product  is :\",self.samaan)\n",
        "detail=[]\n",
        "while True:\n",
        "  price_poduct=int(input(\"ENter the price product: \"))\n",
        "  prouct_owner=input(\"Enter the product:\")\n",
        "  s1=ShopKeeper(price_poduct,prouct_owner)\n",
        "  detail.append(s1)\n",
        "  \n",
        "  print(\"Thank you for shopping\")\n",
        "  option=input(\"Do  you purcahse extra items in your suck :[yes/no]\")\n",
        "  if option.lower()==\"no\":\n",
        "    break\n",
        "\n",
        "for each in detail:\n",
        "  each.info()\n",
        "  \n",
        "  print()\n",
        "\n"
      ],
      "metadata": {
        "colab": {
          "base_uri": "https://localhost:8080/",
          "height": 130
        },
        "id": "-KVY4z8n-zJe",
        "outputId": "a61b080f-64cc-4079-c486-5e228c6814ba"
      },
      "execution_count": null,
      "outputs": [
        {
          "output_type": "error",
          "ename": "IndentationError",
          "evalue": "ignored",
          "traceback": [
            "\u001b[0;36m  File \u001b[0;32m\"<ipython-input-75-3a959b1fdf57>\"\u001b[0;36m, line \u001b[0;32m23\u001b[0m\n\u001b[0;31m    print()\u001b[0m\n\u001b[0m    ^\u001b[0m\n\u001b[0;31mIndentationError\u001b[0m\u001b[0;31m:\u001b[0m unexpected indent\n"
          ]
        }
      ]
    },
    {
      "cell_type": "code",
      "source": [
        "lists=[10,20,30,40] \n",
        "class Test:\n",
        "  @staticmethod\n",
        "  def avaerge(lists):\n",
        "    result=sum(lists)/len(lists)\n",
        "    print(\"the Average\",result)\n",
        "  @staticmethod\n",
        "  def With(name):\n",
        "    for i in range(10):\n",
        "      print(\"Good evening\",(i),name)\n",
        "\n",
        "Test.avaerge(lists)\n",
        "Test.With(\"abhi\")\n",
        "\n"
      ],
      "metadata": {
        "colab": {
          "base_uri": "https://localhost:8080/"
        },
        "id": "uei7YYLAGmn1",
        "outputId": "28dcda6a-06e6-4b5c-c90b-b83f814a02fa"
      },
      "execution_count": null,
      "outputs": [
        {
          "output_type": "stream",
          "name": "stdout",
          "text": [
            "the Average 25.0\n",
            "Good evening 0 abhi\n",
            "Good evening 1 abhi\n",
            "Good evening 2 abhi\n",
            "Good evening 3 abhi\n",
            "Good evening 4 abhi\n",
            "Good evening 5 abhi\n",
            "Good evening 6 abhi\n",
            "Good evening 7 abhi\n",
            "Good evening 8 abhi\n",
            "Good evening 9 abhi\n"
          ]
        }
      ]
    },
    {
      "cell_type": "code",
      "source": [
        "class Test:\n",
        "  def m1(self):\n",
        "    a=10\n",
        "    print(a)\n",
        "  def m2(self):\n",
        "    print(a)\n",
        "s1=Test()\n",
        "s1.m1()\n",
        "s1.m2()\n",
        "\"\"\"\n",
        "local variable=this is the method the temporary method hat store the \n",
        "varibale\n",
        "and the local varibale is the variable and the  you are not called this by another\n",
        "inststnce object\n",
        "\"\"\""
      ],
      "metadata": {
        "colab": {
          "base_uri": "https://localhost:8080/",
          "height": 339
        },
        "id": "sauIbuikHyc5",
        "outputId": "fa74c431-8806-4daa-b394-fa8621780e2c"
      },
      "execution_count": null,
      "outputs": [
        {
          "output_type": "stream",
          "name": "stdout",
          "text": [
            "10\n"
          ]
        },
        {
          "output_type": "error",
          "ename": "NameError",
          "evalue": "ignored",
          "traceback": [
            "\u001b[0;31m---------------------------------------------------------------------------\u001b[0m",
            "\u001b[0;31mNameError\u001b[0m                                 Traceback (most recent call last)",
            "\u001b[0;32m<ipython-input-88-8b431a072192>\u001b[0m in \u001b[0;36m<module>\u001b[0;34m\u001b[0m\n\u001b[1;32m      7\u001b[0m \u001b[0ms1\u001b[0m\u001b[0;34m=\u001b[0m\u001b[0mTest\u001b[0m\u001b[0;34m(\u001b[0m\u001b[0;34m)\u001b[0m\u001b[0;34m\u001b[0m\u001b[0;34m\u001b[0m\u001b[0m\n\u001b[1;32m      8\u001b[0m \u001b[0ms1\u001b[0m\u001b[0;34m.\u001b[0m\u001b[0mm1\u001b[0m\u001b[0;34m(\u001b[0m\u001b[0;34m)\u001b[0m\u001b[0;34m\u001b[0m\u001b[0;34m\u001b[0m\u001b[0m\n\u001b[0;32m----> 9\u001b[0;31m \u001b[0ms1\u001b[0m\u001b[0;34m.\u001b[0m\u001b[0mm2\u001b[0m\u001b[0;34m(\u001b[0m\u001b[0;34m)\u001b[0m\u001b[0;34m\u001b[0m\u001b[0;34m\u001b[0m\u001b[0m\n\u001b[0m",
            "\u001b[0;32m<ipython-input-88-8b431a072192>\u001b[0m in \u001b[0;36mm2\u001b[0;34m(self)\u001b[0m\n\u001b[1;32m      4\u001b[0m     \u001b[0mprint\u001b[0m\u001b[0;34m(\u001b[0m\u001b[0ma\u001b[0m\u001b[0;34m)\u001b[0m\u001b[0;34m\u001b[0m\u001b[0;34m\u001b[0m\u001b[0m\n\u001b[1;32m      5\u001b[0m   \u001b[0;32mdef\u001b[0m \u001b[0mm2\u001b[0m\u001b[0;34m(\u001b[0m\u001b[0mself\u001b[0m\u001b[0;34m)\u001b[0m\u001b[0;34m:\u001b[0m\u001b[0;34m\u001b[0m\u001b[0;34m\u001b[0m\u001b[0m\n\u001b[0;32m----> 6\u001b[0;31m     \u001b[0mprint\u001b[0m\u001b[0;34m(\u001b[0m\u001b[0ma\u001b[0m\u001b[0;34m)\u001b[0m\u001b[0;34m\u001b[0m\u001b[0;34m\u001b[0m\u001b[0m\n\u001b[0m\u001b[1;32m      7\u001b[0m \u001b[0ms1\u001b[0m\u001b[0;34m=\u001b[0m\u001b[0mTest\u001b[0m\u001b[0;34m(\u001b[0m\u001b[0;34m)\u001b[0m\u001b[0;34m\u001b[0m\u001b[0;34m\u001b[0m\u001b[0m\n\u001b[1;32m      8\u001b[0m \u001b[0ms1\u001b[0m\u001b[0;34m.\u001b[0m\u001b[0mm1\u001b[0m\u001b[0;34m(\u001b[0m\u001b[0;34m)\u001b[0m\u001b[0;34m\u001b[0m\u001b[0;34m\u001b[0m\u001b[0m\n",
            "\u001b[0;31mNameError\u001b[0m: name 'a' is not defined"
          ]
        }
      ]
    },
    {
      "cell_type": "code",
      "source": [
        "class Test:\n",
        "  \"\"\"\n",
        "  this is my class\n",
        "  \"\"\"\n",
        "  def __init__(self,a,b):\n",
        "    self.a=a\n",
        "    self.b=b\n",
        "  def m1(self,c):\n",
        "    self.c=c\n",
        "t=Test(10,20)\n",
        "t.m1(30)\n",
        "t.d=40\n",
        "print(t.__dict__)\n",
        "print(Test.__doc__)\n",
        "\n",
        "\n",
        "\n"
      ],
      "metadata": {
        "id": "UmC4ipvlJrN_",
        "colab": {
          "base_uri": "https://localhost:8080/"
        },
        "outputId": "8e1eceb1-5526-485d-c2ed-a6495b6d15d5"
      },
      "execution_count": null,
      "outputs": [
        {
          "output_type": "stream",
          "name": "stdout",
          "text": [
            "{'a': 10, 'b': 20, 'c': 30, 'd': 40}\n",
            "\n",
            "  this is my class\n",
            "  \n"
          ]
        }
      ]
    },
    {
      "cell_type": "code",
      "source": [
        "class Test:\n",
        "  def __init__(self):\n",
        "    self.a=10\n",
        "    self.b=20\n",
        "  def m1(self):\n",
        "    self.c=30\n",
        "t1=Test()\n",
        "t1.m1()\n",
        "t1.d=40\n",
        "t2= Test()\n",
        "t3=Test()\n",
        "t3.e=50\n",
        "print(t1.__dict__)  # this is  executed all instance varibles in the class\n",
        "print(t2.__dict__)\n",
        "print(t3.__dict__) # this is only executed only constructor varibles becoz you cant passed varibles"
      ],
      "metadata": {
        "colab": {
          "base_uri": "https://localhost:8080/"
        },
        "id": "n1ShVRo_p9HJ",
        "outputId": "53e1eba4-e933-4981-8858-90f936ee9851"
      },
      "execution_count": null,
      "outputs": [
        {
          "output_type": "stream",
          "name": "stdout",
          "text": [
            "{'a': 10, 'b': 20, 'c': 30, 'd': 40}\n",
            "{'a': 10, 'b': 20}\n",
            "{'a': 10, 'b': 20, 'e': 50}\n"
          ]
        }
      ]
    },
    {
      "cell_type": "code",
      "source": [
        "class Customer:\n",
        "  \"\"\"\n",
        "  THis is class developed by -> abhi \n",
        "  descibe-\n",
        "          the Bank opertion\n",
        "  \"\"\"\n",
        "  Bank_Name=\"sbi\"\n",
        "  def __init__(self,name,balance=0.0):\n",
        "    self.name=name\n",
        "    self.balance=balance\n",
        "  def deposit(self,amount):\n",
        "    self.balance=self.balance*6/100+amount\n",
        "    print(\"After the balnce is \",self.balance)\n",
        "  def withdraw(self,amount):\n",
        "    if amount >self.balance:\n",
        "      print(\"insufficent amount\")\n",
        "    else:\n",
        "      self.balance=self.balance-amount\n",
        "      print(\"Ater withdrew balance\",self.balance)\n",
        "print(\"welcome to  \",Customer.Bank_Name)\n",
        "name= input(\"ENter the Name:\")\n",
        "t=Customer(name)\n",
        "while True:\n",
        "  print(\"d-Deposit\\nw-Withdraw\\ne-Exit\")\n",
        "  option =input(\"choose your option:\")\n",
        "  if option.lower()==\"d\":\n",
        "    amount=float(input(\"enter amount to deposit:\"))\n",
        "    t.deposit(amount)\n",
        "    print()\n",
        "  elif option.lower()==\"w\":\n",
        "    amount=float(input(\"enter the amount to withdraw\"))\n",
        "    t.withdraw(amount)\n",
        "    print()\n",
        "  elif option.lower()==\"e\":\n",
        "    print(\"thanking for banking\")\n",
        "    break\n",
        "  else:\n",
        "    print(\"inavlid syntax/please choose valid option\")"
      ],
      "metadata": {
        "colab": {
          "base_uri": "https://localhost:8080/"
        },
        "id": "e9pv5QBcxxyQ",
        "outputId": "85e07927-4777-4e97-e59d-6863b4f3baf7"
      },
      "execution_count": null,
      "outputs": [
        {
          "output_type": "stream",
          "name": "stdout",
          "text": [
            "welcome to   sbi\n",
            "ENter the Name:abhishek saini\n",
            "d-Deposit\n",
            "w-Withdraw\n",
            "e-Exit\n",
            "choose your option:d\n",
            "enter amount to deposit:4000\n",
            "After the balnce is  4000.0\n",
            "\n",
            "d-Deposit\n",
            "w-Withdraw\n",
            "e-Exit\n",
            "choose your option:w\n",
            "enter the amount to withdraw2500\n",
            "Ater withdrew balance 1500.0\n",
            "\n",
            "d-Deposit\n",
            "w-Withdraw\n",
            "e-Exit\n",
            "choose your option:e\n",
            "thanking for banking\n"
          ]
        }
      ]
    },
    {
      "cell_type": "code",
      "source": [
        "class Test:\n",
        "  a=10\n",
        "  def __init__(self):\n",
        "    print(self.a) #\n",
        "    print(Test.a)\n",
        "  def m1(self):\n",
        "    print(self.a)\n",
        "    print(Test.a)\n",
        "  @classmethod\n",
        "  def m2(cls):\n",
        "    print(cls.a)\n",
        "    print(Test.a)\n",
        "  @staticmethod\n",
        "  def m3(self):\n",
        "    print(self.a)\n",
        "    print(Test.a)\n",
        "t=Test()\n",
        "print(t.a)\n",
        "print(Test.a)"
      ],
      "metadata": {
        "colab": {
          "base_uri": "https://localhost:8080/"
        },
        "id": "-XAnqbblKRCU",
        "outputId": "40850fb2-a707-4aa3-8958-087d5c038697"
      },
      "execution_count": null,
      "outputs": [
        {
          "output_type": "stream",
          "name": "stdout",
          "text": [
            "10\n",
            "10\n",
            "10\n",
            "10\n"
          ]
        }
      ]
    },
    {
      "cell_type": "code",
      "source": [
        "class Test:\n",
        "  a=10\n",
        "  def m1(self):\n",
        "    self.a=888\n",
        "t=Test()\n",
        "t.m1()\n",
        "print(Test.a)\n",
        "print(t.a)"
      ],
      "metadata": {
        "colab": {
          "base_uri": "https://localhost:8080/"
        },
        "id": "Hth9WbmSL0B4",
        "outputId": "d31b887c-da1b-4a24-d17a-061c0c9f6e4b"
      },
      "execution_count": null,
      "outputs": [
        {
          "output_type": "stream",
          "name": "stdout",
          "text": [
            "10\n",
            "888\n"
          ]
        }
      ]
    },
    {
      "cell_type": "code",
      "source": [
        "class Test:\n",
        "  a=10\n",
        "  def m1(self):\n",
        "    Test.a=888\n",
        "t=Test()\n",
        "t.m1()\n",
        "print(Test.a)\n",
        "print(t.a)"
      ],
      "metadata": {
        "colab": {
          "base_uri": "https://localhost:8080/"
        },
        "id": "LDu93RN3S3x2",
        "outputId": "68564ae3-4271-4479-a23e-48de3b121d27"
      },
      "execution_count": null,
      "outputs": [
        {
          "output_type": "stream",
          "name": "stdout",
          "text": [
            "888\n",
            "888\n"
          ]
        }
      ]
    },
    {
      "cell_type": "code",
      "source": [
        "class Test:\n",
        "  a=10\n",
        "  def __init__(self):\n",
        "    self.b=20\n",
        "t1=Test()\n",
        "t2=Test()\n",
        "print(\"t1 :\",t1.a,t1.b)\n",
        "print(\"t2 :\",t2.a,t2.b)\n",
        "t1.a=888\n",
        "t1.b=999\n",
        "print(\"t1:\",t1.a,t1.b)\n",
        "print(\"t2:\",t2.a,t2.b)\n"
      ],
      "metadata": {
        "colab": {
          "base_uri": "https://localhost:8080/"
        },
        "id": "b-cw-tVdT04j",
        "outputId": "260a5266-e429-4222-9480-80c0448bda4f"
      },
      "execution_count": null,
      "outputs": [
        {
          "output_type": "stream",
          "name": "stdout",
          "text": [
            "t1 : 10 20\n",
            "t2 : 10 20\n",
            "t1: 888 999\n",
            "t2: 10 20\n"
          ]
        }
      ]
    },
    {
      "cell_type": "code",
      "source": [
        "class Test:\n",
        "  a=10\n",
        "  def __init__(self):\n",
        "    self.b=20\n",
        "t1=Test()\n",
        "t2=Test()\n",
        "print(\"t1 :\",t1.a,t1.b)\n",
        "print(\"t2 :\",t2.a,t2.b)\n",
        "Test.a=888\n",
        "Test.b=999\n",
        "print(\"t1 :\",t1.a,t1.b)\n",
        "print(\"t2 :\",t2.a,t2.b)\n",
        "print(\"Test :\",Test.a,Test.b)\n"
      ],
      "metadata": {
        "colab": {
          "base_uri": "https://localhost:8080/"
        },
        "id": "tSTeWer3Yqbe",
        "outputId": "7b32885c-07a9-4a16-bc16-1ab03f6c660a"
      },
      "execution_count": null,
      "outputs": [
        {
          "output_type": "stream",
          "name": "stdout",
          "text": [
            "t1 : 10 20\n",
            "t2 : 10 20\n",
            "t1 : 888 20\n",
            "t2 : 888 20\n",
            "Test : 888 999\n"
          ]
        }
      ]
    },
    {
      "cell_type": "code",
      "source": [
        "class Employee:\n",
        "  def __init__(self,eno,ename,esal):\n",
        "    self.eno=eno\n",
        "    self.ename=ename\n",
        "    self.esal=esal\n",
        "  def display(self):\n",
        "    print(\"Employee Number:\",self.eno)\n",
        "    print(\"Employee Name:\",self.ename)\n",
        "    print(\"Employee Salary:\",self.esal)\n",
        "class Managar:\n",
        "  def UPdateEmpSal(emp):\n",
        "    emp.esal=emp.esal+10000\n",
        "    emp.display()  #its is static varible becoz why it called a static vaible becoz it's not contain constructor and not an instance varibles\n",
        "\n",
        "emp =Employee(101,\"Abhi\",45000)\n",
        "Managar.UPdateEmpSal(emp)\n",
        "\n"
      ],
      "metadata": {
        "id": "4nmJzyxfaRxS",
        "colab": {
          "base_uri": "https://localhost:8080/"
        },
        "outputId": "2a35b73f-71db-42fc-f37a-6635e8b36c82"
      },
      "execution_count": null,
      "outputs": [
        {
          "output_type": "stream",
          "name": "stdout",
          "text": [
            "Employee Number: 101\n",
            "Employee Name: Abhi\n",
            "Employee Salary: 55000\n"
          ]
        }
      ]
    },
    {
      "cell_type": "code",
      "source": [
        "class Employee:\n",
        "  def __init__(self,name,salary):\n",
        "    self.name=name\n",
        "    self.salary=salary\n",
        "  def display(self):\n",
        "    print(\"Employee Name:\",self.name)\n",
        "    print(\"Employee Salry:\",self.salary)\n",
        "\n",
        "class UPdate:\n",
        "  def updateinfo(emp):\n",
        "    emp.salary=emp.salary + 10000\n",
        "    emp.display()\n",
        "y=Employee(\"Abhi\",10000)\n",
        "UPdate.updateinfo(y)"
      ],
      "metadata": {
        "colab": {
          "base_uri": "https://localhost:8080/"
        },
        "id": "KW8_zkBVMXr4",
        "outputId": "51f114c6-67c1-4d7a-9d56-2e58f41eecb3"
      },
      "execution_count": null,
      "outputs": [
        {
          "output_type": "stream",
          "name": "stdout",
          "text": [
            "Employee Name: Abhi\n",
            "Employee Salry: 20000\n"
          ]
        }
      ]
    },
    {
      "cell_type": "code",
      "source": [
        "class Student:\n",
        "  def __init__(self,name,roll_no,marks):\n",
        "    self.name=name\n",
        "    self.roll_no=roll_no\n",
        "    self.marks=marks\n",
        "  def info(self):\n",
        "    print(\"Your name is :\",self.name)\n",
        "    print(\"Your roll_no is :\",self.roll_no)\n",
        "    print(\"YOur marks is \",self.marks)\n",
        "class Test:\n",
        "  def MarksUpdate(mark_):\n",
        "    mark_.marks=mark_.marks-15\n",
        "    mark_.info()\n",
        "    print(\"your no is upadted\")\n",
        "y=Student(\"Abhi\",1,100)\n",
        "Test.MarksUpdate(y)"
      ],
      "metadata": {
        "colab": {
          "base_uri": "https://localhost:8080/"
        },
        "id": "iqdiqh90Of5X",
        "outputId": "48beab3c-d806-4098-bea7-ac4d6858c654"
      },
      "execution_count": null,
      "outputs": [
        {
          "output_type": "stream",
          "name": "stdout",
          "text": [
            "Your name is : Abhi\n",
            "Your roll_no is : 1\n",
            "YOur marks is  85\n",
            "your no is upadted\n"
          ]
        }
      ]
    },
    {
      "cell_type": "code",
      "source": [
        "class Student:\n",
        "  SchoolName=\"Durgasoftware\"\n",
        "  def __init__(self,name,roll_no):\n",
        "    self.name=name\n",
        "    self.roll_no=roll_no\n",
        "  def GetStudentInfo(self):\n",
        "    print(\"Student name\",self.name)\n",
        "    print(\"Student roll_no\",self.roll_no)\n",
        "  @classmethod\n",
        "  def GetSchoolInfo(cls):  \n",
        "    print(\"School name:\",cls.SchoolName)\n",
        "  @staticmethod\n",
        "  def GetSum(a,b):\n",
        "    return a+b\n",
        "\n",
        "  "
      ],
      "metadata": {
        "id": "wINTClvqREtr"
      },
      "execution_count": null,
      "outputs": []
    },
    {
      "cell_type": "code",
      "source": [
        "class Test:\n",
        "  @classmethod\n",
        "  def m1(cls):\n",
        "    print(id(cls))\n",
        "print(id(Test))\n",
        "Test.m1()"
      ],
      "metadata": {
        "colab": {
          "base_uri": "https://localhost:8080/"
        },
        "id": "dyW0pZNi4-jP",
        "outputId": "57eefe9f-d4e7-4899-d9ee-6770a6da13d1"
      },
      "execution_count": null,
      "outputs": [
        {
          "output_type": "stream",
          "name": "stdout",
          "text": [
            "57155088\n",
            "57155088\n"
          ]
        }
      ]
    },
    {
      "cell_type": "code",
      "source": [
        "class Test:\n",
        "  a=10\n",
        "  @classmethod\n",
        "  def m1(cls):\n",
        "    #del Test.a\n",
        "    del cls.a\n",
        "\n",
        "\n",
        "print(Test.__dict__)\n"
      ],
      "metadata": {
        "colab": {
          "base_uri": "https://localhost:8080/",
          "height": 376
        },
        "id": "D5Hc9eGE5b66",
        "outputId": "6e1041a6-e0cb-4583-f4f1-208fe7e150a0"
      },
      "execution_count": null,
      "outputs": [
        {
          "output_type": "stream",
          "name": "stdout",
          "text": [
            "{'__module__': '__main__', 'm1': <classmethod object at 0x7fcdae297af0>, '__dict__': <attribute '__dict__' of 'Test' objects>, '__weakref__': <attribute '__weakref__' of 'Test' objects>, '__doc__': None}\n"
          ]
        },
        {
          "output_type": "error",
          "ename": "AttributeError",
          "evalue": "ignored",
          "traceback": [
            "\u001b[0;31m---------------------------------------------------------------------------\u001b[0m",
            "\u001b[0;31mAttributeError\u001b[0m                            Traceback (most recent call last)",
            "\u001b[0;32m<ipython-input-12-d31358c877d2>\u001b[0m in \u001b[0;36m<module>\u001b[0;34m\u001b[0m\n\u001b[1;32m      7\u001b[0m \u001b[0;32mdel\u001b[0m \u001b[0mTest\u001b[0m\u001b[0;34m.\u001b[0m\u001b[0ma\u001b[0m\u001b[0;34m\u001b[0m\u001b[0;34m\u001b[0m\u001b[0m\n\u001b[1;32m      8\u001b[0m \u001b[0mprint\u001b[0m\u001b[0;34m(\u001b[0m\u001b[0mTest\u001b[0m\u001b[0;34m.\u001b[0m\u001b[0m__dict__\u001b[0m\u001b[0;34m)\u001b[0m\u001b[0;34m\u001b[0m\u001b[0;34m\u001b[0m\u001b[0m\n\u001b[0;32m----> 9\u001b[0;31m \u001b[0mprint\u001b[0m\u001b[0;34m(\u001b[0m\u001b[0mTest\u001b[0m\u001b[0;34m.\u001b[0m\u001b[0mm1\u001b[0m\u001b[0;34m(\u001b[0m\u001b[0;34m)\u001b[0m\u001b[0;34m)\u001b[0m\u001b[0;34m\u001b[0m\u001b[0;34m\u001b[0m\u001b[0m\n\u001b[0m",
            "\u001b[0;32m<ipython-input-12-d31358c877d2>\u001b[0m in \u001b[0;36mm1\u001b[0;34m(cls)\u001b[0m\n\u001b[1;32m      4\u001b[0m   \u001b[0;32mdef\u001b[0m \u001b[0mm1\u001b[0m\u001b[0;34m(\u001b[0m\u001b[0mcls\u001b[0m\u001b[0;34m)\u001b[0m\u001b[0;34m:\u001b[0m\u001b[0;34m\u001b[0m\u001b[0;34m\u001b[0m\u001b[0m\n\u001b[1;32m      5\u001b[0m     \u001b[0;31m#del Test.a\u001b[0m\u001b[0;34m\u001b[0m\u001b[0;34m\u001b[0m\u001b[0;34m\u001b[0m\u001b[0m\n\u001b[0;32m----> 6\u001b[0;31m     \u001b[0;32mdel\u001b[0m \u001b[0mcls\u001b[0m\u001b[0;34m.\u001b[0m\u001b[0ma\u001b[0m\u001b[0;34m\u001b[0m\u001b[0;34m\u001b[0m\u001b[0m\n\u001b[0m\u001b[1;32m      7\u001b[0m \u001b[0;32mdel\u001b[0m \u001b[0mTest\u001b[0m\u001b[0;34m.\u001b[0m\u001b[0ma\u001b[0m\u001b[0;34m\u001b[0m\u001b[0;34m\u001b[0m\u001b[0m\n\u001b[1;32m      8\u001b[0m \u001b[0mprint\u001b[0m\u001b[0;34m(\u001b[0m\u001b[0mTest\u001b[0m\u001b[0;34m.\u001b[0m\u001b[0m__dict__\u001b[0m\u001b[0;34m)\u001b[0m\u001b[0;34m\u001b[0m\u001b[0;34m\u001b[0m\u001b[0m\n",
            "\u001b[0;31mAttributeError\u001b[0m: a"
          ]
        }
      ]
    },
    {
      "cell_type": "code",
      "source": [
        "class Test:\n",
        "  a=10\n",
        "  def __init__(self):\n",
        "    Test.b=20\n",
        "    del Test.a\n",
        "  def m1(self):\n",
        "    Test.c=30\n",
        "    del Test.b\n",
        "  @classmethod\n",
        "  def m2(cls):\n",
        "    Test.d=40\n",
        "    cls.d=40\n",
        "    del Test.c\n",
        "  @staticmethod\n",
        "  def m3():\n",
        "    Test.e=50\n",
        "    del Test.d\n",
        "t=Test()\n",
        "t.m1()\n",
        "t.m2()\n",
        "t.m3()\n",
        "del Test.e\n",
        "print(Test.__dict__)\n",
        "\n",
        "\n",
        "\n"
      ],
      "metadata": {
        "colab": {
          "base_uri": "https://localhost:8080/"
        },
        "id": "8gEnZ_1v7Nth",
        "outputId": "8a603b6a-96af-4fd2-af63-a38eddc2751e"
      },
      "execution_count": null,
      "outputs": [
        {
          "output_type": "stream",
          "name": "stdout",
          "text": [
            "{'__module__': '__main__', '__init__': <function Test.__init__ at 0x7fcdae1e0430>, 'm1': <function Test.m1 at 0x7fcdae1e0160>, 'm2': <classmethod object at 0x7fcdae24ef40>, 'm3': <staticmethod object at 0x7fcdae24e070>, '__dict__': <attribute '__dict__' of 'Test' objects>, '__weakref__': <attribute '__weakref__' of 'Test' objects>, '__doc__': None}\n"
          ]
        }
      ]
    },
    {
      "cell_type": "code",
      "source": [
        "class Test:\n",
        "  a=10\n",
        "  \n",
        "t=Test()\n",
        "print(t.a)\n",
        "del t.a \n",
        "\"\"\"\n",
        "you got a error becoz\n",
        "Becoz you cannot delete static varible using the object variable you can \n",
        "only del the staic varibale ussing only class Name only\n",
        "\"\"\""
      ],
      "metadata": {
        "colab": {
          "base_uri": "https://localhost:8080/",
          "height": 264
        },
        "id": "9wnGyyuf_MqK",
        "outputId": "67063b18-4b49-40a7-befe-9b7f474a0063"
      },
      "execution_count": null,
      "outputs": [
        {
          "output_type": "stream",
          "name": "stdout",
          "text": [
            "10\n"
          ]
        },
        {
          "output_type": "error",
          "ename": "AttributeError",
          "evalue": "ignored",
          "traceback": [
            "\u001b[0;31m---------------------------------------------------------------------------\u001b[0m",
            "\u001b[0;31mAttributeError\u001b[0m                            Traceback (most recent call last)",
            "\u001b[0;32m<ipython-input-53-f24b5ca7bb77>\u001b[0m in \u001b[0;36m<module>\u001b[0;34m\u001b[0m\n\u001b[1;32m      4\u001b[0m \u001b[0mt\u001b[0m\u001b[0;34m=\u001b[0m\u001b[0mTest\u001b[0m\u001b[0;34m(\u001b[0m\u001b[0;34m)\u001b[0m\u001b[0;34m\u001b[0m\u001b[0;34m\u001b[0m\u001b[0m\n\u001b[1;32m      5\u001b[0m \u001b[0mprint\u001b[0m\u001b[0;34m(\u001b[0m\u001b[0mt\u001b[0m\u001b[0;34m.\u001b[0m\u001b[0ma\u001b[0m\u001b[0;34m)\u001b[0m\u001b[0;34m\u001b[0m\u001b[0;34m\u001b[0m\u001b[0m\n\u001b[0;32m----> 6\u001b[0;31m \u001b[0;32mdel\u001b[0m \u001b[0mt\u001b[0m\u001b[0;34m.\u001b[0m\u001b[0ma\u001b[0m\u001b[0;34m\u001b[0m\u001b[0;34m\u001b[0m\u001b[0m\n\u001b[0m\u001b[1;32m      7\u001b[0m \"\"\"\n\u001b[1;32m      8\u001b[0m \u001b[0myou\u001b[0m \u001b[0mgot\u001b[0m \u001b[0ma\u001b[0m \u001b[0merror\u001b[0m \u001b[0mbecoz\u001b[0m\u001b[0;34m\u001b[0m\u001b[0;34m\u001b[0m\u001b[0m\n",
            "\u001b[0;31mAttributeError\u001b[0m: a"
          ]
        }
      ]
    },
    {
      "cell_type": "code",
      "source": [
        "class test:\n",
        "  a=10\n",
        "  def __init__(self):\n",
        "    test.a=20\n",
        "  def m1(self):\n",
        "    test.a=30\n",
        "  @classmethod\n",
        "  def m2(cls):\n",
        "    cls.a=40\n",
        "  @staticmethod\n",
        "  def m3():\n",
        "    test.a=50\n",
        "t=test()\n",
        "test.a=60\n",
        "print(test.a)\n",
        "\n",
        "\n",
        "  "
      ],
      "metadata": {
        "colab": {
          "base_uri": "https://localhost:8080/"
        },
        "id": "6H_hvj7nAyjL",
        "outputId": "120141e4-1f2e-47bf-908e-5f7759694161"
      },
      "execution_count": null,
      "outputs": [
        {
          "output_type": "stream",
          "name": "stdout",
          "text": [
            "60\n"
          ]
        }
      ]
    },
    {
      "cell_type": "markdown",
      "source": [
        "###__________inside_class__________"
      ],
      "metadata": {
        "id": "AOgRmUvkTYlq"
      }
    },
    {
      "cell_type": "code",
      "source": [
        "class University:\n",
        "  class Depaement:\n",
        "    pass"
      ],
      "metadata": {
        "id": "qqFuxzLRFNqL"
      },
      "execution_count": null,
      "outputs": []
    },
    {
      "cell_type": "code",
      "source": [
        "class Car:\n",
        "  class Engine:\n",
        "    pass"
      ],
      "metadata": {
        "id": "W5M_0EQuTQNY"
      },
      "execution_count": null,
      "outputs": []
    },
    {
      "cell_type": "code",
      "source": [
        "class Head:#outer class\n",
        "  class Brain:#inner class\n",
        "    pass\n",
        "\"\"\"\n",
        "1.modularity ->imporove the modularity becoz its snippets(pieces) the class\n",
        "and improve the   so as to reduce the overall complexity of the problem\n",
        "2.security-> its improve the secruity the class it not contact with inner \n",
        "class\n",
        "\"\"\""
      ],
      "metadata": {
        "colab": {
          "base_uri": "https://localhost:8080/",
          "height": 73
        },
        "id": "rLz_6pkkTWku",
        "outputId": "f461b6b6-bc8b-49d8-98c1-f6bfe35715e3"
      },
      "execution_count": null,
      "outputs": [
        {
          "output_type": "execute_result",
          "data": {
            "text/plain": [
              "'\\n1.modularity ->imporove the modularity becoz its snippets(pieces) the class\\nand improve the   so as to reduce the overall complexity of the problem\\n2.security-> its improve the secruity the class it not contact with inner \\nclass\\n'"
            ],
            "application/vnd.google.colaboratory.intrinsic+json": {
              "type": "string"
            }
          },
          "metadata": {},
          "execution_count": 95
        }
      ]
    },
    {
      "cell_type": "code",
      "source": [
        "class  Outer:\n",
        "  def __init__(self):\n",
        "    print(\"outer_object_creation\")\n",
        "  class Inner:\n",
        "    def __init__(self):\n",
        "      print(\"inner_object_creation\")\n",
        "    def m1(self):\n",
        "      print(\"inner_class_method\")\n",
        "t=Outer().Inner()\n",
        "\"\"\"\n",
        "t=outer()\n",
        "i=t.inner()\n",
        "i.m1()\n",
        "\"\"\"\n",
        "\n",
        "t.m1()\n"
      ],
      "metadata": {
        "colab": {
          "base_uri": "https://localhost:8080/"
        },
        "id": "xo1TT3n0Ty4p",
        "outputId": "e2188b55-d630-441e-c55f-05a5c208c139"
      },
      "execution_count": null,
      "outputs": [
        {
          "output_type": "stream",
          "name": "stdout",
          "text": [
            "outer_object_creation\n",
            "inner_object_creation\n",
            "inner_class_method\n"
          ]
        }
      ]
    },
    {
      "cell_type": "code",
      "source": [
        "class Calculator:\n",
        "  def __init__(self,a,b):\n",
        "    self.a=a\n",
        "    self.b=b\n",
        "  def add(self):\n",
        "    print(\"The total is :\",self.a+self.b)\n",
        "  def mul(self):\n",
        "    print(\"The multiply is :\",self.a*self.b)\n",
        "  def sub(self):\n",
        "    print(\"The subract is :\",self.a*self.b)\n",
        "  def divide(self):\n",
        "    print(\"The divide is :\",self.a/self.b)\n",
        "  def modulue(self):\n",
        "    print(\"the modulo is \",self.a%self.b)\n",
        "  def power(self):\n",
        "    print(\"The power is \",self.a**self.b)\n",
        "t=Calculator(4,5)\n",
        "t.add()\n",
        "t.sub()\n",
        "t.mul()\n",
        "t.divide()\n",
        "t.modulue()\n",
        "t.power()"
      ],
      "metadata": {
        "id": "DNC97pdXZxXj",
        "colab": {
          "base_uri": "https://localhost:8080/"
        },
        "outputId": "bb187485-ae5d-4cf8-e43e-76f04fe4ded6"
      },
      "execution_count": null,
      "outputs": [
        {
          "output_type": "stream",
          "name": "stdout",
          "text": [
            "The total is : 9\n",
            "The subract is : 20\n",
            "The multiply is : 20\n",
            "The divide is : 0.8\n",
            "the modulo is  4\n",
            "The power is  1024\n"
          ]
        }
      ]
    },
    {
      "cell_type": "code",
      "source": [
        "class Test:\n",
        "  a=0\n",
        "  def __init__(self):\n",
        "    Test.a=Test.a +1\n",
        "  @classmethod\n",
        "  def GetofObjects(cls):\n",
        "    print(\"The no. of objects is create\",cls.a)\n",
        "Test.GetofObjects() #0\n",
        "t=Test()\n",
        "t=Test()\n",
        "t=Test()\n",
        "t=Test()\n",
        "t.GetofObjects()#4\n",
        "\n",
        "\n"
      ],
      "metadata": {
        "colab": {
          "base_uri": "https://localhost:8080/"
        },
        "id": "PagGmIYCWRkP",
        "outputId": "34397e3f-bce1-4634-8f7f-1db6c9fbd5ac"
      },
      "execution_count": null,
      "outputs": [
        {
          "output_type": "stream",
          "name": "stdout",
          "text": [
            "The no. of objects is create 0\n",
            "The no. of objects is create 4\n"
          ]
        }
      ]
    },
    {
      "cell_type": "code",
      "source": [
        "class Test:\n",
        "  a=10\n",
        "  def __init__(self):\n",
        "    self.b=20\n",
        "t1=Test()\n",
        "t2=Test()\n",
        "t3=Test()\n",
        "Test.a=888\n",
        "t1.b=999\n",
        "#t2.b=30\n",
        "print(\"t1 :\",t1.a,t1.b)\n",
        "print(\"t2\",t2.a,t2.b)\n",
        "print(t3.a)\n",
        "\n",
        "\"\"\"\n",
        "if you change the static varibles so you do it one thing to the \n",
        "only by the Class name not by the object reference\n",
        "\"\"\"\n",
        "\n"
      ],
      "metadata": {
        "id": "b1X4Dnc_k9lw",
        "colab": {
          "base_uri": "https://localhost:8080/",
          "height": 110
        },
        "outputId": "bc8d4fa5-ca40-4af0-921e-bb9aa1dacc85"
      },
      "execution_count": null,
      "outputs": [
        {
          "output_type": "stream",
          "name": "stdout",
          "text": [
            "t1 : 888 999\n",
            "t2 888 20\n",
            "888\n"
          ]
        },
        {
          "output_type": "execute_result",
          "data": {
            "text/plain": [
              "'\\nif you change the static varibles so you do it one thing to the \\nonly by the Class name not by the object reference\\n'"
            ],
            "application/vnd.google.colaboratory.intrinsic+json": {
              "type": "string"
            }
          },
          "metadata": {},
          "execution_count": 33
        }
      ]
    },
    {
      "cell_type": "code",
      "source": [
        "class Test:\n",
        "  @staticmethod\n",
        "  def m1(a):\n",
        "    a=1\n",
        "    print(\"hi i am  inside static method\")\n",
        "t=Test()\n",
        "t.m1(2)\n",
        "    \n",
        "\n"
      ],
      "metadata": {
        "colab": {
          "base_uri": "https://localhost:8080/"
        },
        "id": "DbfyO9lIvK8g",
        "outputId": "3b746560-025c-47b2-de9d-132f65087aab"
      },
      "execution_count": null,
      "outputs": [
        {
          "output_type": "stream",
          "name": "stdout",
          "text": [
            "hi i am  inside static method\n"
          ]
        }
      ]
    },
    {
      "cell_type": "code",
      "source": [
        "class Durgamath:\n",
        "  @staticmethod\n",
        "  def add(a,b):\n",
        "    print(\"print the \",(a+b))\n",
        "  @staticmethod\n",
        "  def product(a,b):\n",
        "    print(\"the product is:\",a*b)\n",
        "  @staticmethod\n",
        "  def average(a,b):\n",
        "    print(\"the average is :\",(a+b)/2)\n",
        "Durgamath.add(10,20)\n",
        "Durgamath.average(10,2)\n",
        "Durgamath.product(10,20)\n",
        "\n",
        "\"\"\"\n",
        "staticmethod are does pass that not use any agruments in class and the they use \n",
        "as and the not realted in class \n",
        "and the above example is not a necessary to craete a objects name in class we can \n",
        "access diect use class name\n",
        "\"\"\""
      ],
      "metadata": {
        "colab": {
          "base_uri": "https://localhost:8080/",
          "height": 128
        },
        "id": "Xdzs5DAgxf_I",
        "outputId": "9291f581-31b8-4530-c04e-401bf74fc6d3"
      },
      "execution_count": null,
      "outputs": [
        {
          "output_type": "stream",
          "name": "stdout",
          "text": [
            "print the  30\n",
            "the average is : 6.0\n",
            "the product is: 200\n"
          ]
        },
        {
          "output_type": "execute_result",
          "data": {
            "text/plain": [
              "'\\nstaticmethod are does pass that not use any agruments in class and the they use \\nas and the not realted in class \\nand the above example is not a necessary to craete a objects name in class we can \\naccess diect use class name\\n'"
            ],
            "application/vnd.google.colaboratory.intrinsic+json": {
              "type": "string"
            }
          },
          "metadata": {},
          "execution_count": 46
        }
      ]
    },
    {
      "cell_type": "code",
      "source": [
        "class Test:\n",
        "  def m1(self):\n",
        "    print(\"method\")\n",
        "t=Test()\n",
        "t.m1()"
      ],
      "metadata": {
        "colab": {
          "base_uri": "https://localhost:8080/"
        },
        "id": "9QvKFnvh0IJr",
        "outputId": "d62f0223-3ecf-4e73-af88-2bfd4e20c312"
      },
      "execution_count": null,
      "outputs": [
        {
          "output_type": "stream",
          "name": "stdout",
          "text": [
            "method\n"
          ]
        }
      ]
    },
    {
      "cell_type": "code",
      "source": [
        "class Test:\n",
        "  def __init__(self):\n",
        "    print(\"consturctor execution\")\n",
        "t=Test()\n",
        "t.__init__()\n",
        "t.__init__()\n",
        "t.__init__()\n",
        "t.__init__()"
      ],
      "metadata": {
        "colab": {
          "base_uri": "https://localhost:8080/"
        },
        "id": "XM-nNsnC0sDR",
        "outputId": "59c2b5c9-63ed-4265-cce7-f33dbd92a583"
      },
      "execution_count": null,
      "outputs": [
        {
          "output_type": "stream",
          "name": "stdout",
          "text": [
            "consturctor execution\n",
            "consturctor execution\n",
            "consturctor execution\n",
            "consturctor execution\n",
            "consturctor execution\n"
          ]
        }
      ]
    },
    {
      "cell_type": "code",
      "source": [
        "class Test:\n",
        "  def __init__(self):\n",
        "    print(\"no arg pass\")\n",
        "  def __init__(self,x):\n",
        "    print(\"one arg constuctor\")\n",
        "t=Test(10)\n",
        "t2=Test(10)\n",
        "\n",
        "\"\"\"\n",
        "the method got error becoz why first things is that same name will not stay\n",
        "and the overload method is not for constuctor\n",
        "if you see above example that a two consrtuctor but python is consider only second\n",
        "constructor\n",
        "\"\"\"\n"
      ],
      "metadata": {
        "colab": {
          "base_uri": "https://localhost:8080/",
          "height": 110
        },
        "id": "Hq6UBGv71W0D",
        "outputId": "84eb1548-9fa4-462a-dbe6-4e12107bd5c8"
      },
      "execution_count": null,
      "outputs": [
        {
          "output_type": "stream",
          "name": "stdout",
          "text": [
            "one arg constuctor\n",
            "one arg constuctor\n"
          ]
        },
        {
          "output_type": "execute_result",
          "data": {
            "text/plain": [
              "'\\nthe method got error becoz why first things is that same name will not stay\\nand the overload method is not for constuctor\\nif you see above example that a two consrtuctor but python is consider only second\\nconstructor\\n'"
            ],
            "application/vnd.google.colaboratory.intrinsic+json": {
              "type": "string"
            }
          },
          "metadata": {},
          "execution_count": 54
        }
      ]
    },
    {
      "cell_type": "code",
      "source": [
        "class Test:\n",
        "  a=10\n",
        "  def __init__(self):\n",
        "    self.b=20\n",
        "t1=Test()\n",
        "t1.b=30\n",
        "Test.a=888\n",
        "t2=Test()\n",
        "t2.a=999\n",
        "t2.b=40\n",
        "Test.b=899\n",
        "\n",
        "print(t1.a,t1.b)\n",
        "print(t2.a,t2.b)\n",
        "print(Test.a,Test.b)\n"
      ],
      "metadata": {
        "colab": {
          "base_uri": "https://localhost:8080/"
        },
        "id": "Nj3l-G4L2hLX",
        "outputId": "e365b2cc-1319-48aa-9368-343389cf089f"
      },
      "execution_count": null,
      "outputs": [
        {
          "output_type": "stream",
          "name": "stdout",
          "text": [
            "888 30\n",
            "999 40\n",
            "888 899\n"
          ]
        }
      ]
    },
    {
      "cell_type": "code",
      "source": [
        "class Student:\n",
        "  SchoolName=\"vardhamanvidyavihar\"\n",
        "  def __init__(self,name,roll_no):\n",
        "    self.name=name\n",
        "    self.roll_no=roll_no\n",
        "  def info(self):\n",
        "    print(\"YOur name is :\",self.name)\n",
        "    print(\"Your roll_no is :\",self.roll_no)\n",
        "    x=10\n",
        "    return \"your serial no is :\",x\n",
        "    \n",
        "t1=Student(\"abhihek\",1)\n",
        "print(t1.info())\n",
        "\n",
        "  "
      ],
      "metadata": {
        "colab": {
          "base_uri": "https://localhost:8080/"
        },
        "id": "W0Yok4F9mN4a",
        "outputId": "84999a21-fc51-4e77-896e-30b6f94c06b8"
      },
      "execution_count": null,
      "outputs": [
        {
          "output_type": "stream",
          "name": "stdout",
          "text": [
            "YOur name is : abhihek\n",
            "Your roll_no is : 1\n",
            "('your serial no is :', 10)\n"
          ]
        }
      ]
    },
    {
      "cell_type": "code",
      "source": [
        "class Test:\n",
        "  def  __init__(self):\n",
        "    print(\"hello\")\n",
        "t1=Test()\n"
      ],
      "metadata": {
        "colab": {
          "base_uri": "https://localhost:8080/"
        },
        "id": "gqezHb8Kp_fk",
        "outputId": "591eec26-d341-44cf-bfd7-ce65ffbb59b8"
      },
      "execution_count": null,
      "outputs": [
        {
          "output_type": "stream",
          "name": "stdout",
          "text": [
            "hello\n"
          ]
        }
      ]
    },
    {
      "cell_type": "code",
      "source": [
        "class Test:\n",
        "  def __init__(self,a,b):\n",
        "    self.a=a\n",
        "    self.b=b\n",
        "  def Test(self):\n",
        "    print(\"hi\",self.a)\n",
        "    print(\"wo\",self.b)\n",
        "t1=Test(1,2)\n",
        "t1.Test()\n"
      ],
      "metadata": {
        "colab": {
          "base_uri": "https://localhost:8080/"
        },
        "id": "9iolkXiQsYB5",
        "outputId": "f309e9eb-6e75-4df0-daaa-be64c72d0c29"
      },
      "execution_count": null,
      "outputs": [
        {
          "output_type": "stream",
          "name": "stdout",
          "text": [
            "hi 1\n",
            "wo 2\n"
          ]
        }
      ]
    },
    {
      "cell_type": "code",
      "source": [
        "class Student:\n",
        "  \"\"\"\n",
        "   developed by Abhi\n",
        "  \"\"\"\n",
        "  def __init__(self):\n",
        "    self.name=\"durga\"\n",
        "    self.roll_no=101\n",
        "    self.marks=98\n",
        "  def Talk(self):\n",
        "    print(\"Your name :\",self.name)\n",
        "    print(\"Your Roll _no is :\",self.roll_no)\n",
        "    print(\"YOur marks is :\",self.marks)\n",
        "s=Student()\n",
        "s.Talk()  \n",
        "  "
      ],
      "metadata": {
        "colab": {
          "base_uri": "https://localhost:8080/"
        },
        "id": "YIUPPjaRupJX",
        "outputId": "a576391b-e825-4792-8124-39ab0c3e3b17"
      },
      "execution_count": null,
      "outputs": [
        {
          "output_type": "stream",
          "name": "stdout",
          "text": [
            "Your name : durga\n",
            "Your Roll _no is : 101\n",
            "YOur marks is : 98\n"
          ]
        }
      ]
    },
    {
      "cell_type": "code",
      "source": [
        "class Stuudent:\n",
        "  def __init__(self,name,roll_no,marks):\n",
        "    self.name=name\n",
        "    self.roll_no=roll_no\n",
        "    self.marks=marks\n",
        "  def Info(self):\n",
        "    print(\"your name is \",self.name)\n",
        "    print(\"Your roll_no is :\",self.roll_no)\n",
        "    print(\"my marks is \",self.marks)\n",
        "t1=Stuudent(\"Abhishek saini\",1,101)\n",
        "t2=Stuudent(\"kartik saini\",36,99)\n",
        "t1.Info()\n",
        "print()\n",
        "t2.Info()\n"
      ],
      "metadata": {
        "colab": {
          "base_uri": "https://localhost:8080/"
        },
        "id": "Ymuj20liwqIf",
        "outputId": "4097388c-bce7-41e9-8c52-977cfe041931"
      },
      "execution_count": null,
      "outputs": [
        {
          "output_type": "stream",
          "name": "stdout",
          "text": [
            "your name is  Abhishek saini\n",
            "Your roll_no is : 1\n",
            "my marks is  101\n",
            "\n",
            "your name is  kartik saini\n",
            "Your roll_no is : 36\n",
            "my marks is  99\n"
          ]
        }
      ]
    }
  ]
}