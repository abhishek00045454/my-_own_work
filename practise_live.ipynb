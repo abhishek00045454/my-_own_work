{
  "cells": [
    {
      "cell_type": "markdown",
      "metadata": {
        "id": "view-in-github",
        "colab_type": "text"
      },
      "source": [
        "<a href=\"https://colab.research.google.com/github/abhishek00045454/my-_own_work/blob/main/practise_live.ipynb\" target=\"_parent\"><img src=\"https://colab.research.google.com/assets/colab-badge.svg\" alt=\"Open In Colab\"/></a>"
      ]
    },
    {
      "cell_type": "markdown",
      "source": [
        "Task 1\n"
      ],
      "metadata": {
        "id": "mIg4RAoCNwyp"
      }
    },
    {
      "cell_type": "code",
      "source": [
        "date=input()\n",
        "year= date[-4:]\n",
        "print(year)"
      ],
      "metadata": {
        "id": "Z14rJ0MnN0Xb",
        "colab": {
          "base_uri": "https://localhost:8080/"
        },
        "outputId": "68bb1143-7b78-40ba-f9de-5e4b7ef93ec4"
      },
      "execution_count": null,
      "outputs": [
        {
          "output_type": "stream",
          "name": "stdout",
          "text": [
            "14-8-2001\n",
            "2001\n"
          ]
        }
      ]
    },
    {
      "cell_type": "code",
      "source": [
        "import functools\n",
        "import operator\n",
        "lis=[1,2,44,55,88]\n",
        "print(functools.reduce(operator.mul,lis))\n"
      ],
      "metadata": {
        "colab": {
          "base_uri": "https://localhost:8080/"
        },
        "id": "Z1rENULZbb_3",
        "outputId": "be4bdfee-01d4-4829-d9c7-595fbd62f69a"
      },
      "execution_count": null,
      "outputs": [
        {
          "output_type": "stream",
          "name": "stdout",
          "text": [
            "425920\n"
          ]
        }
      ]
    },
    {
      "cell_type": "code",
      "source": [
        "x= int(input())\n",
        "y= int(input())\n",
        "res_=print(x**y)\n",
        "\n",
        "print(f\"{len(str(res_))}\")"
      ],
      "metadata": {
        "colab": {
          "base_uri": "https://localhost:8080/"
        },
        "id": "56iqbt5XcnfZ",
        "outputId": "b8db7776-f198-479f-adac-8042d07ce688"
      },
      "execution_count": null,
      "outputs": [
        {
          "output_type": "stream",
          "name": "stdout",
          "text": [
            "4\n",
            "5\n",
            "1024\n",
            "4\n"
          ]
        }
      ]
    },
    {
      "cell_type": "code",
      "source": [
        "s= input()\n",
        "n = len(s)\n",
        "if n%2==0:\n",
        "  if s[n-1]==\".\":\n",
        "     s=s[:-1]\n",
        "  else:\n",
        "    s=s+\".\"\n",
        "n=int((len(s)-1)/2)\n",
        "print(s[n-1:n+2])"
      ],
      "metadata": {
        "colab": {
          "base_uri": "https://localhost:8080/"
        },
        "id": "ZGnQNCbFengW",
        "outputId": "d2d01fa0-cec0-448b-9a2d-5f917ffd242f"
      },
      "execution_count": null,
      "outputs": [
        {
          "output_type": "stream",
          "name": "stdout",
          "text": [
            "abhish\n",
            "his\n"
          ]
        }
      ]
    },
    {
      "cell_type": "code",
      "source": [
        "e1=int(input())\n",
        "e2=int(input())\n",
        "e3=int(input())\n",
        "e4=int(input())\n",
        "e5=int(input())\n",
        "if (e1+e2) % 2==0:\n",
        "  print(\"yes\")\n",
        "if (e1+e2) % 2==0:\n",
        "  print(\"yes\")\n",
        "if (e1+e2) % 2==0:\n",
        "  print(\"yes\")\n",
        "if (e1+e2) % 2==0:\n",
        "  print(\"yes\")\n",
        "if (e1+e2) % 2==0:\n",
        "  print(\"yes\")\n",
        "else:\n",
        "  print(\"no\")\n"
      ],
      "metadata": {
        "colab": {
          "base_uri": "https://localhost:8080/"
        },
        "id": "7GfuO2NEgxt_",
        "outputId": "4d6491a4-79a9-4603-ff7c-971fb7418892"
      },
      "execution_count": null,
      "outputs": [
        {
          "output_type": "stream",
          "name": "stdout",
          "text": [
            "2\n",
            "4\n",
            "6\n",
            "8\n",
            "10\n",
            "yes\n",
            "yes\n",
            "yes\n",
            "yes\n",
            "yes\n"
          ]
        }
      ]
    },
    {
      "cell_type": "code",
      "source": [
        "x= input(\"enter the string:\")\n",
        "vowels=0\n",
        "for i in x:\n",
        "  if ((i=='a' or i=='e' or i=='i' or i=='o' or i=='u' or i=='A' or i=='E' or i=='I' or i=='O' or i=='U')):\n",
        "    vowels +=1\n",
        "print(f\"numbers of vowels {vowels}\")\n",
        "print(\"vowels\")\n",
        "\n"
      ],
      "metadata": {
        "colab": {
          "base_uri": "https://localhost:8080/"
        },
        "id": "FnPaI0lzh79G",
        "outputId": "cbbaaa41-47d4-405a-ba66-361e2a95bf79"
      },
      "execution_count": null,
      "outputs": [
        {
          "output_type": "stream",
          "name": "stdout",
          "text": [
            "enter the string:abhishek\n",
            "numbers of vowels 3\n",
            "vowels\n"
          ]
        }
      ]
    },
    {
      "cell_type": "code",
      "source": [
        "n1 = input()\n",
        "d1 = input()\n",
        "n2 = input()\n",
        "d2 = input()\n",
        "if d1==d2 :\n",
        "     if n1<n2 :\n",
        "         print(n2)\n",
        "     else :\n",
        "         print(n1)\n",
        "elif d1[-4:] != d2[-4:] :\n",
        "     if int(d1[-4:]) < int(d2[-4:]):\n",
        "         print(n2)\n",
        "     else :\n",
        "         print(n1)\n",
        "elif d1[3:5] != d2[3:5]:\n",
        "     if int(d1[3:5]) < int(d2[3:5]):\n",
        "         print(n2)\n",
        "     else :\n",
        "         print(n1)\n",
        "else :\n",
        "     if int(d1[0:2]) < int(d2[0:2]):\n",
        "         print(n2)\n",
        "     else :\n",
        "         print(n1)\n"
      ],
      "metadata": {
        "colab": {
          "base_uri": "https://localhost:8080/"
        },
        "id": "YBSRIk-sllEn",
        "outputId": "60941c15-8c35-4137-bb9b-2cdcc9e7d121"
      },
      "execution_count": null,
      "outputs": [
        {
          "output_type": "stream",
          "name": "stdout",
          "text": [
            "abhishek\n",
            "19-7-2001\n",
            "amit\n",
            "20-8-2008\n",
            "amit\n"
          ]
        }
      ]
    },
    {
      "cell_type": "code",
      "source": [
        "p= input()\n",
        "if 8<= len(p) <=32 and p[0].isalpha()  and '/'  not in p and \"\\\\\" not in p and "
      ],
      "metadata": {
        "colab": {
          "base_uri": "https://localhost:8080/",
          "height": 35
        },
        "id": "DeQCbDuqmwU9",
        "outputId": "e029f3ac-6c8d-4c8a-b956-f2d67481bd5f"
      },
      "execution_count": null,
      "outputs": [
        {
          "output_type": "execute_result",
          "data": {
            "text/plain": [
              "'ab'"
            ],
            "application/vnd.google.colaboratory.intrinsic+json": {
              "type": "string"
            }
          },
          "metadata": {},
          "execution_count": 41
        }
      ]
    },
    {
      "cell_type": "code",
      "source": [
        "for i in  range(1,10):\n",
        "  print(i,end=\" \")"
      ],
      "metadata": {
        "colab": {
          "base_uri": "https://localhost:8080/"
        },
        "id": "67FP8z-Cpufc",
        "outputId": "6566a4ad-0f8d-417d-ffb7-dec75ebc6548"
      },
      "execution_count": null,
      "outputs": [
        {
          "output_type": "stream",
          "name": "stdout",
          "text": [
            "1 2 3 4 5 6 7 8 9 "
          ]
        }
      ]
    },
    {
      "cell_type": "code",
      "source": [
        "n = int(input())\n",
        "is_prime= True\n",
        "for i in range(2,n):\n",
        "  if n %i==0:\n",
        "    is_prime = False\n",
        "    break\n",
        "  else:\n",
        "    is_prime= True\n",
        "    print(\"its a prime\")\n"
      ],
      "metadata": {
        "colab": {
          "base_uri": "https://localhost:8080/"
        },
        "id": "eonmawiQp2fW",
        "outputId": "7704b3df-b381-467b-e68f-2576477d8248"
      },
      "execution_count": null,
      "outputs": [
        {
          "output_type": "stream",
          "name": "stdout",
          "text": [
            "7\n",
            "its a prime\n",
            "its a prime\n",
            "its a prime\n",
            "its a prime\n",
            "its a prime\n"
          ]
        }
      ]
    },
    {
      "cell_type": "code",
      "source": [
        "a= input()\n",
        "b=input()\n",
        "for c in b:\n",
        "  if c in b:\n",
        "    b = b.replace(c ,\"\")\n",
        "print(b)"
      ],
      "metadata": {
        "id": "-uOGbyyDrYn1"
      },
      "execution_count": null,
      "outputs": []
    },
    {
      "cell_type": "code",
      "source": [
        "a= input()\n",
        "b= False\n",
        "if len(a)==10 and int(a[0])>5 and int(a[0])<7 and a.isdigit():\n",
        "  for i in range(10):\n",
        "    if a.count(a[i])>8:\n",
        "      b=True\n",
        "      if a[i]*6 in a:\n",
        "        b = False\n",
        "        break\n",
        "    else:\n",
        "      break\n",
        "if a:\n",
        "  print(\"valid\")\n",
        "else:\n",
        "  print(\"invalid\")    \n"
      ],
      "metadata": {
        "id": "kOPKogoYsRxF"
      },
      "execution_count": null,
      "outputs": []
    },
    {
      "cell_type": "code",
      "source": [
        "x = \"abhishek\",\"abhiehk\",\"abhishek\"\n",
        "\n",
        "u=x.count(\"abhishek\")\n",
        "print(u)"
      ],
      "metadata": {
        "colab": {
          "base_uri": "https://localhost:8080/"
        },
        "id": "7mau7gLWtmTJ",
        "outputId": "f15bd674-1bd5-4b28-fafb-f234202d2ff3"
      },
      "execution_count": null,
      "outputs": [
        {
          "output_type": "stream",
          "name": "stdout",
          "text": [
            "2\n"
          ]
        }
      ]
    },
    {
      "cell_type": "code",
      "source": [
        "s=input().split(\" \")\n",
        "a= input()\n",
        "if a in s:\n",
        "  print(\"yes\")\n",
        "else:\n",
        "  print(\"no\")\n"
      ],
      "metadata": {
        "colab": {
          "base_uri": "https://localhost:8080/"
        },
        "id": "2_hj995gmKBl",
        "outputId": "ff691d07-a2b8-48bb-832f-aa06f9a60998"
      },
      "execution_count": null,
      "outputs": [
        {
          "output_type": "stream",
          "name": "stdout",
          "text": [
            "abhishek\n",
            "abhishek\n",
            "yes\n"
          ]
        }
      ]
    },
    {
      "cell_type": "code",
      "source": [
        "def factorial(n):\n",
        "  if n==0:\n",
        "    return 1\n",
        "  else:\n",
        "    return n*factorial(n-1)\n",
        "x=int(input())\n",
        "y=factorial(x)\n",
        "print(\"{} ! = {}\".format(x,y))"
      ],
      "metadata": {
        "colab": {
          "base_uri": "https://localhost:8080/"
        },
        "id": "xbZhkWMCnHhy",
        "outputId": "825699d5-c9b0-4484-8237-c73c7e6c2d8c"
      },
      "execution_count": null,
      "outputs": [
        {
          "output_type": "stream",
          "name": "stdout",
          "text": [
            "4\n",
            "4 ! = 24\n"
          ]
        }
      ]
    },
    {
      "cell_type": "code",
      "source": [
        "factorial(5)"
      ],
      "metadata": {
        "colab": {
          "base_uri": "https://localhost:8080/"
        },
        "id": "lO3LNnCZo6_m",
        "outputId": "db45e542-6e29-4a37-9fd5-bb47b0e89ca6"
      },
      "execution_count": null,
      "outputs": [
        {
          "output_type": "execute_result",
          "data": {
            "text/plain": [
              "120"
            ]
          },
          "metadata": {},
          "execution_count": 30
        }
      ]
    },
    {
      "cell_type": "code",
      "source": [
        "n = input()\n",
        "a=False\n",
        "if len(n)==10 and int(n[0])>5  and n.isdigit():\n",
        "  for i in range(10):\n",
        "    if n.count(n[i])<8:\n",
        "      a=True\n",
        "      if n[i]*6 in n:\n",
        "        a=False\n",
        "        break\n",
        "    else:\n",
        "      break\n",
        "if a:\n",
        "  print(\"valid\")\n",
        "else:\n",
        "  print(\"invalid\")"
      ],
      "metadata": {
        "colab": {
          "base_uri": "https://localhost:8080/"
        },
        "id": "xCElG8nGYS53",
        "outputId": "3d48d934-dcc6-41f8-90c9-2a8c169401f6"
      },
      "execution_count": null,
      "outputs": [
        {
          "output_type": "stream",
          "name": "stdout",
          "text": [
            "7976449070\n",
            "valid\n"
          ]
        }
      ]
    },
    {
      "cell_type": "code",
      "source": [
        "n = input().split(\" \")\n",
        "s=input()\n",
        "if s in n:\n",
        "  print(\"yes\")\n",
        "else:\n",
        "  print(\"no\")"
      ],
      "metadata": {
        "colab": {
          "base_uri": "https://localhost:8080/"
        },
        "id": "UryT_SbLaKEi",
        "outputId": "cdf7d129-f196-4245-d461-f231dc8cecd6"
      },
      "execution_count": null,
      "outputs": [
        {
          "output_type": "stream",
          "name": "stdout",
          "text": [
            "abhishek\n",
            "abhishek\n",
            "yes\n"
          ]
        }
      ]
    },
    {
      "cell_type": "code",
      "source": [
        "s= input()\n",
        "if s[0]==\"D\" and s[1]==\"S\":\n",
        "  print(\"true\")\n",
        "else:\n",
        "  print(\"no\")\n"
      ],
      "metadata": {
        "colab": {
          "base_uri": "https://localhost:8080/"
        },
        "id": "kXDwPQ9EaxnZ",
        "outputId": "f10e1d43-cb33-495d-e63b-a79f5cd708bc"
      },
      "execution_count": null,
      "outputs": [
        {
          "output_type": "stream",
          "name": "stdout",
          "text": [
            "DS1nc12ec049\n",
            "true\n"
          ]
        }
      ]
    },
    {
      "cell_type": "code",
      "source": [
        "n = input()\n",
        "if (n[0:4]==\"TN07\") or (n[4:8]==\"TN07\"):\n",
        "  print(\"True\")\n",
        "else:\n",
        "  print(\"false\")"
      ],
      "metadata": {
        "colab": {
          "base_uri": "https://localhost:8080/"
        },
        "id": "oHOtdXzQbNUJ",
        "outputId": "8430f07f-01e5-4668-d643-092e8dbbcc73"
      },
      "execution_count": null,
      "outputs": [
        {
          "output_type": "stream",
          "name": "stdout",
          "text": [
            "BRNOTN07\n",
            "True\n"
          ]
        }
      ]
    },
    {
      "cell_type": "code",
      "source": [
        "n = input()\n",
        "a= int(input())\n",
        "b= int(input())\n",
        "x=n[a:b+1]\n",
        "y=len(n)\n",
        "ans=\" \"\n",
        "while(y>=len(ans)):\n",
        "  ans+=x\n",
        "\n",
        "print(ans)"
      ],
      "metadata": {
        "id": "wIXGS8HQcsOV",
        "colab": {
          "base_uri": "https://localhost:8080/"
        },
        "outputId": "f0a1740d-e5bb-4757-c477-17fbad7f5b68"
      },
      "execution_count": null,
      "outputs": [
        {
          "output_type": "stream",
          "name": "stdout",
          "text": [
            "code\n",
            "2\n",
            "3\n",
            " dede\n"
          ]
        }
      ]
    },
    {
      "cell_type": "code",
      "source": [
        "u= input()\n",
        "if u==u[::-1]:\n",
        "  print(\"panlidrome\")\n",
        "else:\n",
        "  print(\"no palidrome\")"
      ],
      "metadata": {
        "colab": {
          "base_uri": "https://localhost:8080/"
        },
        "id": "0s_FewTEKMEs",
        "outputId": "e14b4a13-a0c3-4008-d639-a5969cba0512"
      },
      "execution_count": null,
      "outputs": [
        {
          "output_type": "stream",
          "name": "stdout",
          "text": [
            "madam\n",
            "panlidrome\n"
          ]
        }
      ]
    },
    {
      "cell_type": "code",
      "source": [
        "n=int(input())\n",
        "for i in range(1,n+1,4):\n",
        "  if n==i:\n",
        "    print(\"sapphire\")\n",
        "for j in range(2,n+1,4):\n",
        "  if n==j:\n",
        "    print(\"peridot\")\n",
        "for k in range(3,n+1,4):\n",
        "  if n==k:\n",
        "    print(\"ruby\")\n",
        "for l in range(4,n+1,4):\n",
        "  if n==l:\n",
        "    print(\"emerld\")\n",
        "else:\n",
        "  print(\"none group\")"
      ],
      "metadata": {
        "colab": {
          "base_uri": "https://localhost:8080/"
        },
        "id": "cVuDGDnJOA2Z",
        "outputId": "20af7c1d-e154-40e4-8ca0-207c100fa3fe"
      },
      "execution_count": null,
      "outputs": [
        {
          "output_type": "stream",
          "name": "stdout",
          "text": [
            "17\n",
            "sapphire\n",
            "none group\n"
          ]
        }
      ]
    },
    {
      "cell_type": "code",
      "source": [],
      "metadata": {
        "id": "wIoT_4NpQQvF"
      },
      "execution_count": null,
      "outputs": []
    }
  ],
  "metadata": {
    "colab": {
      "provenance": [],
      "authorship_tag": "ABX9TyMM+PzREAAd7RbrDeJqYj1C",
      "include_colab_link": true
    },
    "kernelspec": {
      "display_name": "Python 3",
      "name": "python3"
    },
    "language_info": {
      "name": "python"
    }
  },
  "nbformat": 4,
  "nbformat_minor": 0
}