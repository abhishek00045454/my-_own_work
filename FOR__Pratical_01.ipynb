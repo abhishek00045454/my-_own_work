{
  "cells": [
    {
      "cell_type": "markdown",
      "metadata": {
        "id": "view-in-github",
        "colab_type": "text"
      },
      "source": [
        "<a href=\"https://colab.research.google.com/github/abhishek00045454/my-_own_work/blob/main/FOR__Pratical_01.ipynb\" target=\"_parent\"><img src=\"https://colab.research.google.com/assets/colab-badge.svg\" alt=\"Open In Colab\"/></a>"
      ]
    },
    {
      "cell_type": "code",
      "execution_count": null,
      "metadata": {
        "colab": {
          "base_uri": "https://localhost:8080/"
        },
        "id": "Q0jDjpwaSFbG",
        "outputId": "604a38c0-4e16-4b15-8b97-96d07eb80384"
      },
      "outputs": [
        {
          "name": "stdout",
          "output_type": "stream",
          "text": [
            "you are rich\n"
          ]
        }
      ],
      "source": [
        "bank_account_money =24000\n",
        "current_money_status =20000\n",
        "if bank_account_money <=18000 and current_money_status <=17000:\n",
        "  print(\"you are gareeb\")\n",
        "elif bank_account_money <=25000 and current_money_status < 35000:\n",
        "  print(\"you are rich\")\n",
        "else:\n",
        "  print(\"you are earn some money\")"
      ]
    },
    {
      "cell_type": "code",
      "execution_count": null,
      "metadata": {
        "colab": {
          "base_uri": "https://localhost:8080/"
        },
        "id": "TeWtRwxxK8cM",
        "outputId": "a16b113d-b63c-4a41-f245-0710b806fae5"
      },
      "outputs": [
        {
          "name": "stdout",
          "output_type": "stream",
          "text": [
            "else you have atm card pay bill\n"
          ]
        }
      ],
      "source": [
        "credit_card =True\n",
        "atm_card =False\n",
        "if credit_card and atm_card:\n",
        "  print(\"pay amount\")\n",
        "else:\n",
        "  print(\"else you have atm card pay bill\")"
      ]
    },
    {
      "cell_type": "code",
      "execution_count": null,
      "metadata": {
        "colab": {
          "base_uri": "https://localhost:8080/"
        },
        "id": "mjCjkkquMxrh",
        "outputId": "835539c6-8736-49d5-e49e-4ca9ec76c48b"
      },
      "outputs": [
        {
          "name": "stdout",
          "output_type": "stream",
          "text": [
            "your attendance is :True\n",
            "your attendance submitted is :True\n",
            "your sports  is inculde marks in it :True\n",
            "you are sit in exam so study\n",
            "best of luck\n"
          ]
        }
      ],
      "source": [
        "attendance =75\n",
        "submitted_attendance =74\n",
        "sports= True\n",
        "print(f\"your attendance is :{attendance >=75}\")\n",
        "print(f\"your attendance submitted is :{submitted_attendance <= 74}\")\n",
        "print(f\"your sports  is inculde marks in it :{sports==True}\")\n",
        "\n",
        "if attendance==75   or submitted_attendance <=74 or sports==True:\n",
        "  print(\"you are sit in exam so study\")\n",
        "  print(\"best of luck\")\n",
        "else:\n",
        "  print(\"plz complete your reqiuredment then sit exam hall\")\n",
        "  print(\"you are meet H.R\")  \n"
      ]
    },
    {
      "cell_type": "code",
      "execution_count": null,
      "metadata": {
        "colab": {
          "base_uri": "https://localhost:8080/"
        },
        "id": "5iZezOAbSIX4",
        "outputId": "a97a22f2-4e53-4bdc-db09-b1e7319ac82b"
      },
      "outputs": [
        {
          "name": "stdout",
          "output_type": "stream",
          "text": [
            "Enter your name is :Abhishek saini\n",
            "He the right boy\n"
          ]
        }
      ],
      "source": [
        "Name=input(\"Enter your name is :\")\n",
        "if  Name == \"Abhishek saini\":\n",
        "  print(\"He the right boy\")\n",
        "else:\n",
        "  print(\"No you enter the other name\")"
      ]
    },
    {
      "cell_type": "code",
      "execution_count": null,
      "metadata": {
        "colab": {
          "base_uri": "https://localhost:8080/"
        },
        "id": "izVs-bQ4Th7l",
        "outputId": "0b14864c-714f-4265-a4f6-6aab638ea9db"
      },
      "outputs": [
        {
          "name": "stdout",
          "output_type": "stream",
          "text": [
            "hello hello hello hello hello hello hello hello hello hello 10 12 14 16 18 20 22 24 26 28 30 32 34 36 38 40 42 44 46 48 50 52 54 56 58 60 62 64 66 68 70 72 74 76 78 80 82 84 86 88 90 92 94 96 98 "
          ]
        }
      ],
      "source": [
        "# list_01 =[1,2,3,4]\n",
        "for int in range(0,100):\n",
        "  if int<5*2:\n",
        "    print('hello', end=\" \")\n",
        "  elif int%2==0:\n",
        "    print(int, end=\" \")"
      ]
    },
    {
      "cell_type": "code",
      "execution_count": null,
      "metadata": {
        "colab": {
          "base_uri": "https://localhost:8080/"
        },
        "id": "VDjObrbSjRWN",
        "outputId": "bcda0ce0-cff3-408a-a526-2f9fcc2957de"
      },
      "outputs": [
        {
          "name": "stdout",
          "output_type": "stream",
          "text": [
            "the total odd numbers is :0\n",
            "the total even numbers is : 1\n",
            "the total odd numbers is :1\n",
            "the total even numbers is : 1\n",
            "the total odd numbers is :1\n",
            "the total even numbers is : 2\n",
            "the total odd numbers is :2\n",
            "the total even numbers is : 2\n",
            "the total odd numbers is :2\n",
            "the total even numbers is : 3\n",
            "the total odd numbers is :3\n",
            "the total even numbers is : 3\n",
            "the total odd numbers is :3\n",
            "the total even numbers is : 4\n",
            "the total odd numbers is :4\n",
            "the total even numbers is : 4\n",
            "the total odd numbers is :4\n",
            "the total even numbers is : 5\n"
          ]
        }
      ],
      "source": [
        "list_01 =[1,2,3,4,5,6,7,8,9]\n",
        "count_odd_nos = 0\n",
        "count_even_nos = 0\n",
        "for numbers in list_01:\n",
        "  if (numbers % 2 ==1):\n",
        "    count_odd_nos += 1\n",
        "  if (numbers%2 ==0):\n",
        "    count_even_nos += 1\n",
        "  print(f\"the total odd numbers is :{count_even_nos}\")\n",
        "  print(f\"the total even numbers is : {count_odd_nos}\")"
      ]
    },
    {
      "cell_type": "code",
      "execution_count": null,
      "metadata": {
        "colab": {
          "base_uri": "https://localhost:8080/"
        },
        "id": "OWwLeMrBnrvS",
        "outputId": "0b2cb94e-a42c-445f-c436-d5bbe956f803"
      },
      "outputs": [
        {
          "name": "stdout",
          "output_type": "stream",
          "text": [
            "2\n",
            "4\n",
            "6\n"
          ]
        }
      ],
      "source": [
        "integers =[2,4,5,6]\n",
        "for i in integers:\n",
        "  if i % 2 ==0:\n",
        "    print(i)"
      ]
    },
    {
      "cell_type": "code",
      "execution_count": null,
      "metadata": {
        "id": "uTD6frMKoFNG"
      },
      "outputs": [],
      "source": [
        "num1 =3 \n",
        "num2 =5\n",
        "while (num1 < num2):\n",
        "  print(\"this is ryt\") "
      ]
    },
    {
      "cell_type": "code",
      "execution_count": null,
      "metadata": {
        "colab": {
          "base_uri": "https://localhost:8080/"
        },
        "id": "dDX5KPDMpTU4",
        "outputId": "43a63fb5-12ab-4caf-9165-590b7aa63823"
      },
      "outputs": [
        {
          "name": "stdout",
          "output_type": "stream",
          "text": [
            "6\n",
            "30\n",
            "120\n",
            "360\n",
            "720\n",
            "720\n"
          ]
        }
      ],
      "source": [
        "numbers =6\n",
        "fac =1\n",
        "if(numbers ==0):\n",
        "  print(1)\n",
        "else:\n",
        "  while numbers >=1:\n",
        "    fac =fac* numbers\n",
        "    numbers -= 1\n",
        "    print(fac)"
      ]
    },
    {
      "cell_type": "code",
      "execution_count": null,
      "metadata": {
        "id": "jx1tJlMnrh-y"
      },
      "outputs": [],
      "source": [
        "list_01 =[\"nice\",\"lol\",\"kite\",\"bolte to jks\"]\n",
        "wish_list =[]\n",
        "for list_44 in list_01:\n",
        "  if list_01 ==\"nice\":\n",
        "    wish_list += [1]\n",
        "    print(wish_list)\n",
        "    "
      ]
    },
    {
      "cell_type": "code",
      "execution_count": null,
      "metadata": {
        "colab": {
          "base_uri": "https://localhost:8080/"
        },
        "id": "rfbFpzpDvNDY",
        "outputId": "33447ac7-2ef2-4030-932d-ab007b846fd2"
      },
      "outputs": [
        {
          "name": "stdout",
          "output_type": "stream",
          "text": [
            "enter the rows: 4\n",
            "***\n",
            "***\n",
            "***\n",
            "***\n"
          ]
        }
      ],
      "source": [
        "n = int(input(\"enter the rows: \"))\n",
        "for i in range(n):\n",
        "  print(\"*\" *3)\n"
      ]
    },
    {
      "cell_type": "code",
      "execution_count": null,
      "metadata": {
        "colab": {
          "base_uri": "https://localhost:8080/"
        },
        "id": "wQ6mt_cpoUja",
        "outputId": "3a7c2910-eed2-4cf1-d929-1a7077935f63"
      },
      "outputs": [
        {
          "name": "stdout",
          "output_type": "stream",
          "text": [
            "enter the rows:7\n",
            " 7 7 7 7 7 7 7\n",
            " 7 7 7 7 7 7 7\n",
            " 7 7 7 7 7 7 7\n",
            " 7 7 7 7 7 7 7\n",
            " 7 7 7 7 7 7 7\n",
            " 7 7 7 7 7 7 7\n",
            " 7 7 7 7 7 7 7\n"
          ]
        }
      ],
      "source": [
        "n =int(input(\"enter the rows:\"))\n",
        "for i in range(n):\n",
        "  print(\" 7\"*n )"
      ]
    },
    {
      "cell_type": "code",
      "execution_count": null,
      "metadata": {
        "colab": {
          "base_uri": "https://localhost:8080/"
        },
        "id": "cpP-9T5EqFU5",
        "outputId": "2102c368-acc7-4610-bafc-f21ba8e62889"
      },
      "outputs": [
        {
          "name": "stdout",
          "output_type": "stream",
          "text": [
            "Enter the rows: 4\n",
            "1 1 1 1 \n",
            "2 2 2 2 \n",
            "3 3 3 3 \n",
            "4 4 4 4 \n"
          ]
        }
      ],
      "source": [
        "n = int(input(\"Enter the rows: \"))\n",
        "for i in range(n):\n",
        "  print((str(i+1) +\" \")*n)"
      ]
    },
    {
      "cell_type": "code",
      "execution_count": null,
      "metadata": {
        "colab": {
          "base_uri": "https://localhost:8080/"
        },
        "id": "1XORxXQcq-l6",
        "outputId": "23f3c67d-f627-46ed-8b29-f0e2f85b9e3c"
      },
      "outputs": [
        {
          "name": "stdout",
          "output_type": "stream",
          "text": [
            "0 1 2 3 4 5 6 7 8 9 10 11 12 13 14 15 16 17 18 19 20 21 22 23 24 25 26 27 28 29 30 31 32 33 34 35 36 37 38 39 40 41 42 43 44 45 46 47 48 49 50 51 52 53 54 55 56 57 58 59 60 61 62 63 64 65 66 67 68 69 70 71 72 73 74 75 76 77 78 79 80 81 82 83 84 85 86 87 88 89 90 91 92 93 94 95 96 97 98 99 100 "
          ]
        }
      ],
      "source": [
        "for i in range(0,101):\n",
        "  print(i,end=\" \")"
      ]
    },
    {
      "cell_type": "code",
      "execution_count": null,
      "metadata": {
        "colab": {
          "base_uri": "https://localhost:8080/"
        },
        "id": "JAHq9zAcsDmB",
        "outputId": "2e4792f8-48c3-4b5c-fdb8-ad53cdbcdcd2"
      },
      "outputs": [
        {
          "name": "stdout",
          "output_type": "stream",
          "text": [
            "Enter the rows needed : 5\n",
            "1 1 1 1 1 \n",
            "2 2 2 2 2 \n",
            "3 3 3 3 3 \n",
            "4 4 4 4 4 \n",
            "5 5 5 5 5 \n"
          ]
        }
      ],
      "source": [
        "n = int(input(\"Enter the rows needed : \"))\n",
        "for i in range(n):\n",
        "  print((str(i+1)+' ' )*n)"
      ]
    },
    {
      "cell_type": "code",
      "execution_count": null,
      "metadata": {
        "colab": {
          "base_uri": "https://localhost:8080/"
        },
        "id": "FL5y-9gesnIj",
        "outputId": "08ea0ed4-6f15-42aa-836c-d861074aad85"
      },
      "outputs": [
        {
          "name": "stdout",
          "output_type": "stream",
          "text": [
            "Enter the rows you needed: 5\n",
            " A  A  A  A  A \n",
            " A  A  A  A  A \n",
            " A  A  A  A  A \n",
            " A  A  A  A  A \n",
            " A  A  A  A  A \n"
          ]
        }
      ],
      "source": [
        "n = int(input(\"Enter the rows you needed: \"))\n",
        "for i in range(n):\n",
        "  print(\" A \"*n)"
      ]
    },
    {
      "cell_type": "code",
      "execution_count": null,
      "metadata": {
        "colab": {
          "base_uri": "https://localhost:8080/"
        },
        "id": "pHEaZLMzuClk",
        "outputId": "aacf8acd-af25-4199-e64f-fcd6d2657c29"
      },
      "outputs": [
        {
          "name": "stdout",
          "output_type": "stream",
          "text": [
            "Enetr the row you needed: 4\n",
            "A \n",
            "B B \n",
            "C C C \n",
            "D D D D \n"
          ]
        }
      ],
      "source": [
        "n =int(input(\"Enetr the row you needed: \"))\n",
        "for i in range(n):\n",
        "  print((chr(65+i)+' ')*(i+1))"
      ]
    },
    {
      "cell_type": "code",
      "execution_count": null,
      "metadata": {
        "colab": {
          "base_uri": "https://localhost:8080/"
        },
        "id": "Q8OKfO6ldtaH",
        "outputId": "b699be16-f8af-4e16-e86a-180de9378166"
      },
      "outputs": [
        {
          "name": "stdout",
          "output_type": "stream",
          "text": [
            "Enetr the rows :4\n",
            "1 2 3 4 \n",
            "1 2 3 4 \n",
            "1 2 3 4 \n",
            "1 2 3 4 \n"
          ]
        }
      ],
      "source": [
        "n =int(input(\"Enetr the rows :\"))\n",
        "for i in range(n):\n",
        "  for j in range(n):\n",
        "    print(str(j+1), end=\" \")\n",
        "    \n",
        "  print()\n"
      ]
    },
    {
      "cell_type": "code",
      "execution_count": null,
      "metadata": {
        "colab": {
          "base_uri": "https://localhost:8080/"
        },
        "id": "B1UMbdz1lUw5",
        "outputId": "e9f6ce0f-3182-400f-bcc1-e0a098f009e8"
      },
      "outputs": [
        {
          "name": "stdout",
          "output_type": "stream",
          "text": [
            "Eneter the rows :4\n",
            "A B C D \n",
            "A B C D \n",
            "A B C D \n",
            "A B C D \n"
          ]
        }
      ],
      "source": [
        "n= int(input(\"Eneter the rows :\"))\n",
        "for i in range(n):\n",
        "  for j in range(n):\n",
        "    print(chr(65+j),end=\" \")\n",
        "  print()"
      ]
    },
    {
      "cell_type": "code",
      "execution_count": null,
      "metadata": {
        "colab": {
          "base_uri": "https://localhost:8080/"
        },
        "id": "DtUZMgKymUGU",
        "outputId": "0ced28fe-ffa4-4281-e29a-a909f97636ef"
      },
      "outputs": [
        {
          "name": "stdout",
          "output_type": "stream",
          "text": [
            "enter the rows:4\n",
            "1 1 1 1 \n",
            "2 2 2 2 \n",
            "3 3 3 3 \n",
            "4 4 4 4 \n"
          ]
        }
      ],
      "source": [
        "n = int(input(\"enter the rows:\"))\n",
        "for i in range(n):\n",
        "  print((str(i+1)+ ' ')*n)"
      ]
    },
    {
      "cell_type": "code",
      "execution_count": null,
      "metadata": {
        "colab": {
          "base_uri": "https://localhost:8080/"
        },
        "id": "CT-yPYRrnTgS",
        "outputId": "c6962992-81ff-4137-89e2-1f89c65bc567"
      },
      "outputs": [
        {
          "name": "stdout",
          "output_type": "stream",
          "text": [
            "enter the rows:4\n",
            "A B C D \n",
            "@ A B C \n",
            "? @ A B \n",
            "> ? @ A \n"
          ]
        }
      ],
      "source": [
        "n = int(input(\"enter the rows:\"))\n",
        "for i in range(n):\n",
        "  for j in range(n):\n",
        "    print(chr(65+j-i),end =\" \")\n",
        "  print()"
      ]
    },
    {
      "cell_type": "code",
      "execution_count": null,
      "metadata": {
        "colab": {
          "base_uri": "https://localhost:8080/"
        },
        "id": "D_UyArJroZnx",
        "outputId": "fe3b6017-bff3-4177-8e20-15bce1aaba48"
      },
      "outputs": [
        {
          "name": "stdout",
          "output_type": "stream",
          "text": [
            "enter the rows:4\n",
            "4 4 4 4 \n",
            "2 2 2 \n",
            "0 0 \n",
            "-2 \n"
          ]
        }
      ],
      "source": [
        "n =int(input(\"enter the rows:\"))\n",
        "for i in range(n):\n",
        "  print((str(n-i)+\" \")*n)\n",
        "  # n=n-1\n",
        "  \n"
      ]
    },
    {
      "cell_type": "code",
      "execution_count": null,
      "metadata": {
        "colab": {
          "base_uri": "https://localhost:8080/"
        },
        "id": "_o_aPlTOpxJ1",
        "outputId": "da814530-872e-43a2-d1dd-1605c306684b"
      },
      "outputs": [
        {
          "name": "stdout",
          "output_type": "stream",
          "text": [
            "Enter the rows as per you needed :4\n",
            "D D D D \n",
            "C C C C \n",
            "B B B B \n",
            "A A A A \n"
          ]
        }
      ],
      "source": [
        "n = int(input(\"Enter the rows as per you needed :\"))\n",
        "for i in range(n):\n",
        "  print((chr(64+n-i)+\" \")*n)"
      ]
    },
    {
      "cell_type": "code",
      "execution_count": null,
      "metadata": {
        "colab": {
          "base_uri": "https://localhost:8080/",
          "height": 397
        },
        "id": "XYiwp70dsA3R",
        "outputId": "718b3c27-d708-456f-f651-9d4f4c747452"
      },
      "outputs": [
        {
          "ename": "KeyboardInterrupt",
          "evalue": "ignored",
          "output_type": "error",
          "traceback": [
            "\u001b[0;31m---------------------------------------------------------------------------\u001b[0m",
            "\u001b[0;31mKeyboardInterrupt\u001b[0m                         Traceback (most recent call last)",
            "\u001b[0;32m<ipython-input-38-f66d7331f6d8>\u001b[0m in \u001b[0;36m<module>\u001b[0;34m\u001b[0m\n\u001b[0;32m----> 1\u001b[0;31m \u001b[0mn\u001b[0m \u001b[0;34m=\u001b[0m \u001b[0mint\u001b[0m\u001b[0;34m(\u001b[0m\u001b[0minput\u001b[0m\u001b[0;34m(\u001b[0m\u001b[0;34m\"enter the rows :\"\u001b[0m\u001b[0;34m)\u001b[0m\u001b[0;34m)\u001b[0m\u001b[0;34m\u001b[0m\u001b[0;34m\u001b[0m\u001b[0m\n\u001b[0m\u001b[1;32m      2\u001b[0m \u001b[0;32mfor\u001b[0m \u001b[0mi\u001b[0m \u001b[0;32min\u001b[0m \u001b[0mrange\u001b[0m\u001b[0;34m(\u001b[0m\u001b[0mn\u001b[0m\u001b[0;34m)\u001b[0m\u001b[0;34m:\u001b[0m\u001b[0;34m\u001b[0m\u001b[0;34m\u001b[0m\u001b[0m\n\u001b[1;32m      3\u001b[0m   \u001b[0;32mfor\u001b[0m \u001b[0mj\u001b[0m \u001b[0;32min\u001b[0m \u001b[0mrange\u001b[0m\u001b[0;34m(\u001b[0m\u001b[0mn\u001b[0m\u001b[0;34m)\u001b[0m\u001b[0;34m:\u001b[0m\u001b[0;34m\u001b[0m\u001b[0;34m\u001b[0m\u001b[0m\n\u001b[1;32m      4\u001b[0m     \u001b[0mprint\u001b[0m\u001b[0;34m(\u001b[0m\u001b[0;34m(\u001b[0m\u001b[0mn\u001b[0m\u001b[0;34m-\u001b[0m\u001b[0mj\u001b[0m\u001b[0;34m)\u001b[0m\u001b[0;34m,\u001b[0m\u001b[0mend\u001b[0m\u001b[0;34m=\u001b[0m\u001b[0;34m\" \"\u001b[0m\u001b[0;34m)\u001b[0m\u001b[0;34m\u001b[0m\u001b[0;34m\u001b[0m\u001b[0m\n\u001b[1;32m      5\u001b[0m   \u001b[0mprint\u001b[0m\u001b[0;34m(\u001b[0m\u001b[0;34m)\u001b[0m\u001b[0;34m\u001b[0m\u001b[0;34m\u001b[0m\u001b[0m\n",
            "\u001b[0;32m/usr/local/lib/python3.7/dist-packages/ipykernel/kernelbase.py\u001b[0m in \u001b[0;36mraw_input\u001b[0;34m(self, prompt)\u001b[0m\n\u001b[1;32m    861\u001b[0m             \u001b[0mself\u001b[0m\u001b[0;34m.\u001b[0m\u001b[0m_parent_ident\u001b[0m\u001b[0;34m,\u001b[0m\u001b[0;34m\u001b[0m\u001b[0;34m\u001b[0m\u001b[0m\n\u001b[1;32m    862\u001b[0m             \u001b[0mself\u001b[0m\u001b[0;34m.\u001b[0m\u001b[0m_parent_header\u001b[0m\u001b[0;34m,\u001b[0m\u001b[0;34m\u001b[0m\u001b[0;34m\u001b[0m\u001b[0m\n\u001b[0;32m--> 863\u001b[0;31m             \u001b[0mpassword\u001b[0m\u001b[0;34m=\u001b[0m\u001b[0;32mFalse\u001b[0m\u001b[0;34m,\u001b[0m\u001b[0;34m\u001b[0m\u001b[0;34m\u001b[0m\u001b[0m\n\u001b[0m\u001b[1;32m    864\u001b[0m         )\n\u001b[1;32m    865\u001b[0m \u001b[0;34m\u001b[0m\u001b[0m\n",
            "\u001b[0;32m/usr/local/lib/python3.7/dist-packages/ipykernel/kernelbase.py\u001b[0m in \u001b[0;36m_input_request\u001b[0;34m(self, prompt, ident, parent, password)\u001b[0m\n\u001b[1;32m    902\u001b[0m             \u001b[0;32mexcept\u001b[0m \u001b[0mKeyboardInterrupt\u001b[0m\u001b[0;34m:\u001b[0m\u001b[0;34m\u001b[0m\u001b[0;34m\u001b[0m\u001b[0m\n\u001b[1;32m    903\u001b[0m                 \u001b[0;31m# re-raise KeyboardInterrupt, to truncate traceback\u001b[0m\u001b[0;34m\u001b[0m\u001b[0;34m\u001b[0m\u001b[0;34m\u001b[0m\u001b[0m\n\u001b[0;32m--> 904\u001b[0;31m                 \u001b[0;32mraise\u001b[0m \u001b[0mKeyboardInterrupt\u001b[0m\u001b[0;34m(\u001b[0m\u001b[0;34m\"Interrupted by user\"\u001b[0m\u001b[0;34m)\u001b[0m \u001b[0;32mfrom\u001b[0m \u001b[0;32mNone\u001b[0m\u001b[0;34m\u001b[0m\u001b[0;34m\u001b[0m\u001b[0m\n\u001b[0m\u001b[1;32m    905\u001b[0m             \u001b[0;32mexcept\u001b[0m \u001b[0mException\u001b[0m \u001b[0;32mas\u001b[0m \u001b[0me\u001b[0m\u001b[0;34m:\u001b[0m\u001b[0;34m\u001b[0m\u001b[0;34m\u001b[0m\u001b[0m\n\u001b[1;32m    906\u001b[0m                 \u001b[0mself\u001b[0m\u001b[0;34m.\u001b[0m\u001b[0mlog\u001b[0m\u001b[0;34m.\u001b[0m\u001b[0mwarning\u001b[0m\u001b[0;34m(\u001b[0m\u001b[0;34m\"Invalid Message:\"\u001b[0m\u001b[0;34m,\u001b[0m \u001b[0mexc_info\u001b[0m\u001b[0;34m=\u001b[0m\u001b[0;32mTrue\u001b[0m\u001b[0;34m)\u001b[0m\u001b[0;34m\u001b[0m\u001b[0;34m\u001b[0m\u001b[0m\n",
            "\u001b[0;31mKeyboardInterrupt\u001b[0m: Interrupted by user"
          ]
        }
      ],
      "source": [
        "n = int(input(\"enter the rows :\"))\n",
        "for i in range(n):\n",
        "  for j in range(n):\n",
        "    print((n-j),end=\" \")\n",
        "  print()"
      ]
    },
    {
      "cell_type": "code",
      "execution_count": null,
      "metadata": {
        "colab": {
          "base_uri": "https://localhost:8080/"
        },
        "id": "Y4WTlw8VuAm3",
        "outputId": "c7523119-ce14-4a0a-b045-653018fed1da"
      },
      "outputs": [
        {
          "name": "stdout",
          "output_type": "stream",
          "text": [
            "enter the rows:  3\n",
            "C B A \n",
            "C B A \n",
            "C B A \n"
          ]
        }
      ],
      "source": [
        "n = int(input(\"enter the rows:  \"))\n",
        "for i in range(n):\n",
        "  for j in range(n):\n",
        "    print(chr(64+n-j),end=\" \")\n",
        "  print()"
      ]
    },
    {
      "cell_type": "code",
      "execution_count": null,
      "metadata": {
        "colab": {
          "base_uri": "https://localhost:8080/"
        },
        "id": "Xwl3zxteyEyj",
        "outputId": "8d726a6d-7bba-4704-88d5-42a555123489"
      },
      "outputs": [
        {
          "name": "stdout",
          "output_type": "stream",
          "text": [
            "enter the rows :4\n",
            "* \n",
            "* * \n",
            "* * * \n",
            "* * * * \n"
          ]
        }
      ],
      "source": [
        "#important_question\n",
        "\"\"\"\n",
        "i is left side -> is rows\n",
        "j is downward -> is column\n",
        "\"\"\"\n",
        "n = int(input(\"enter the rows :\"))\n",
        "for i in range(n):\n",
        "  for j in range(i+1):\n",
        "    print(\"*\",end=\" \")\n",
        "  \n",
        "  print()\n",
        "    "
      ]
    },
    {
      "cell_type": "code",
      "execution_count": null,
      "metadata": {
        "colab": {
          "base_uri": "https://localhost:8080/"
        },
        "id": "T8K3MXl84AGU",
        "outputId": "6e099660-1cb1-4ab1-930e-ebf5211ee568"
      },
      "outputs": [
        {
          "name": "stdout",
          "output_type": "stream",
          "text": [
            "enter the rows :4\n",
            "\n",
            "\n",
            "* \n",
            "* * \n"
          ]
        }
      ],
      "source": [
        "n = int(input('enter the rows :'))\n",
        "for i in range(n):\n",
        "  for j in range(i-1):\n",
        "    print(\"*\",end=\" \")\n",
        "  print() "
      ]
    },
    {
      "cell_type": "code",
      "execution_count": null,
      "metadata": {
        "colab": {
          "base_uri": "https://localhost:8080/"
        },
        "id": "B5F6bBpp6JX7",
        "outputId": "c4646147-31ad-4544-bc58-72025c4ccbb7"
      },
      "outputs": [
        {
          "name": "stdout",
          "output_type": "stream",
          "text": [
            "enter the rows:4\n",
            "1 \n",
            "2 2 \n",
            "3 3 3 \n",
            "4 4 4 4 \n"
          ]
        }
      ],
      "source": [
        "n = int(input('enter the rows:'))\n",
        "for i in range(n):\n",
        "  for j in range(i+1):\n",
        "    print(i+1,end =\" \")\n",
        "  print()"
      ]
    },
    {
      "cell_type": "code",
      "execution_count": null,
      "metadata": {
        "colab": {
          "base_uri": "https://localhost:8080/"
        },
        "id": "zHvVSuTq67ND",
        "outputId": "9364b140-9e0b-4c2c-bdf3-43ef3af7dea6"
      },
      "outputs": [
        {
          "name": "stdout",
          "output_type": "stream",
          "text": [
            "enter the rows :4\n",
            "1 \n",
            "2 2 \n",
            "3 3 3 \n",
            "4 4 4 4 \n"
          ]
        }
      ],
      "source": [
        "n = int(input('enter the rows :'))\n",
        "for i in range(n):\n",
        "  print((str(i+1)+\" \")*(i+1))"
      ]
    },
    {
      "cell_type": "code",
      "execution_count": null,
      "metadata": {
        "colab": {
          "base_uri": "https://localhost:8080/",
          "height": 35
        },
        "id": "yGhoUFd7l7Bk",
        "outputId": "31c2f8f8-1f2e-43e5-c02a-169df9702ed9"
      },
      "outputs": [
        {
          "data": {
            "application/vnd.google.colaboratory.intrinsic+json": {
              "type": "string"
            },
            "text/plain": [
              "'inias kehsihba'"
            ]
          },
          "execution_count": 2,
          "metadata": {},
          "output_type": "execute_result"
        }
      ],
      "source": [
        "statment =\"abhishek saini\"\n",
        "statment[::-1]"
      ]
    },
    {
      "cell_type": "code",
      "execution_count": null,
      "metadata": {
        "colab": {
          "base_uri": "https://localhost:8080/"
        },
        "id": "43yYaahxmXpe",
        "outputId": "c4d356df-9d6d-446e-f760-26e9a446c79f"
      },
      "outputs": [
        {
          "name": "stdout",
          "output_type": "stream",
          "text": [
            "Enter your's name :amit saini\n",
            "invalid input\n"
          ]
        }
      ],
      "source": [
        "name =input(\"Enter your's name :\")\n",
        "output =name[::-1]\n",
        "if name==\"abhishek saini\":\n",
        "  print(f\"the output is:{output} \")\n",
        "else:\n",
        "  print(\"invalid input\")"
      ]
    },
    {
      "cell_type": "code",
      "execution_count": null,
      "metadata": {
        "colab": {
          "base_uri": "https://localhost:8080/"
        },
        "id": "v3sNeReKnoe4",
        "outputId": "f806389b-c224-4cd3-e607-c939d9e11e98"
      },
      "outputs": [
        {
          "name": "stdout",
          "output_type": "stream",
          "text": [
            "enter the name is: abhishek saini\n",
            "i n i a s   k e h s i h b a\n"
          ]
        }
      ],
      "source": [
        "s=input(\"enter the name is: \")\n",
        "r =reversed(s)\n",
        "output =\" \".join(r)\n",
        "print(output)"
      ]
    },
    {
      "cell_type": "code",
      "execution_count": null,
      "metadata": {
        "colab": {
          "base_uri": "https://localhost:8080/"
        },
        "id": "2I8b2KXlpiBB",
        "outputId": "3d670002-bb28-4e94-c770-7b1705757956"
      },
      "outputs": [
        {
          "name": "stdout",
          "output_type": "stream",
          "text": [
            "inias kehsihba"
          ]
        }
      ],
      "source": [
        "s = \"abhishek saini\"\n",
        "r = reversed(s)\n",
        "for i in r:\n",
        "  print(i,end=\"\")"
      ]
    },
    {
      "cell_type": "code",
      "execution_count": null,
      "metadata": {
        "colab": {
          "base_uri": "https://localhost:8080/"
        },
        "id": "lrtMKK4OrerG",
        "outputId": "a740d10a-02b9-440e-e197-3e2c652caa3d"
      },
      "outputs": [
        {
          "name": "stdout",
          "output_type": "stream",
          "text": [
            " inias kehsihba\n"
          ]
        }
      ],
      "source": [
        "s= \"abhishek saini\"\n",
        "output =\" \"\n",
        "i =len(s)-1\n",
        "while i >=0:\n",
        "  output =output +s[i]\n",
        "  i = i-1\n",
        "print(output)"
      ]
    },
    {
      "cell_type": "code",
      "execution_count": null,
      "metadata": {
        "colab": {
          "base_uri": "https://localhost:8080/"
        },
        "id": "OmXlYa9Cs3Hh",
        "outputId": "79192756-abaf-4886-a4e3-58c0c8a00cd8"
      },
      "outputs": [
        {
          "name": "stdout",
          "output_type": "stream",
          "text": [
            "easy very is python learning\n"
          ]
        }
      ],
      "source": [
        "\"\"\"\n",
        "input:- learning python is very easy\n",
        "output:- easy very is python learinig\n",
        "\"\"\"\n",
        "s= \"learning python is very easy\"\n",
        "r= s.split()\n",
        "ki =r [::-1]\n",
        "output =' '.join(ki)\n",
        "print(output)\n"
      ]
    },
    {
      "cell_type": "code",
      "execution_count": null,
      "metadata": {
        "colab": {
          "base_uri": "https://localhost:8080/"
        },
        "id": "n8Zka1CSwv5S",
        "outputId": "f1b5ec5c-6763-42c6-a7d6-c3c71896a3d0"
      },
      "outputs": [
        {
          "name": "stdout",
          "output_type": "stream",
          "text": [
            "enter the string valueabhishek saini is very good boy\n",
            "boy good very is saini abhishek\n"
          ]
        }
      ],
      "source": [
        "r = input(\"enter the string value: \")\n",
        "w =r.split()\n",
        "op =w[::-1]\n",
        "output =\" \".join(op)\n",
        "print(output)"
      ]
    },
    {
      "cell_type": "code",
      "execution_count": null,
      "metadata": {
        "colab": {
          "base_uri": "https://localhost:8080/"
        },
        "id": "I66q78HG_OcR",
        "outputId": "e670656a-8f05-4ac7-b9a1-7ea6042080c5"
      },
      "outputs": [
        {
          "name": "stdout",
          "output_type": "stream",
          "text": [
            "enter the namemy name is abhishek saini\n",
            "saini abhishek is name my\n"
          ]
        }
      ],
      "source": [
        "n =input('enter the name')\n",
        "op =n.split()\n",
        "u =op[::-1]\n",
        "output =\" \".join(u)\n",
        "\n",
        "print(output)"
      ]
    },
    {
      "cell_type": "code",
      "execution_count": null,
      "metadata": {
        "colab": {
          "base_uri": "https://localhost:8080/"
        },
        "id": "a1e81zRbArz_",
        "outputId": "c3fc8a33-8ccc-4de5-bb44-c4c61cb678f3"
      },
      "outputs": [
        {
          "name": "stdout",
          "output_type": "stream",
          "text": [
            "enter the name: my name is abhishek saini\n",
            "ym eman si kehsihba inias\n"
          ]
        }
      ],
      "source": [
        "n = input(\"enter the name: \")\n",
        "op =n.split()\n",
        "u =[]\n",
        "for word in op:\n",
        "  u.append(word[::-1])\n",
        "output =\" \".join(u)\n",
        "print(output)"
      ]
    },
    {
      "cell_type": "code",
      "execution_count": null,
      "metadata": {
        "colab": {
          "base_uri": "https://localhost:8080/"
        },
        "id": "-LgBdrUzOHEG",
        "outputId": "882a6bcd-4e89-4d4d-a58d-11dd8836e08c"
      },
      "outputs": [
        {
          "name": "stdout",
          "output_type": "stream",
          "text": [
            "enter your code is :my name is durga\n",
            "agrud si eman ym\n"
          ]
        }
      ],
      "source": [
        "n = input(\"enter your code is :\")\n",
        "u =n[::-1]\n",
        "print(u)"
      ]
    },
    {
      "cell_type": "code",
      "execution_count": null,
      "metadata": {
        "colab": {
          "base_uri": "https://localhost:8080/"
        },
        "id": "Ius3GGe_OpNZ",
        "outputId": "02a4b6d1-19e8-43fb-b1d2-401a148b3be7"
      },
      "outputs": [
        {
          "name": "stdout",
          "output_type": "stream",
          "text": [
            "enter your name is :durga\n",
            "a\n",
            "g\n",
            "r\n",
            "u\n",
            "d\n"
          ]
        }
      ],
      "source": [
        "n = input(\"enter your name is :\")\n",
        "s = reversed(n)\n",
        "for i in s:\n",
        "  print(i)"
      ]
    },
    {
      "cell_type": "code",
      "execution_count": null,
      "metadata": {
        "colab": {
          "base_uri": "https://localhost:8080/"
        },
        "id": "6XN2LQJ6PDcj",
        "outputId": "f7e5f311-c980-4d0e-b5db-a21b29a5b042"
      },
      "outputs": [
        {
          "name": "stdout",
          "output_type": "stream",
          "text": [
            "enter your name is :my na\n",
            "a n   y m\n"
          ]
        }
      ],
      "source": [
        "n = input(\"enter your name is :\")\n",
        "s = reversed(n)\n",
        "output =\" \".join(s)\n",
        "print(output)"
      ]
    },
    {
      "cell_type": "code",
      "execution_count": null,
      "metadata": {
        "colab": {
          "base_uri": "https://localhost:8080/"
        },
        "id": "kaSTn2GxPpEB",
        "outputId": "7428ece7-631d-4506-ca47-c2233cb11c9d"
      },
      "outputs": [
        {
          "name": "stdout",
          "output_type": "stream",
          "text": [
            "enter the input :my name is\n",
            "m y   n a m e   i ssi eman ym\n"
          ]
        }
      ],
      "source": [
        "n = input(\"enter the input :\")\n",
        "output =\" \"\n",
        "i =len(n)-1\n",
        "while i>=0:\n",
        "  output =output +n[i]\n",
        "  i = i-1\n",
        "print(output)"
      ]
    },
    {
      "cell_type": "code",
      "execution_count": null,
      "metadata": {
        "colab": {
          "base_uri": "https://localhost:8080/"
        },
        "id": "Gum5YHn_RSaz",
        "outputId": "280d64fc-ce25-403c-85cb-2352f00cd4e2"
      },
      "outputs": [
        {
          "name": "stdout",
          "output_type": "stream",
          "text": [
            "kaanchokatli is sweet favorite my\n"
          ]
        }
      ],
      "source": [
        "n = \"my favorite sweet  is kaanchokatli\"\n",
        "x  =n.split()\n",
        "w =x[::-1]\n",
        "output =\" \".join(w)\n",
        "\n",
        "print(output)"
      ]
    },
    {
      "cell_type": "code",
      "execution_count": null,
      "metadata": {
        "colab": {
          "base_uri": "https://localhost:8080/"
        },
        "id": "GAIqLpQ9U1r0",
        "outputId": "52d0d8a5-6a80-41a7-db0f-8ea0a917dc08"
      },
      "outputs": [
        {
          "name": "stdout",
          "output_type": "stream",
          "text": [
            "saini abhishek is name my\n"
          ]
        }
      ],
      "source": [
        "n = \"my name is abhishek saini\"\n",
        "x= n.split()\n",
        "w= x[::-1]\n",
        "output =\" \".join(w)\n",
        "print(output)"
      ]
    },
    {
      "cell_type": "code",
      "execution_count": null,
      "metadata": {
        "colab": {
          "base_uri": "https://localhost:8080/"
        },
        "id": "btI4IUAsVp91",
        "outputId": "777ed54c-a826-4afd-fadc-96dac7ba2b5f"
      },
      "outputs": [
        {
          "name": "stdout",
          "output_type": "stream",
          "text": [
            "write a code is : my name is abhishek saini\n",
            "ym eman si kehsihba inias\n"
          ]
        }
      ],
      "source": [
        "n = input(\"write a code is : \")\n",
        "l = n.split()\n",
        "l1 =[]\n",
        "for i in l:\n",
        "  l1.append(i[::-1])\n",
        "output = \" \".join(l1)\n",
        "print(output)"
      ]
    },
    {
      "cell_type": "code",
      "execution_count": null,
      "metadata": {
        "colab": {
          "base_uri": "https://localhost:8080/"
        },
        "id": "Jm3U467UYrVu",
        "outputId": "8b3d74b4-2d81-4c4a-f733-31cba2bebd7b"
      },
      "outputs": [
        {
          "name": "stdout",
          "output_type": "stream",
          "text": [
            "one owt three ruof five xis\n"
          ]
        }
      ],
      "source": [
        "s =\"one two three four five six\"\n",
        "l=n.split()\n",
        "i =0\n",
        "l1=[]\n",
        "while i<len(l):\n",
        "    if i%2==0:\n",
        "      l1.append(l[i])\n",
        "    else:\n",
        "      l1.append(l[i][::-1])\n",
        "    i =i+1\n",
        "output =' '.join(l1)\n",
        "print(output)\n"
      ]
    },
    {
      "cell_type": "code",
      "execution_count": null,
      "metadata": {
        "colab": {
          "base_uri": "https://localhost:8080/"
        },
        "id": "4Ks4dldF70YP",
        "outputId": "9163341e-0393-4515-b8e9-0caa85c21f7f"
      },
      "outputs": [
        {
          "name": "stdout",
          "output_type": "stream",
          "text": [
            "HELLO\n",
            "HELLO\n"
          ]
        }
      ],
      "source": [
        "def shout(text): \n",
        "    return text.upper() \n",
        "    \n",
        "print(shout('Hello')) \n",
        "    \n",
        "yell = shout \n",
        "    \n",
        "print(yell('Hello')) "
      ]
    },
    {
      "cell_type": "code",
      "execution_count": null,
      "metadata": {
        "colab": {
          "base_uri": "https://localhost:8080/"
        },
        "id": "m4XPSxGq8KLW",
        "outputId": "547b9972-f981-4fa4-e36e-d128b96263a8"
      },
      "outputs": [
        {
          "name": "stdout",
          "output_type": "stream",
          "text": [
            "HI, I AM CREATED BY A FUNCTION PASSED AS AN ARGUMENT.\n",
            "hi, i am created by a function passed as an argument.\n"
          ]
        }
      ],
      "source": [
        "def shout(text): \n",
        "    return text.upper() \n",
        "  \n",
        "def whisper(text): \n",
        "    return text.lower() \n",
        "  \n",
        "def greet(func): \n",
        "    # storing the function in a variable \n",
        "    greeting = func(\"Hi, I am created by a function passed as an argument.\") \n",
        "    print(greeting)\n",
        "  \n",
        "greet(shout) \n",
        "greet(whisper) "
      ]
    },
    {
      "cell_type": "code",
      "execution_count": null,
      "metadata": {
        "id": "4w6xAfES_ASN"
      },
      "outputs": [],
      "source": [
        "def tesst01():\n",
        "  op =[1,2,3,4,55,\"abhishek\",\"noun\"]\n",
        "  oup= []\n",
        "  for i in op:\n",
        "    if type(i) == str:\n",
        "      oup.append(i)\n",
        "  return oup"
      ]
    },
    {
      "cell_type": "code",
      "execution_count": null,
      "metadata": {
        "colab": {
          "base_uri": "https://localhost:8080/"
        },
        "id": "NdoY7cZ_oarW",
        "outputId": "5ca0a2fb-6950-4efb-8d68-91c2720c3654"
      },
      "outputs": [
        {
          "data": {
            "text/plain": [
              "['abhishek', 'noun']"
            ]
          },
          "execution_count": 14,
          "metadata": {},
          "output_type": "execute_result"
        }
      ],
      "source": [
        "tesst01()"
      ]
    },
    {
      "cell_type": "code",
      "execution_count": null,
      "metadata": {
        "id": "yW5G80D-pGSw"
      },
      "outputs": [],
      "source": [
        "def test01():\n",
        "  a=5\n",
        "  b=6\n",
        "  sum=a+b\n",
        "  return sum\n",
        "def test02():\n",
        "  c=5\n",
        "  d=6\n",
        "  multiple = c*d\n",
        "  return multiple"
      ]
    },
    {
      "cell_type": "code",
      "execution_count": null,
      "metadata": {
        "colab": {
          "base_uri": "https://localhost:8080/"
        },
        "id": "QRy26DStp0Sg",
        "outputId": "5ff53abe-283b-4310-e2b9-9adc50b16be0"
      },
      "outputs": [
        {
          "data": {
            "text/plain": [
              "30"
            ]
          },
          "execution_count": 20,
          "metadata": {},
          "output_type": "execute_result"
        }
      ],
      "source": [
        "test01()\n",
        "test02()"
      ]
    },
    {
      "cell_type": "code",
      "execution_count": null,
      "metadata": {
        "id": "2gi7eEhtqT94"
      },
      "outputs": [],
      "source": [
        "def op():\n",
        "  print(\"hello world,that can be defined by your own\")"
      ]
    },
    {
      "cell_type": "code",
      "execution_count": null,
      "metadata": {
        "colab": {
          "base_uri": "https://localhost:8080/"
        },
        "id": "iN-hH_ZurN_l",
        "outputId": "708d6915-eab3-41cb-9708-5704c1081e49"
      },
      "outputs": [
        {
          "name": "stdout",
          "output_type": "stream",
          "text": [
            "hello world,that can be defined by your own\n"
          ]
        }
      ],
      "source": [
        "op()"
      ]
    },
    {
      "cell_type": "code",
      "execution_count": null,
      "metadata": {
        "id": "ie8t9_Txrf9m"
      },
      "outputs": [],
      "source": [
        "def test01(a,b):\n",
        "  return a*b"
      ]
    },
    {
      "cell_type": "code",
      "execution_count": null,
      "metadata": {
        "colab": {
          "base_uri": "https://localhost:8080/"
        },
        "id": "ohNx4A2mrqE2",
        "outputId": "f27e31c5-c07d-4592-c356-cc0096cd777e"
      },
      "outputs": [
        {
          "data": {
            "text/plain": [
              "24"
            ]
          },
          "execution_count": 27,
          "metadata": {},
          "output_type": "execute_result"
        }
      ],
      "source": [
        "test01(4,6)"
      ]
    },
    {
      "cell_type": "code",
      "execution_count": null,
      "metadata": {
        "id": "xEiL6vS4sCI8"
      },
      "outputs": [],
      "source": [
        "def calculate_total(exp):\n",
        "  total =0\n",
        "  for item in exp:\n",
        "    total =total+item\n",
        "  return total\n",
        "\n",
        "op_01 = [100,300,660, 680]\n",
        "list_02 =[104,708,660, 686]\n",
        "\n"
      ]
    },
    {
      "cell_type": "code",
      "execution_count": null,
      "metadata": {
        "colab": {
          "base_uri": "https://localhost:8080/"
        },
        "id": "UXex-Caj1uIp",
        "outputId": "cf1dabcf-fb45-4128-dc71-810791abca0d"
      },
      "outputs": [
        {
          "data": {
            "text/plain": [
              "1740"
            ]
          },
          "execution_count": 56,
          "metadata": {},
          "output_type": "execute_result"
        }
      ],
      "source": [
        "calculate_total(op_01)"
      ]
    },
    {
      "cell_type": "code",
      "execution_count": null,
      "metadata": {
        "colab": {
          "base_uri": "https://localhost:8080/"
        },
        "id": "Jv8EAJYj1z8t",
        "outputId": "fd3e2c5c-846a-442d-e23e-91396d315639"
      },
      "outputs": [
        {
          "data": {
            "text/plain": [
              "2158"
            ]
          },
          "execution_count": 57,
          "metadata": {},
          "output_type": "execute_result"
        }
      ],
      "source": [
        "calculate_total(list_02)"
      ]
    },
    {
      "cell_type": "code",
      "execution_count": null,
      "metadata": {
        "id": "Jo2GqWy-9ZLD"
      },
      "outputs": [],
      "source": [
        "def sum(a,b):\n",
        "  print(\"a :\",a)\n",
        "  print(\"b :\",b)\n",
        "  \n",
        "  total = a+b\n",
        "  return total"
      ]
    },
    {
      "cell_type": "code",
      "execution_count": null,
      "metadata": {
        "colab": {
          "base_uri": "https://localhost:8080/"
        },
        "id": "2pSNdZay9w-R",
        "outputId": "715e4714-5958-422a-f30b-c6b6cb011e60"
      },
      "outputs": [
        {
          "name": "stdout",
          "output_type": "stream",
          "text": [
            "a : 77\n",
            "b : 88\n"
          ]
        },
        {
          "data": {
            "text/plain": [
              "165"
            ]
          },
          "execution_count": 60,
          "metadata": {},
          "output_type": "execute_result"
        }
      ],
      "source": [
        "sum(77,88)"
      ]
    },
    {
      "cell_type": "code",
      "execution_count": null,
      "metadata": {
        "colab": {
          "base_uri": "https://localhost:8080/"
        },
        "id": "UBricBVw-j8P",
        "outputId": "aa6f3e13-05bd-432f-c48f-faa1eca5c8e9"
      },
      "outputs": [
        {
          "name": "stdout",
          "output_type": "stream",
          "text": [
            "{1}\n"
          ]
        }
      ],
      "source": [
        "a={1,2,3}\n",
        "b ={2,3,4}\n",
        "op=a.difference(b)\n",
        "print(op)\n"
      ]
    },
    {
      "cell_type": "code",
      "execution_count": null,
      "metadata": {
        "colab": {
          "base_uri": "https://localhost:8080/"
        },
        "id": "UVHvDyaDB3yB",
        "outputId": "e1810a20-89b7-4f71-c081-5da5657d2382"
      },
      "outputs": [
        {
          "name": "stdout",
          "output_type": "stream",
          "text": [
            "<class 'dict'>\n",
            "{'name': 'abhishek saini', 'sub': 'data science', 'topic': 'python function'}\n"
          ]
        }
      ],
      "source": [
        "list_02 ={\n",
        "    \"name\": \"abhishek saini\",\n",
        "    \"sub\": \"data science\",\n",
        "    \"topic\": \"python function\"\n",
        "    }\n",
        "print(type(list_02))\n",
        "print(list_02)"
      ]
    },
    {
      "cell_type": "code",
      "execution_count": null,
      "metadata": {
        "id": "SEAgpTFNDI6F"
      },
      "outputs": [],
      "source": [
        "list=[1,2,3,4,5,6,\"ineuron\",\"google\"]\n"
      ]
    },
    {
      "cell_type": "code",
      "execution_count": null,
      "metadata": {
        "id": "7n7Az3T0T4Mx"
      },
      "outputs": [],
      "source": [
        "def test02(l):\n",
        "  a=1\n",
        "  for i in l:\n",
        "    if type(i)==int:\n",
        "     a=a*i\n",
        "  return a"
      ]
    },
    {
      "cell_type": "code",
      "execution_count": null,
      "metadata": {
        "id": "P9l3AtXsYIaj"
      },
      "outputs": [],
      "source": [
        "test02(list)"
      ]
    },
    {
      "cell_type": "code",
      "execution_count": null,
      "metadata": {
        "colab": {
          "base_uri": "https://localhost:8080/"
        },
        "id": "xMmD288aYvz1",
        "outputId": "10f14523-cea8-4954-d030-fa0e5d05fa36"
      },
      "outputs": [
        {
          "name": "stdout",
          "output_type": "stream",
          "text": [
            "Looking in indexes: https://pypi.org/simple, https://us-python.pkg.dev/colab-wheels/public/simple/\n",
            "Collecting python-docx\n",
            "  Downloading python-docx-0.8.11.tar.gz (5.6 MB)\n",
            "\u001b[K     |████████████████████████████████| 5.6 MB 7.5 MB/s \n",
            "\u001b[?25hRequirement already satisfied: lxml>=2.3.2 in /usr/local/lib/python3.7/dist-packages (from python-docx) (4.9.1)\n",
            "Building wheels for collected packages: python-docx\n",
            "  Building wheel for python-docx (setup.py) ... \u001b[?25l\u001b[?25hdone\n",
            "  Created wheel for python-docx: filename=python_docx-0.8.11-py3-none-any.whl size=184507 sha256=4311d66ce8331f61f4c6af6ea0d9276b333ee42c8d0f4bd22a2ecf6b20cf9f1d\n",
            "  Stored in directory: /root/.cache/pip/wheels/f6/6f/b9/d798122a8b55b74ad30b5f52b01482169b445fbb84a11797a6\n",
            "Successfully built python-docx\n",
            "Installing collected packages: python-docx\n",
            "Successfully installed python-docx-0.8.11\n"
          ]
        }
      ],
      "source": [
        "pip install python-docx\n"
      ]
    },
    {
      "cell_type": "code",
      "execution_count": null,
      "metadata": {
        "colab": {
          "base_uri": "https://localhost:8080/",
          "height": 328
        },
        "id": "S5N-gJe1ZmFF",
        "outputId": "0132ecd1-24d4-4426-dd48-89b3accef067"
      },
      "outputs": [
        {
          "ename": "PackageNotFoundError",
          "evalue": "ignored",
          "output_type": "error",
          "traceback": [
            "\u001b[0;31m---------------------------------------------------------------------------\u001b[0m",
            "\u001b[0;31mPackageNotFoundError\u001b[0m                      Traceback (most recent call last)",
            "\u001b[0;32m<ipython-input-25-d031cb7913e8>\u001b[0m in \u001b[0;36m<module>\u001b[0;34m\u001b[0m\n\u001b[1;32m      1\u001b[0m \u001b[0;32mimport\u001b[0m \u001b[0mdocx\u001b[0m\u001b[0;34m\u001b[0m\u001b[0;34m\u001b[0m\u001b[0m\n\u001b[0;32m----> 2\u001b[0;31m \u001b[0mdoc\u001b[0m \u001b[0;34m=\u001b[0m \u001b[0mdocx\u001b[0m\u001b[0;34m.\u001b[0m\u001b[0mDocument\u001b[0m\u001b[0;34m(\u001b[0m\u001b[0;34m\"test 02.docx\"\u001b[0m\u001b[0;34m)\u001b[0m\u001b[0;34m\u001b[0m\u001b[0;34m\u001b[0m\u001b[0m\n\u001b[0m",
            "\u001b[0;32m/usr/local/lib/python3.7/dist-packages/docx/api.py\u001b[0m in \u001b[0;36mDocument\u001b[0;34m(docx)\u001b[0m\n\u001b[1;32m     23\u001b[0m     \"\"\"\n\u001b[1;32m     24\u001b[0m     \u001b[0mdocx\u001b[0m \u001b[0;34m=\u001b[0m \u001b[0m_default_docx_path\u001b[0m\u001b[0;34m(\u001b[0m\u001b[0;34m)\u001b[0m \u001b[0;32mif\u001b[0m \u001b[0mdocx\u001b[0m \u001b[0;32mis\u001b[0m \u001b[0;32mNone\u001b[0m \u001b[0;32melse\u001b[0m \u001b[0mdocx\u001b[0m\u001b[0;34m\u001b[0m\u001b[0;34m\u001b[0m\u001b[0m\n\u001b[0;32m---> 25\u001b[0;31m     \u001b[0mdocument_part\u001b[0m \u001b[0;34m=\u001b[0m \u001b[0mPackage\u001b[0m\u001b[0;34m.\u001b[0m\u001b[0mopen\u001b[0m\u001b[0;34m(\u001b[0m\u001b[0mdocx\u001b[0m\u001b[0;34m)\u001b[0m\u001b[0;34m.\u001b[0m\u001b[0mmain_document_part\u001b[0m\u001b[0;34m\u001b[0m\u001b[0;34m\u001b[0m\u001b[0m\n\u001b[0m\u001b[1;32m     26\u001b[0m     \u001b[0;32mif\u001b[0m \u001b[0mdocument_part\u001b[0m\u001b[0;34m.\u001b[0m\u001b[0mcontent_type\u001b[0m \u001b[0;34m!=\u001b[0m \u001b[0mCT\u001b[0m\u001b[0;34m.\u001b[0m\u001b[0mWML_DOCUMENT_MAIN\u001b[0m\u001b[0;34m:\u001b[0m\u001b[0;34m\u001b[0m\u001b[0;34m\u001b[0m\u001b[0m\n\u001b[1;32m     27\u001b[0m         \u001b[0mtmpl\u001b[0m \u001b[0;34m=\u001b[0m \u001b[0;34m\"file '%s' is not a Word file, content type is '%s'\"\u001b[0m\u001b[0;34m\u001b[0m\u001b[0;34m\u001b[0m\u001b[0m\n",
            "\u001b[0;32m/usr/local/lib/python3.7/dist-packages/docx/opc/package.py\u001b[0m in \u001b[0;36mopen\u001b[0;34m(cls, pkg_file)\u001b[0m\n\u001b[1;32m    126\u001b[0m         \u001b[0;34m*\u001b[0m\u001b[0mpkg_file\u001b[0m\u001b[0;34m*\u001b[0m\u001b[0;34m.\u001b[0m\u001b[0;34m\u001b[0m\u001b[0;34m\u001b[0m\u001b[0m\n\u001b[1;32m    127\u001b[0m         \"\"\"\n\u001b[0;32m--> 128\u001b[0;31m         \u001b[0mpkg_reader\u001b[0m \u001b[0;34m=\u001b[0m \u001b[0mPackageReader\u001b[0m\u001b[0;34m.\u001b[0m\u001b[0mfrom_file\u001b[0m\u001b[0;34m(\u001b[0m\u001b[0mpkg_file\u001b[0m\u001b[0;34m)\u001b[0m\u001b[0;34m\u001b[0m\u001b[0;34m\u001b[0m\u001b[0m\n\u001b[0m\u001b[1;32m    129\u001b[0m         \u001b[0mpackage\u001b[0m \u001b[0;34m=\u001b[0m \u001b[0mcls\u001b[0m\u001b[0;34m(\u001b[0m\u001b[0;34m)\u001b[0m\u001b[0;34m\u001b[0m\u001b[0;34m\u001b[0m\u001b[0m\n\u001b[1;32m    130\u001b[0m         \u001b[0mUnmarshaller\u001b[0m\u001b[0;34m.\u001b[0m\u001b[0munmarshal\u001b[0m\u001b[0;34m(\u001b[0m\u001b[0mpkg_reader\u001b[0m\u001b[0;34m,\u001b[0m \u001b[0mpackage\u001b[0m\u001b[0;34m,\u001b[0m \u001b[0mPartFactory\u001b[0m\u001b[0;34m)\u001b[0m\u001b[0;34m\u001b[0m\u001b[0;34m\u001b[0m\u001b[0m\n",
            "\u001b[0;32m/usr/local/lib/python3.7/dist-packages/docx/opc/pkgreader.py\u001b[0m in \u001b[0;36mfrom_file\u001b[0;34m(pkg_file)\u001b[0m\n\u001b[1;32m     30\u001b[0m         \u001b[0mReturn\u001b[0m \u001b[0ma\u001b[0m \u001b[0;34m|\u001b[0m\u001b[0mPackageReader\u001b[0m\u001b[0;34m|\u001b[0m \u001b[0minstance\u001b[0m \u001b[0mloaded\u001b[0m \u001b[0;32mwith\u001b[0m \u001b[0mcontents\u001b[0m \u001b[0mof\u001b[0m \u001b[0;34m*\u001b[0m\u001b[0mpkg_file\u001b[0m\u001b[0;34m*\u001b[0m\u001b[0;34m.\u001b[0m\u001b[0;34m\u001b[0m\u001b[0;34m\u001b[0m\u001b[0m\n\u001b[1;32m     31\u001b[0m         \"\"\"\n\u001b[0;32m---> 32\u001b[0;31m         \u001b[0mphys_reader\u001b[0m \u001b[0;34m=\u001b[0m \u001b[0mPhysPkgReader\u001b[0m\u001b[0;34m(\u001b[0m\u001b[0mpkg_file\u001b[0m\u001b[0;34m)\u001b[0m\u001b[0;34m\u001b[0m\u001b[0;34m\u001b[0m\u001b[0m\n\u001b[0m\u001b[1;32m     33\u001b[0m         \u001b[0mcontent_types\u001b[0m \u001b[0;34m=\u001b[0m \u001b[0m_ContentTypeMap\u001b[0m\u001b[0;34m.\u001b[0m\u001b[0mfrom_xml\u001b[0m\u001b[0;34m(\u001b[0m\u001b[0mphys_reader\u001b[0m\u001b[0;34m.\u001b[0m\u001b[0mcontent_types_xml\u001b[0m\u001b[0;34m)\u001b[0m\u001b[0;34m\u001b[0m\u001b[0;34m\u001b[0m\u001b[0m\n\u001b[1;32m     34\u001b[0m         \u001b[0mpkg_srels\u001b[0m \u001b[0;34m=\u001b[0m \u001b[0mPackageReader\u001b[0m\u001b[0;34m.\u001b[0m\u001b[0m_srels_for\u001b[0m\u001b[0;34m(\u001b[0m\u001b[0mphys_reader\u001b[0m\u001b[0;34m,\u001b[0m \u001b[0mPACKAGE_URI\u001b[0m\u001b[0;34m)\u001b[0m\u001b[0;34m\u001b[0m\u001b[0;34m\u001b[0m\u001b[0m\n",
            "\u001b[0;32m/usr/local/lib/python3.7/dist-packages/docx/opc/phys_pkg.py\u001b[0m in \u001b[0;36m__new__\u001b[0;34m(cls, pkg_file)\u001b[0m\n\u001b[1;32m     29\u001b[0m             \u001b[0;32melse\u001b[0m\u001b[0;34m:\u001b[0m\u001b[0;34m\u001b[0m\u001b[0;34m\u001b[0m\u001b[0m\n\u001b[1;32m     30\u001b[0m                 raise PackageNotFoundError(\n\u001b[0;32m---> 31\u001b[0;31m                     \u001b[0;34m\"Package not found at '%s'\"\u001b[0m \u001b[0;34m%\u001b[0m \u001b[0mpkg_file\u001b[0m\u001b[0;34m\u001b[0m\u001b[0;34m\u001b[0m\u001b[0m\n\u001b[0m\u001b[1;32m     32\u001b[0m                 )\n\u001b[1;32m     33\u001b[0m         \u001b[0;32melse\u001b[0m\u001b[0;34m:\u001b[0m  \u001b[0;31m# assume it's a stream and pass it to Zip reader to sort out\u001b[0m\u001b[0;34m\u001b[0m\u001b[0;34m\u001b[0m\u001b[0m\n",
            "\u001b[0;31mPackageNotFoundError\u001b[0m: Package not found at 'test 02.docx'"
          ]
        }
      ],
      "source": [
        "import docx\n",
        "doc = docx.Document(\"test 02.docx\")"
      ]
    },
    {
      "cell_type": "code",
      "execution_count": null,
      "metadata": {
        "colab": {
          "base_uri": "https://localhost:8080/"
        },
        "id": "kBlOx77y58ac",
        "outputId": "317731ca-48e5-4c43-a1b7-e0d228254984"
      },
      "outputs": [
        {
          "output_type": "stream",
          "name": "stdout",
          "text": [
            "calcaulator\n",
            "choice your first digit :45\n",
            "choice the second digit : 54\n",
            "choice your sign:+\n",
            "99\n"
          ]
        }
      ],
      "source": [
        "print(\"calcaulator\")\n",
        "a= int(input(\"choice your first digit :\"))\n",
        "b = int(input(\"choice the second digit :\"))\n",
        "ui = input( \"choice your sign:\")\n",
        "if ui=='+':\n",
        "  print(a+b)\n",
        "elif ui==\"-\":\n",
        "  print(a-b)\n",
        "elif ui==\"*\":\n",
        "  print(a*b)\n",
        "elif ui==\"/\":\n",
        "  print(a/b)\n",
        "else:\n",
        "  print(\"you choice invalid operations\")\n",
        " "
      ]
    },
    {
      "cell_type": "code",
      "execution_count": null,
      "metadata": {
        "colab": {
          "base_uri": "https://localhost:8080/"
        },
        "id": "gZG-TEpvzqBr",
        "outputId": "3b83904c-1b4a-406e-cd6e-7727eacd96d0"
      },
      "outputs": [
        {
          "name": "stdout",
          "output_type": "stream",
          "text": [
            "what type of arithmetic operation you want to do?\n",
            "type + for addition\n",
            "type - for subtraction\n",
            "type / for division\n",
            "type* for multiplication\n",
            "\n",
            "*\n",
            "enter the first number\n",
            "90\n",
            "enter the second number\n",
            "\n",
            "52\n",
            "4680\n"
          ]
        }
      ],
      "source": [
        "print(\"what type of arithmetic operation you want to do?\\n\"\n",
        "      \"type + for addition\\n\"\n",
        "      \"type - for subtraction\\n\"\n",
        "      \"type / for division\\n\"\n",
        "      \"type* for multiplication\\n\")\n",
        " \n",
        " \n",
        "# taking input\n",
        "type_of_calculation = input()\n",
        " \n",
        "print(\"enter the first number\")\n",
        "A = int(input())\n",
        " \n",
        "print(\"enter the second number\\n\")\n",
        "B = int(input())\n",
        " \n",
        "b = \"+\"\n",
        "c = \"-\"\n",
        "d = \"*\"\n",
        "e = \"/\"\n",
        " \n",
        " \n",
        "# setting normal and false condition for calculator\n",
        "if type_of_calculation == b:\n",
        "    # for addition\n",
        "    if (A == 53 and B == 9) or (A == 90 and B == 52):\n",
        "        print(97)\n",
        "    else:\n",
        "        print(A+B)\n",
        "elif type_of_calculation == c:\n",
        "   \n",
        "    # for subtraction\n",
        "    print(A-B)\n",
        "elif type_of_calculation == d:\n",
        "   \n",
        "    # for multiplication\n",
        "    if A == 45 and B == 3 or A == 4 and B == 67:\n",
        "        print(575)\n",
        "    else:\n",
        "        print(A*B)\n",
        "elif type_of_calculation == e:\n",
        "   \n",
        "    # for division\n",
        "    if A == 5 and B == 63:\n",
        "        print(40)\n",
        "    else:\n",
        "        print(A/B)"
      ]
    },
    {
      "cell_type": "code",
      "execution_count": null,
      "metadata": {
        "id": "reZfFQPPi5uR"
      },
      "outputs": [],
      "source": [
        "list_44 =[1,2,3,4,4,4,4,4,4,45,655,4,5,5,6,65,5]\n",
        "\n",
        "for i in list_44:\n",
        "  sum_77 =sum_77 + list_44\n",
        "  print(sum_77)"
      ]
    },
    {
      "cell_type": "code",
      "execution_count": null,
      "metadata": {
        "id": "VYOin_r59SrS"
      },
      "outputs": [],
      "source": [
        "def factorial(n):\n",
        "  if n ==0:\n",
        "    print(0)\n",
        "  elif n==0 or n==1:\n",
        "    return 1\n",
        "  else:\n",
        "    fact =1\n",
        "    while n>1:\n",
        "      fact *= n\n",
        "      n -= 1\n",
        "    return fact\n",
        "def factorial_2(n):\n",
        "  if n ==0:\n",
        "    print(0)\n",
        "  elif n==0 or n==1:\n",
        "    return 1\n",
        "  else:\n",
        "    fact =1\n",
        "    while n>1:\n",
        "      fact *= n\n",
        "      n -= 1\n",
        "    return fact\n"
      ]
    },
    {
      "cell_type": "code",
      "execution_count": null,
      "metadata": {
        "colab": {
          "base_uri": "https://localhost:8080/"
        },
        "id": "S8BJNh6R-fB1",
        "outputId": "e803fdab-8056-4eb1-f2b9-d1fed785f237"
      },
      "outputs": [
        {
          "output_type": "stream",
          "name": "stdout",
          "text": [
            "39916800\n",
            "385620482362580421735677065923463640617493109590223590278828403276373402575165543560686168588507361534030051833058916347592172932262498857766114955245039357760034644709279247692495585280000000000000000000000000000000\n"
          ]
        }
      ],
      "source": [
        "print(factorial(11))\n",
        "print(factorial_2(128))\n",
        "\n"
      ]
    },
    {
      "cell_type": "code",
      "execution_count": null,
      "metadata": {
        "id": "KFnUUQ99B16y"
      },
      "outputs": [],
      "source": [
        "def fibonacci(n):\n",
        "  if n < 0:\n",
        "    print(\"invaild \")\n",
        "  if n==0:\n",
        "    return 0\n",
        "  elif n==1 or n==2:\n",
        "    return 1\n",
        "  \n",
        "    \n",
        "  else:\n",
        "    return fibonacci(n-1) + fibonacci(n-2) \n",
        "# 0,1,1,2,5,6\n",
        "\n"
      ]
    },
    {
      "cell_type": "code",
      "execution_count": null,
      "metadata": {
        "colab": {
          "base_uri": "https://localhost:8080/"
        },
        "id": "j1Feu5WJD2F4",
        "outputId": "74a55fb8-a1ca-4b78-85cb-1a836b9871d1"
      },
      "outputs": [
        {
          "data": {
            "text/plain": [
              "89"
            ]
          },
          "execution_count": 63,
          "metadata": {},
          "output_type": "execute_result"
        }
      ],
      "source": [
        "fibonacci(11)"
      ]
    },
    {
      "cell_type": "code",
      "execution_count": null,
      "metadata": {
        "colab": {
          "base_uri": "https://localhost:8080/",
          "height": 252
        },
        "id": "7hW3KeAQb8nE",
        "outputId": "463934f3-d3de-4f2a-ad53-bab307b9ea40"
      },
      "outputs": [
        {
          "name": "stdout",
          "output_type": "stream",
          "text": [
            " Enter number n45\n"
          ]
        },
        {
          "ename": "TypeError",
          "evalue": "ignored",
          "output_type": "error",
          "traceback": [
            "\u001b[0;31m---------------------------------------------------------------------------\u001b[0m",
            "\u001b[0;31mTypeError\u001b[0m                                 Traceback (most recent call last)",
            "\u001b[0;32m<ipython-input-69-f11e1b71f4d6>\u001b[0m in \u001b[0;36m<module>\u001b[0;34m\u001b[0m\n\u001b[1;32m      1\u001b[0m \u001b[0mn\u001b[0m \u001b[0;34m=\u001b[0m \u001b[0minput\u001b[0m\u001b[0;34m(\u001b[0m\u001b[0;34m' Enter number n'\u001b[0m\u001b[0;34m)\u001b[0m\u001b[0;34m\u001b[0m\u001b[0;34m\u001b[0m\u001b[0m\n\u001b[1;32m      2\u001b[0m \u001b[0mSum\u001b[0m \u001b[0;34m=\u001b[0m \u001b[0;36m0\u001b[0m\u001b[0;34m\u001b[0m\u001b[0;34m\u001b[0m\u001b[0m\n\u001b[0;32m----> 3\u001b[0;31m \u001b[0;32mfor\u001b[0m \u001b[0mi\u001b[0m \u001b[0;32min\u001b[0m \u001b[0mrange\u001b[0m\u001b[0;34m(\u001b[0m\u001b[0;36m1\u001b[0m\u001b[0;34m,\u001b[0m \u001b[0mn\u001b[0m \u001b[0;34m)\u001b[0m\u001b[0;34m:\u001b[0m\u001b[0;34m\u001b[0m\u001b[0;34m\u001b[0m\u001b[0m\n\u001b[0m\u001b[1;32m      4\u001b[0m       \u001b[0mSum\u001b[0m \u001b[0;34m+=\u001b[0m \u001b[0mi\u001b[0m\u001b[0;34m\u001b[0m\u001b[0;34m\u001b[0m\u001b[0m\n\u001b[1;32m      5\u001b[0m \u001b[0mprint\u001b[0m\u001b[0;34m(\u001b[0m\u001b[0;34m\" sum of the series is :\"\u001b[0m\u001b[0;34m,\u001b[0m \u001b[0mSum\u001b[0m \u001b[0;34m)\u001b[0m\u001b[0;34m\u001b[0m\u001b[0;34m\u001b[0m\u001b[0m\n",
            "\u001b[0;31mTypeError\u001b[0m: 'str' object cannot be interpreted as an integer"
          ]
        }
      ],
      "source": [
        "n = input(' Enter number n') \n",
        "Sum = 0 \n",
        "for i in range(1, n ):\n",
        "      Sum += i \n",
        "print(\" sum of the series is :\", Sum ) "
      ]
    },
    {
      "cell_type": "code",
      "execution_count": null,
      "metadata": {
        "colab": {
          "base_uri": "https://localhost:8080/"
        },
        "id": "AGIbpj44rhoI",
        "outputId": "cc866633-3417-498b-aff0-a0393c4265b2"
      },
      "outputs": [
        {
          "name": "stdout",
          "output_type": "stream",
          "text": [
            "enter the numbers term of the series  :4\n",
            "1 3 7 15 "
          ]
        }
      ],
      "source": [
        "n = int(input(\"enter the numbers term of the series  :\"))\n",
        "i =1\n",
        "x=0\n",
        "while i<=n:\n",
        " x= x * 2+1\n",
        " print(x,end=\" \")\n",
        " i=i+1"
      ]
    },
    {
      "cell_type": "code",
      "execution_count": null,
      "metadata": {
        "colab": {
          "base_uri": "https://localhost:8080/"
        },
        "id": "DOcNMi3nuv_A",
        "outputId": "d5c6271e-d681-459f-8a39-b1783f8b5156"
      },
      "outputs": [
        {
          "name": "stdout",
          "output_type": "stream",
          "text": [
            "enter the numbers term of the series :6\n",
            "1 2 2 3 3 3 4 4 4 4 5 5 5 5 5 6 6 6 6 6 6 7 7 7 7 7 7 7 "
          ]
        }
      ],
      "source": [
        "#1,2,2,3,3,3,4,4,4,4,4\n",
        "n = int(input(\"enter the numbers term of the series :\"))\n",
        "i=1\n",
        "\n",
        "while i<=7:\n",
        "  j=1\n",
        "  while j<=i:\n",
        "    print(i,end=\" \")\n",
        "    j=j+1\n",
        "  i=i+1\n",
        "  \n",
        "  "
      ]
    },
    {
      "cell_type": "code",
      "execution_count": null,
      "metadata": {
        "colab": {
          "base_uri": "https://localhost:8080/"
        },
        "id": "MlhRj9GXyB9-",
        "outputId": "acba6e72-f93d-4db0-f619-d1bea34b144b"
      },
      "outputs": [
        {
          "name": "stdout",
          "output_type": "stream",
          "text": [
            "enter the series which you want :5\n",
            "0 1 3 6 10 "
          ]
        }
      ],
      "source": [
        "n = int(input(\"enter the series which you want :\"))\n",
        "x = 0\n",
        "i = 1\n",
        "while i<=n:\n",
        "  print(x,end=' ')\n",
        "  x=x+i\n",
        "  i=i+1\n"
      ]
    },
    {
      "cell_type": "code",
      "execution_count": null,
      "metadata": {
        "colab": {
          "base_uri": "https://localhost:8080/"
        },
        "id": "qmxha2x203Ub",
        "outputId": "9e113019-37e9-4267-dad3-e8a7a4fce604"
      },
      "outputs": [
        {
          "name": "stdout",
          "output_type": "stream",
          "text": [
            "Enter the prime number as you wish:23\n",
            "23 is the prime number\n"
          ]
        }
      ],
      "source": [
        "n = int(input(\"Enter the prime number as you wish:\"))\n",
        "for x in range(2,n):\n",
        "  if n % x==0:\n",
        "   break\n",
        "if n%x==1:\n",
        "  print(n,\"is the prime number\")\n",
        "else:\n",
        "  print(n,\"is not a prime number\")\n"
      ]
    },
    {
      "cell_type": "code",
      "execution_count": null,
      "metadata": {
        "colab": {
          "base_uri": "https://localhost:8080/"
        },
        "id": "LrDwQCqKpJZP",
        "outputId": "a7596590-4360-44de-9c7a-480e3c557c18"
      },
      "outputs": [
        {
          "name": "stdout",
          "output_type": "stream",
          "text": [
            "enter the series the series5\n",
            "1\n",
            "1 1 1 1 1 "
          ]
        }
      ],
      "source": [
        "n = int(input(\"enter the series the series\"))\n",
        "sum =0\n",
        "for i in range(1,n+1):\n",
        "  print(ind,end=\" \")\n",
        "  i=i+ind"
      ]
    },
    {
      "cell_type": "code",
      "execution_count": null,
      "metadata": {
        "colab": {
          "base_uri": "https://localhost:8080/"
        },
        "id": "qtENnfKS0mx1",
        "outputId": "7af96fa7-74e0-4b2a-c3ae-0b0c909eaf2e"
      },
      "outputs": [
        {
          "name": "stdout",
          "output_type": "stream",
          "text": [
            "2000\n",
            "1500\n",
            "you are expense is right so be ready to expense\n"
          ]
        }
      ],
      "source": [
        "bank_account =int(input())\n",
        "your_won_expense =int(input())\n",
        "if bank_account <= 10000 and bank_account <= 15000:\n",
        "  print(\"you are expense is right so be ready to expense\")\n",
        "else:\n",
        "  print(\"your expense is very high so plz be low as per reqired\")"
      ]
    },
    {
      "cell_type": "code",
      "execution_count": null,
      "metadata": {
        "colab": {
          "background_save": true
        },
        "id": "bmItQGU12PqW"
      },
      "outputs": [],
      "source": [
        "import time\n",
        "from random import randint\n",
        "\n",
        "for i in range(1,45):\n",
        "  print(\" \")\n",
        "\n",
        "s=\" \"\n",
        "\n",
        "for i in range(1,100):\n",
        "  count= randint(1,100)\n",
        "  while (count > 0):\n",
        "    s=s+ \" \"\n",
        "    count -= 1\n",
        "\n",
        "  if (i%10==0):\n",
        "     print(s+ \"happy brdy\") \n",
        "  else:\n",
        "    print(s+ \"*\")\n",
        "    s=\" \"\n",
        "    time.sleep(0.10)\n"
      ]
    }
  ],
  "metadata": {
    "colab": {
      "provenance": [],
      "authorship_tag": "ABX9TyOnACfO4UIhLjQJn48SSLMF",
      "include_colab_link": true
    },
    "kernelspec": {
      "display_name": "Python 3",
      "name": "python3"
    },
    "language_info": {
      "name": "python"
    }
  },
  "nbformat": 4,
  "nbformat_minor": 0
}